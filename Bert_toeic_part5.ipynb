{
  "nbformat": 4,
  "nbformat_minor": 0,
  "metadata": {
    "colab": {
      "name": "toeic_bert_part5.ipynb",
      "provenance": [],
      "machine_shape": "hm"
    },
    "kernelspec": {
      "name": "python3",
      "display_name": "Python 3"
    },
    "widgets": {
      "application/vnd.jupyter.widget-state+json": {
        "4aa06c0fbb3c4d1f9da245ff062357b9": {
          "model_module": "@jupyter-widgets/controls",
          "model_name": "HBoxModel",
          "state": {
            "_view_name": "HBoxView",
            "_dom_classes": [],
            "_model_name": "HBoxModel",
            "_view_module": "@jupyter-widgets/controls",
            "_model_module_version": "1.5.0",
            "_view_count": null,
            "_view_module_version": "1.5.0",
            "box_style": "",
            "layout": "IPY_MODEL_6cd6e0669cca4efa9e80a1a203d81a07",
            "_model_module": "@jupyter-widgets/controls",
            "children": [
              "IPY_MODEL_b6a68a0062a34a629baf47a2a38bf08f",
              "IPY_MODEL_1898815b282c460da53777886679b734"
            ]
          }
        },
        "6cd6e0669cca4efa9e80a1a203d81a07": {
          "model_module": "@jupyter-widgets/base",
          "model_name": "LayoutModel",
          "state": {
            "_view_name": "LayoutView",
            "grid_template_rows": null,
            "right": null,
            "justify_content": null,
            "_view_module": "@jupyter-widgets/base",
            "overflow": null,
            "_model_module_version": "1.2.0",
            "_view_count": null,
            "flex_flow": null,
            "width": null,
            "min_width": null,
            "border": null,
            "align_items": null,
            "bottom": null,
            "_model_module": "@jupyter-widgets/base",
            "top": null,
            "grid_column": null,
            "overflow_y": null,
            "overflow_x": null,
            "grid_auto_flow": null,
            "grid_area": null,
            "grid_template_columns": null,
            "flex": null,
            "_model_name": "LayoutModel",
            "justify_items": null,
            "grid_row": null,
            "max_height": null,
            "align_content": null,
            "visibility": null,
            "align_self": null,
            "height": null,
            "min_height": null,
            "padding": null,
            "grid_auto_rows": null,
            "grid_gap": null,
            "max_width": null,
            "order": null,
            "_view_module_version": "1.2.0",
            "grid_template_areas": null,
            "object_position": null,
            "object_fit": null,
            "grid_auto_columns": null,
            "margin": null,
            "display": null,
            "left": null
          }
        },
        "b6a68a0062a34a629baf47a2a38bf08f": {
          "model_module": "@jupyter-widgets/controls",
          "model_name": "FloatProgressModel",
          "state": {
            "_view_name": "ProgressView",
            "style": "IPY_MODEL_1c1710748b3047bfb94822b3f9894a38",
            "_dom_classes": [],
            "description": "Downloading: 100%",
            "_model_name": "FloatProgressModel",
            "bar_style": "success",
            "max": 231508,
            "_view_module": "@jupyter-widgets/controls",
            "_model_module_version": "1.5.0",
            "value": 231508,
            "_view_count": null,
            "_view_module_version": "1.5.0",
            "orientation": "horizontal",
            "min": 0,
            "description_tooltip": null,
            "_model_module": "@jupyter-widgets/controls",
            "layout": "IPY_MODEL_ee78850bd86a432692f45306c2ce3902"
          }
        },
        "1898815b282c460da53777886679b734": {
          "model_module": "@jupyter-widgets/controls",
          "model_name": "HTMLModel",
          "state": {
            "_view_name": "HTMLView",
            "style": "IPY_MODEL_c990e8e096e944b4aac5a74ac70f5d30",
            "_dom_classes": [],
            "description": "",
            "_model_name": "HTMLModel",
            "placeholder": "​",
            "_view_module": "@jupyter-widgets/controls",
            "_model_module_version": "1.5.0",
            "value": " 232k/232k [00:02&lt;00:00, 95.2kB/s]",
            "_view_count": null,
            "_view_module_version": "1.5.0",
            "description_tooltip": null,
            "_model_module": "@jupyter-widgets/controls",
            "layout": "IPY_MODEL_c1a033b7e1364fa08c6c3b5bc39f44db"
          }
        },
        "1c1710748b3047bfb94822b3f9894a38": {
          "model_module": "@jupyter-widgets/controls",
          "model_name": "ProgressStyleModel",
          "state": {
            "_view_name": "StyleView",
            "_model_name": "ProgressStyleModel",
            "description_width": "initial",
            "_view_module": "@jupyter-widgets/base",
            "_model_module_version": "1.5.0",
            "_view_count": null,
            "_view_module_version": "1.2.0",
            "bar_color": null,
            "_model_module": "@jupyter-widgets/controls"
          }
        },
        "ee78850bd86a432692f45306c2ce3902": {
          "model_module": "@jupyter-widgets/base",
          "model_name": "LayoutModel",
          "state": {
            "_view_name": "LayoutView",
            "grid_template_rows": null,
            "right": null,
            "justify_content": null,
            "_view_module": "@jupyter-widgets/base",
            "overflow": null,
            "_model_module_version": "1.2.0",
            "_view_count": null,
            "flex_flow": null,
            "width": null,
            "min_width": null,
            "border": null,
            "align_items": null,
            "bottom": null,
            "_model_module": "@jupyter-widgets/base",
            "top": null,
            "grid_column": null,
            "overflow_y": null,
            "overflow_x": null,
            "grid_auto_flow": null,
            "grid_area": null,
            "grid_template_columns": null,
            "flex": null,
            "_model_name": "LayoutModel",
            "justify_items": null,
            "grid_row": null,
            "max_height": null,
            "align_content": null,
            "visibility": null,
            "align_self": null,
            "height": null,
            "min_height": null,
            "padding": null,
            "grid_auto_rows": null,
            "grid_gap": null,
            "max_width": null,
            "order": null,
            "_view_module_version": "1.2.0",
            "grid_template_areas": null,
            "object_position": null,
            "object_fit": null,
            "grid_auto_columns": null,
            "margin": null,
            "display": null,
            "left": null
          }
        },
        "c990e8e096e944b4aac5a74ac70f5d30": {
          "model_module": "@jupyter-widgets/controls",
          "model_name": "DescriptionStyleModel",
          "state": {
            "_view_name": "StyleView",
            "_model_name": "DescriptionStyleModel",
            "description_width": "",
            "_view_module": "@jupyter-widgets/base",
            "_model_module_version": "1.5.0",
            "_view_count": null,
            "_view_module_version": "1.2.0",
            "_model_module": "@jupyter-widgets/controls"
          }
        },
        "c1a033b7e1364fa08c6c3b5bc39f44db": {
          "model_module": "@jupyter-widgets/base",
          "model_name": "LayoutModel",
          "state": {
            "_view_name": "LayoutView",
            "grid_template_rows": null,
            "right": null,
            "justify_content": null,
            "_view_module": "@jupyter-widgets/base",
            "overflow": null,
            "_model_module_version": "1.2.0",
            "_view_count": null,
            "flex_flow": null,
            "width": null,
            "min_width": null,
            "border": null,
            "align_items": null,
            "bottom": null,
            "_model_module": "@jupyter-widgets/base",
            "top": null,
            "grid_column": null,
            "overflow_y": null,
            "overflow_x": null,
            "grid_auto_flow": null,
            "grid_area": null,
            "grid_template_columns": null,
            "flex": null,
            "_model_name": "LayoutModel",
            "justify_items": null,
            "grid_row": null,
            "max_height": null,
            "align_content": null,
            "visibility": null,
            "align_self": null,
            "height": null,
            "min_height": null,
            "padding": null,
            "grid_auto_rows": null,
            "grid_gap": null,
            "max_width": null,
            "order": null,
            "_view_module_version": "1.2.0",
            "grid_template_areas": null,
            "object_position": null,
            "object_fit": null,
            "grid_auto_columns": null,
            "margin": null,
            "display": null,
            "left": null
          }
        },
        "d0357b263d6c43b7bff21553de820dbe": {
          "model_module": "@jupyter-widgets/controls",
          "model_name": "HBoxModel",
          "state": {
            "_view_name": "HBoxView",
            "_dom_classes": [],
            "_model_name": "HBoxModel",
            "_view_module": "@jupyter-widgets/controls",
            "_model_module_version": "1.5.0",
            "_view_count": null,
            "_view_module_version": "1.5.0",
            "box_style": "",
            "layout": "IPY_MODEL_4fc0c1bbdd124d5aa71ea9f3014a6ca1",
            "_model_module": "@jupyter-widgets/controls",
            "children": [
              "IPY_MODEL_afdddad5f604421692e62e076ce12cf7",
              "IPY_MODEL_3fe11619a7d04c2ca3dd013e246a7cc2"
            ]
          }
        },
        "4fc0c1bbdd124d5aa71ea9f3014a6ca1": {
          "model_module": "@jupyter-widgets/base",
          "model_name": "LayoutModel",
          "state": {
            "_view_name": "LayoutView",
            "grid_template_rows": null,
            "right": null,
            "justify_content": null,
            "_view_module": "@jupyter-widgets/base",
            "overflow": null,
            "_model_module_version": "1.2.0",
            "_view_count": null,
            "flex_flow": null,
            "width": null,
            "min_width": null,
            "border": null,
            "align_items": null,
            "bottom": null,
            "_model_module": "@jupyter-widgets/base",
            "top": null,
            "grid_column": null,
            "overflow_y": null,
            "overflow_x": null,
            "grid_auto_flow": null,
            "grid_area": null,
            "grid_template_columns": null,
            "flex": null,
            "_model_name": "LayoutModel",
            "justify_items": null,
            "grid_row": null,
            "max_height": null,
            "align_content": null,
            "visibility": null,
            "align_self": null,
            "height": null,
            "min_height": null,
            "padding": null,
            "grid_auto_rows": null,
            "grid_gap": null,
            "max_width": null,
            "order": null,
            "_view_module_version": "1.2.0",
            "grid_template_areas": null,
            "object_position": null,
            "object_fit": null,
            "grid_auto_columns": null,
            "margin": null,
            "display": null,
            "left": null
          }
        },
        "afdddad5f604421692e62e076ce12cf7": {
          "model_module": "@jupyter-widgets/controls",
          "model_name": "FloatProgressModel",
          "state": {
            "_view_name": "ProgressView",
            "style": "IPY_MODEL_f48c4a5429d9400b818f4c0d5f1baab8",
            "_dom_classes": [],
            "description": "Downloading: 100%",
            "_model_name": "FloatProgressModel",
            "bar_style": "success",
            "max": 28,
            "_view_module": "@jupyter-widgets/controls",
            "_model_module_version": "1.5.0",
            "value": 28,
            "_view_count": null,
            "_view_module_version": "1.5.0",
            "orientation": "horizontal",
            "min": 0,
            "description_tooltip": null,
            "_model_module": "@jupyter-widgets/controls",
            "layout": "IPY_MODEL_51d6a430dc1d49fa94c9c8a41b43430d"
          }
        },
        "3fe11619a7d04c2ca3dd013e246a7cc2": {
          "model_module": "@jupyter-widgets/controls",
          "model_name": "HTMLModel",
          "state": {
            "_view_name": "HTMLView",
            "style": "IPY_MODEL_bbbf56569b89442fa968a874c1dd0bab",
            "_dom_classes": [],
            "description": "",
            "_model_name": "HTMLModel",
            "placeholder": "​",
            "_view_module": "@jupyter-widgets/controls",
            "_model_module_version": "1.5.0",
            "value": " 28.0/28.0 [00:00&lt;00:00, 48.6B/s]",
            "_view_count": null,
            "_view_module_version": "1.5.0",
            "description_tooltip": null,
            "_model_module": "@jupyter-widgets/controls",
            "layout": "IPY_MODEL_c1160cb120cb425193ddc8ec30601b4b"
          }
        },
        "f48c4a5429d9400b818f4c0d5f1baab8": {
          "model_module": "@jupyter-widgets/controls",
          "model_name": "ProgressStyleModel",
          "state": {
            "_view_name": "StyleView",
            "_model_name": "ProgressStyleModel",
            "description_width": "initial",
            "_view_module": "@jupyter-widgets/base",
            "_model_module_version": "1.5.0",
            "_view_count": null,
            "_view_module_version": "1.2.0",
            "bar_color": null,
            "_model_module": "@jupyter-widgets/controls"
          }
        },
        "51d6a430dc1d49fa94c9c8a41b43430d": {
          "model_module": "@jupyter-widgets/base",
          "model_name": "LayoutModel",
          "state": {
            "_view_name": "LayoutView",
            "grid_template_rows": null,
            "right": null,
            "justify_content": null,
            "_view_module": "@jupyter-widgets/base",
            "overflow": null,
            "_model_module_version": "1.2.0",
            "_view_count": null,
            "flex_flow": null,
            "width": null,
            "min_width": null,
            "border": null,
            "align_items": null,
            "bottom": null,
            "_model_module": "@jupyter-widgets/base",
            "top": null,
            "grid_column": null,
            "overflow_y": null,
            "overflow_x": null,
            "grid_auto_flow": null,
            "grid_area": null,
            "grid_template_columns": null,
            "flex": null,
            "_model_name": "LayoutModel",
            "justify_items": null,
            "grid_row": null,
            "max_height": null,
            "align_content": null,
            "visibility": null,
            "align_self": null,
            "height": null,
            "min_height": null,
            "padding": null,
            "grid_auto_rows": null,
            "grid_gap": null,
            "max_width": null,
            "order": null,
            "_view_module_version": "1.2.0",
            "grid_template_areas": null,
            "object_position": null,
            "object_fit": null,
            "grid_auto_columns": null,
            "margin": null,
            "display": null,
            "left": null
          }
        },
        "bbbf56569b89442fa968a874c1dd0bab": {
          "model_module": "@jupyter-widgets/controls",
          "model_name": "DescriptionStyleModel",
          "state": {
            "_view_name": "StyleView",
            "_model_name": "DescriptionStyleModel",
            "description_width": "",
            "_view_module": "@jupyter-widgets/base",
            "_model_module_version": "1.5.0",
            "_view_count": null,
            "_view_module_version": "1.2.0",
            "_model_module": "@jupyter-widgets/controls"
          }
        },
        "c1160cb120cb425193ddc8ec30601b4b": {
          "model_module": "@jupyter-widgets/base",
          "model_name": "LayoutModel",
          "state": {
            "_view_name": "LayoutView",
            "grid_template_rows": null,
            "right": null,
            "justify_content": null,
            "_view_module": "@jupyter-widgets/base",
            "overflow": null,
            "_model_module_version": "1.2.0",
            "_view_count": null,
            "flex_flow": null,
            "width": null,
            "min_width": null,
            "border": null,
            "align_items": null,
            "bottom": null,
            "_model_module": "@jupyter-widgets/base",
            "top": null,
            "grid_column": null,
            "overflow_y": null,
            "overflow_x": null,
            "grid_auto_flow": null,
            "grid_area": null,
            "grid_template_columns": null,
            "flex": null,
            "_model_name": "LayoutModel",
            "justify_items": null,
            "grid_row": null,
            "max_height": null,
            "align_content": null,
            "visibility": null,
            "align_self": null,
            "height": null,
            "min_height": null,
            "padding": null,
            "grid_auto_rows": null,
            "grid_gap": null,
            "max_width": null,
            "order": null,
            "_view_module_version": "1.2.0",
            "grid_template_areas": null,
            "object_position": null,
            "object_fit": null,
            "grid_auto_columns": null,
            "margin": null,
            "display": null,
            "left": null
          }
        },
        "e5f74d965c324b85aff2bf25d287235a": {
          "model_module": "@jupyter-widgets/controls",
          "model_name": "HBoxModel",
          "state": {
            "_view_name": "HBoxView",
            "_dom_classes": [],
            "_model_name": "HBoxModel",
            "_view_module": "@jupyter-widgets/controls",
            "_model_module_version": "1.5.0",
            "_view_count": null,
            "_view_module_version": "1.5.0",
            "box_style": "",
            "layout": "IPY_MODEL_f385686d5d884dd38c17de54113e7390",
            "_model_module": "@jupyter-widgets/controls",
            "children": [
              "IPY_MODEL_eef4791e3e864a34a44ffaa25d71204d",
              "IPY_MODEL_2cf40209dc4f49ebae4ce379212ee23f"
            ]
          }
        },
        "f385686d5d884dd38c17de54113e7390": {
          "model_module": "@jupyter-widgets/base",
          "model_name": "LayoutModel",
          "state": {
            "_view_name": "LayoutView",
            "grid_template_rows": null,
            "right": null,
            "justify_content": null,
            "_view_module": "@jupyter-widgets/base",
            "overflow": null,
            "_model_module_version": "1.2.0",
            "_view_count": null,
            "flex_flow": null,
            "width": null,
            "min_width": null,
            "border": null,
            "align_items": null,
            "bottom": null,
            "_model_module": "@jupyter-widgets/base",
            "top": null,
            "grid_column": null,
            "overflow_y": null,
            "overflow_x": null,
            "grid_auto_flow": null,
            "grid_area": null,
            "grid_template_columns": null,
            "flex": null,
            "_model_name": "LayoutModel",
            "justify_items": null,
            "grid_row": null,
            "max_height": null,
            "align_content": null,
            "visibility": null,
            "align_self": null,
            "height": null,
            "min_height": null,
            "padding": null,
            "grid_auto_rows": null,
            "grid_gap": null,
            "max_width": null,
            "order": null,
            "_view_module_version": "1.2.0",
            "grid_template_areas": null,
            "object_position": null,
            "object_fit": null,
            "grid_auto_columns": null,
            "margin": null,
            "display": null,
            "left": null
          }
        },
        "eef4791e3e864a34a44ffaa25d71204d": {
          "model_module": "@jupyter-widgets/controls",
          "model_name": "FloatProgressModel",
          "state": {
            "_view_name": "ProgressView",
            "style": "IPY_MODEL_1d17e590a65b44f58869827f8ee23560",
            "_dom_classes": [],
            "description": "Downloading: 100%",
            "_model_name": "FloatProgressModel",
            "bar_style": "success",
            "max": 466062,
            "_view_module": "@jupyter-widgets/controls",
            "_model_module_version": "1.5.0",
            "value": 466062,
            "_view_count": null,
            "_view_module_version": "1.5.0",
            "orientation": "horizontal",
            "min": 0,
            "description_tooltip": null,
            "_model_module": "@jupyter-widgets/controls",
            "layout": "IPY_MODEL_f8aeb0a41b454916a5723721e2f74722"
          }
        },
        "2cf40209dc4f49ebae4ce379212ee23f": {
          "model_module": "@jupyter-widgets/controls",
          "model_name": "HTMLModel",
          "state": {
            "_view_name": "HTMLView",
            "style": "IPY_MODEL_1fcead1752894934813af3d1cb4025bf",
            "_dom_classes": [],
            "description": "",
            "_model_name": "HTMLModel",
            "placeholder": "​",
            "_view_module": "@jupyter-widgets/controls",
            "_model_module_version": "1.5.0",
            "value": " 466k/466k [00:00&lt;00:00, 1.04MB/s]",
            "_view_count": null,
            "_view_module_version": "1.5.0",
            "description_tooltip": null,
            "_model_module": "@jupyter-widgets/controls",
            "layout": "IPY_MODEL_32f0c81c5a1d4e17bd115fe53a1ccdbc"
          }
        },
        "1d17e590a65b44f58869827f8ee23560": {
          "model_module": "@jupyter-widgets/controls",
          "model_name": "ProgressStyleModel",
          "state": {
            "_view_name": "StyleView",
            "_model_name": "ProgressStyleModel",
            "description_width": "initial",
            "_view_module": "@jupyter-widgets/base",
            "_model_module_version": "1.5.0",
            "_view_count": null,
            "_view_module_version": "1.2.0",
            "bar_color": null,
            "_model_module": "@jupyter-widgets/controls"
          }
        },
        "f8aeb0a41b454916a5723721e2f74722": {
          "model_module": "@jupyter-widgets/base",
          "model_name": "LayoutModel",
          "state": {
            "_view_name": "LayoutView",
            "grid_template_rows": null,
            "right": null,
            "justify_content": null,
            "_view_module": "@jupyter-widgets/base",
            "overflow": null,
            "_model_module_version": "1.2.0",
            "_view_count": null,
            "flex_flow": null,
            "width": null,
            "min_width": null,
            "border": null,
            "align_items": null,
            "bottom": null,
            "_model_module": "@jupyter-widgets/base",
            "top": null,
            "grid_column": null,
            "overflow_y": null,
            "overflow_x": null,
            "grid_auto_flow": null,
            "grid_area": null,
            "grid_template_columns": null,
            "flex": null,
            "_model_name": "LayoutModel",
            "justify_items": null,
            "grid_row": null,
            "max_height": null,
            "align_content": null,
            "visibility": null,
            "align_self": null,
            "height": null,
            "min_height": null,
            "padding": null,
            "grid_auto_rows": null,
            "grid_gap": null,
            "max_width": null,
            "order": null,
            "_view_module_version": "1.2.0",
            "grid_template_areas": null,
            "object_position": null,
            "object_fit": null,
            "grid_auto_columns": null,
            "margin": null,
            "display": null,
            "left": null
          }
        },
        "1fcead1752894934813af3d1cb4025bf": {
          "model_module": "@jupyter-widgets/controls",
          "model_name": "DescriptionStyleModel",
          "state": {
            "_view_name": "StyleView",
            "_model_name": "DescriptionStyleModel",
            "description_width": "",
            "_view_module": "@jupyter-widgets/base",
            "_model_module_version": "1.5.0",
            "_view_count": null,
            "_view_module_version": "1.2.0",
            "_model_module": "@jupyter-widgets/controls"
          }
        },
        "32f0c81c5a1d4e17bd115fe53a1ccdbc": {
          "model_module": "@jupyter-widgets/base",
          "model_name": "LayoutModel",
          "state": {
            "_view_name": "LayoutView",
            "grid_template_rows": null,
            "right": null,
            "justify_content": null,
            "_view_module": "@jupyter-widgets/base",
            "overflow": null,
            "_model_module_version": "1.2.0",
            "_view_count": null,
            "flex_flow": null,
            "width": null,
            "min_width": null,
            "border": null,
            "align_items": null,
            "bottom": null,
            "_model_module": "@jupyter-widgets/base",
            "top": null,
            "grid_column": null,
            "overflow_y": null,
            "overflow_x": null,
            "grid_auto_flow": null,
            "grid_area": null,
            "grid_template_columns": null,
            "flex": null,
            "_model_name": "LayoutModel",
            "justify_items": null,
            "grid_row": null,
            "max_height": null,
            "align_content": null,
            "visibility": null,
            "align_self": null,
            "height": null,
            "min_height": null,
            "padding": null,
            "grid_auto_rows": null,
            "grid_gap": null,
            "max_width": null,
            "order": null,
            "_view_module_version": "1.2.0",
            "grid_template_areas": null,
            "object_position": null,
            "object_fit": null,
            "grid_auto_columns": null,
            "margin": null,
            "display": null,
            "left": null
          }
        },
        "63279bd073754f2fa1c943befbd2a208": {
          "model_module": "@jupyter-widgets/controls",
          "model_name": "HBoxModel",
          "state": {
            "_view_name": "HBoxView",
            "_dom_classes": [],
            "_model_name": "HBoxModel",
            "_view_module": "@jupyter-widgets/controls",
            "_model_module_version": "1.5.0",
            "_view_count": null,
            "_view_module_version": "1.5.0",
            "box_style": "",
            "layout": "IPY_MODEL_52f5699c01894f4dbd1e9e2ae5e46486",
            "_model_module": "@jupyter-widgets/controls",
            "children": [
              "IPY_MODEL_bcf476298c52416794b9fb7f2d510601",
              "IPY_MODEL_e3e4791466dd4eb99b636e1c54c19400"
            ]
          }
        },
        "52f5699c01894f4dbd1e9e2ae5e46486": {
          "model_module": "@jupyter-widgets/base",
          "model_name": "LayoutModel",
          "state": {
            "_view_name": "LayoutView",
            "grid_template_rows": null,
            "right": null,
            "justify_content": null,
            "_view_module": "@jupyter-widgets/base",
            "overflow": null,
            "_model_module_version": "1.2.0",
            "_view_count": null,
            "flex_flow": null,
            "width": null,
            "min_width": null,
            "border": null,
            "align_items": null,
            "bottom": null,
            "_model_module": "@jupyter-widgets/base",
            "top": null,
            "grid_column": null,
            "overflow_y": null,
            "overflow_x": null,
            "grid_auto_flow": null,
            "grid_area": null,
            "grid_template_columns": null,
            "flex": null,
            "_model_name": "LayoutModel",
            "justify_items": null,
            "grid_row": null,
            "max_height": null,
            "align_content": null,
            "visibility": null,
            "align_self": null,
            "height": null,
            "min_height": null,
            "padding": null,
            "grid_auto_rows": null,
            "grid_gap": null,
            "max_width": null,
            "order": null,
            "_view_module_version": "1.2.0",
            "grid_template_areas": null,
            "object_position": null,
            "object_fit": null,
            "grid_auto_columns": null,
            "margin": null,
            "display": null,
            "left": null
          }
        },
        "bcf476298c52416794b9fb7f2d510601": {
          "model_module": "@jupyter-widgets/controls",
          "model_name": "FloatProgressModel",
          "state": {
            "_view_name": "ProgressView",
            "style": "IPY_MODEL_57d51eff673d4ed98e5168b35c5de180",
            "_dom_classes": [],
            "description": "Downloading: 100%",
            "_model_name": "FloatProgressModel",
            "bar_style": "success",
            "max": 433,
            "_view_module": "@jupyter-widgets/controls",
            "_model_module_version": "1.5.0",
            "value": 433,
            "_view_count": null,
            "_view_module_version": "1.5.0",
            "orientation": "horizontal",
            "min": 0,
            "description_tooltip": null,
            "_model_module": "@jupyter-widgets/controls",
            "layout": "IPY_MODEL_9b0a791cfcbb4f7ba56b02e801dd00ee"
          }
        },
        "e3e4791466dd4eb99b636e1c54c19400": {
          "model_module": "@jupyter-widgets/controls",
          "model_name": "HTMLModel",
          "state": {
            "_view_name": "HTMLView",
            "style": "IPY_MODEL_37dbfaabf6224241921a2609a916022a",
            "_dom_classes": [],
            "description": "",
            "_model_name": "HTMLModel",
            "placeholder": "​",
            "_view_module": "@jupyter-widgets/controls",
            "_model_module_version": "1.5.0",
            "value": " 433/433 [00:00&lt;00:00, 1.16kB/s]",
            "_view_count": null,
            "_view_module_version": "1.5.0",
            "description_tooltip": null,
            "_model_module": "@jupyter-widgets/controls",
            "layout": "IPY_MODEL_4ee2327424454cdaa04f2615b5b5968c"
          }
        },
        "57d51eff673d4ed98e5168b35c5de180": {
          "model_module": "@jupyter-widgets/controls",
          "model_name": "ProgressStyleModel",
          "state": {
            "_view_name": "StyleView",
            "_model_name": "ProgressStyleModel",
            "description_width": "initial",
            "_view_module": "@jupyter-widgets/base",
            "_model_module_version": "1.5.0",
            "_view_count": null,
            "_view_module_version": "1.2.0",
            "bar_color": null,
            "_model_module": "@jupyter-widgets/controls"
          }
        },
        "9b0a791cfcbb4f7ba56b02e801dd00ee": {
          "model_module": "@jupyter-widgets/base",
          "model_name": "LayoutModel",
          "state": {
            "_view_name": "LayoutView",
            "grid_template_rows": null,
            "right": null,
            "justify_content": null,
            "_view_module": "@jupyter-widgets/base",
            "overflow": null,
            "_model_module_version": "1.2.0",
            "_view_count": null,
            "flex_flow": null,
            "width": null,
            "min_width": null,
            "border": null,
            "align_items": null,
            "bottom": null,
            "_model_module": "@jupyter-widgets/base",
            "top": null,
            "grid_column": null,
            "overflow_y": null,
            "overflow_x": null,
            "grid_auto_flow": null,
            "grid_area": null,
            "grid_template_columns": null,
            "flex": null,
            "_model_name": "LayoutModel",
            "justify_items": null,
            "grid_row": null,
            "max_height": null,
            "align_content": null,
            "visibility": null,
            "align_self": null,
            "height": null,
            "min_height": null,
            "padding": null,
            "grid_auto_rows": null,
            "grid_gap": null,
            "max_width": null,
            "order": null,
            "_view_module_version": "1.2.0",
            "grid_template_areas": null,
            "object_position": null,
            "object_fit": null,
            "grid_auto_columns": null,
            "margin": null,
            "display": null,
            "left": null
          }
        },
        "37dbfaabf6224241921a2609a916022a": {
          "model_module": "@jupyter-widgets/controls",
          "model_name": "DescriptionStyleModel",
          "state": {
            "_view_name": "StyleView",
            "_model_name": "DescriptionStyleModel",
            "description_width": "",
            "_view_module": "@jupyter-widgets/base",
            "_model_module_version": "1.5.0",
            "_view_count": null,
            "_view_module_version": "1.2.0",
            "_model_module": "@jupyter-widgets/controls"
          }
        },
        "4ee2327424454cdaa04f2615b5b5968c": {
          "model_module": "@jupyter-widgets/base",
          "model_name": "LayoutModel",
          "state": {
            "_view_name": "LayoutView",
            "grid_template_rows": null,
            "right": null,
            "justify_content": null,
            "_view_module": "@jupyter-widgets/base",
            "overflow": null,
            "_model_module_version": "1.2.0",
            "_view_count": null,
            "flex_flow": null,
            "width": null,
            "min_width": null,
            "border": null,
            "align_items": null,
            "bottom": null,
            "_model_module": "@jupyter-widgets/base",
            "top": null,
            "grid_column": null,
            "overflow_y": null,
            "overflow_x": null,
            "grid_auto_flow": null,
            "grid_area": null,
            "grid_template_columns": null,
            "flex": null,
            "_model_name": "LayoutModel",
            "justify_items": null,
            "grid_row": null,
            "max_height": null,
            "align_content": null,
            "visibility": null,
            "align_self": null,
            "height": null,
            "min_height": null,
            "padding": null,
            "grid_auto_rows": null,
            "grid_gap": null,
            "max_width": null,
            "order": null,
            "_view_module_version": "1.2.0",
            "grid_template_areas": null,
            "object_position": null,
            "object_fit": null,
            "grid_auto_columns": null,
            "margin": null,
            "display": null,
            "left": null
          }
        },
        "397da0701f5147aa9720334fc47cb553": {
          "model_module": "@jupyter-widgets/controls",
          "model_name": "HBoxModel",
          "state": {
            "_view_name": "HBoxView",
            "_dom_classes": [],
            "_model_name": "HBoxModel",
            "_view_module": "@jupyter-widgets/controls",
            "_model_module_version": "1.5.0",
            "_view_count": null,
            "_view_module_version": "1.5.0",
            "box_style": "",
            "layout": "IPY_MODEL_6c273044ae1d49e791a91f6fea426722",
            "_model_module": "@jupyter-widgets/controls",
            "children": [
              "IPY_MODEL_52070b6c04ab46428519fa8c29d9eb6c",
              "IPY_MODEL_a3599986b91943aa98b796cb0ad8c485"
            ]
          }
        },
        "6c273044ae1d49e791a91f6fea426722": {
          "model_module": "@jupyter-widgets/base",
          "model_name": "LayoutModel",
          "state": {
            "_view_name": "LayoutView",
            "grid_template_rows": null,
            "right": null,
            "justify_content": null,
            "_view_module": "@jupyter-widgets/base",
            "overflow": null,
            "_model_module_version": "1.2.0",
            "_view_count": null,
            "flex_flow": null,
            "width": null,
            "min_width": null,
            "border": null,
            "align_items": null,
            "bottom": null,
            "_model_module": "@jupyter-widgets/base",
            "top": null,
            "grid_column": null,
            "overflow_y": null,
            "overflow_x": null,
            "grid_auto_flow": null,
            "grid_area": null,
            "grid_template_columns": null,
            "flex": null,
            "_model_name": "LayoutModel",
            "justify_items": null,
            "grid_row": null,
            "max_height": null,
            "align_content": null,
            "visibility": null,
            "align_self": null,
            "height": null,
            "min_height": null,
            "padding": null,
            "grid_auto_rows": null,
            "grid_gap": null,
            "max_width": null,
            "order": null,
            "_view_module_version": "1.2.0",
            "grid_template_areas": null,
            "object_position": null,
            "object_fit": null,
            "grid_auto_columns": null,
            "margin": null,
            "display": null,
            "left": null
          }
        },
        "52070b6c04ab46428519fa8c29d9eb6c": {
          "model_module": "@jupyter-widgets/controls",
          "model_name": "FloatProgressModel",
          "state": {
            "_view_name": "ProgressView",
            "style": "IPY_MODEL_5654bf2edd0c46ca915d1fe256a63d3c",
            "_dom_classes": [],
            "description": "Downloading: 100%",
            "_model_name": "FloatProgressModel",
            "bar_style": "success",
            "max": 440473133,
            "_view_module": "@jupyter-widgets/controls",
            "_model_module_version": "1.5.0",
            "value": 440473133,
            "_view_count": null,
            "_view_module_version": "1.5.0",
            "orientation": "horizontal",
            "min": 0,
            "description_tooltip": null,
            "_model_module": "@jupyter-widgets/controls",
            "layout": "IPY_MODEL_83f1855dacef4b12a5ef2af33acb68f7"
          }
        },
        "a3599986b91943aa98b796cb0ad8c485": {
          "model_module": "@jupyter-widgets/controls",
          "model_name": "HTMLModel",
          "state": {
            "_view_name": "HTMLView",
            "style": "IPY_MODEL_494d1b505bb54c7f842e2d8318e334e5",
            "_dom_classes": [],
            "description": "",
            "_model_name": "HTMLModel",
            "placeholder": "​",
            "_view_module": "@jupyter-widgets/controls",
            "_model_module_version": "1.5.0",
            "value": " 440M/440M [00:10&lt;00:00, 43.1MB/s]",
            "_view_count": null,
            "_view_module_version": "1.5.0",
            "description_tooltip": null,
            "_model_module": "@jupyter-widgets/controls",
            "layout": "IPY_MODEL_cdf7fb5a975a47aa80d825ce31f6c471"
          }
        },
        "5654bf2edd0c46ca915d1fe256a63d3c": {
          "model_module": "@jupyter-widgets/controls",
          "model_name": "ProgressStyleModel",
          "state": {
            "_view_name": "StyleView",
            "_model_name": "ProgressStyleModel",
            "description_width": "initial",
            "_view_module": "@jupyter-widgets/base",
            "_model_module_version": "1.5.0",
            "_view_count": null,
            "_view_module_version": "1.2.0",
            "bar_color": null,
            "_model_module": "@jupyter-widgets/controls"
          }
        },
        "83f1855dacef4b12a5ef2af33acb68f7": {
          "model_module": "@jupyter-widgets/base",
          "model_name": "LayoutModel",
          "state": {
            "_view_name": "LayoutView",
            "grid_template_rows": null,
            "right": null,
            "justify_content": null,
            "_view_module": "@jupyter-widgets/base",
            "overflow": null,
            "_model_module_version": "1.2.0",
            "_view_count": null,
            "flex_flow": null,
            "width": null,
            "min_width": null,
            "border": null,
            "align_items": null,
            "bottom": null,
            "_model_module": "@jupyter-widgets/base",
            "top": null,
            "grid_column": null,
            "overflow_y": null,
            "overflow_x": null,
            "grid_auto_flow": null,
            "grid_area": null,
            "grid_template_columns": null,
            "flex": null,
            "_model_name": "LayoutModel",
            "justify_items": null,
            "grid_row": null,
            "max_height": null,
            "align_content": null,
            "visibility": null,
            "align_self": null,
            "height": null,
            "min_height": null,
            "padding": null,
            "grid_auto_rows": null,
            "grid_gap": null,
            "max_width": null,
            "order": null,
            "_view_module_version": "1.2.0",
            "grid_template_areas": null,
            "object_position": null,
            "object_fit": null,
            "grid_auto_columns": null,
            "margin": null,
            "display": null,
            "left": null
          }
        },
        "494d1b505bb54c7f842e2d8318e334e5": {
          "model_module": "@jupyter-widgets/controls",
          "model_name": "DescriptionStyleModel",
          "state": {
            "_view_name": "StyleView",
            "_model_name": "DescriptionStyleModel",
            "description_width": "",
            "_view_module": "@jupyter-widgets/base",
            "_model_module_version": "1.5.0",
            "_view_count": null,
            "_view_module_version": "1.2.0",
            "_model_module": "@jupyter-widgets/controls"
          }
        },
        "cdf7fb5a975a47aa80d825ce31f6c471": {
          "model_module": "@jupyter-widgets/base",
          "model_name": "LayoutModel",
          "state": {
            "_view_name": "LayoutView",
            "grid_template_rows": null,
            "right": null,
            "justify_content": null,
            "_view_module": "@jupyter-widgets/base",
            "overflow": null,
            "_model_module_version": "1.2.0",
            "_view_count": null,
            "flex_flow": null,
            "width": null,
            "min_width": null,
            "border": null,
            "align_items": null,
            "bottom": null,
            "_model_module": "@jupyter-widgets/base",
            "top": null,
            "grid_column": null,
            "overflow_y": null,
            "overflow_x": null,
            "grid_auto_flow": null,
            "grid_area": null,
            "grid_template_columns": null,
            "flex": null,
            "_model_name": "LayoutModel",
            "justify_items": null,
            "grid_row": null,
            "max_height": null,
            "align_content": null,
            "visibility": null,
            "align_self": null,
            "height": null,
            "min_height": null,
            "padding": null,
            "grid_auto_rows": null,
            "grid_gap": null,
            "max_width": null,
            "order": null,
            "_view_module_version": "1.2.0",
            "grid_template_areas": null,
            "object_position": null,
            "object_fit": null,
            "grid_auto_columns": null,
            "margin": null,
            "display": null,
            "left": null
          }
        },
        "858b642019814e45be1146b39c73d5a4": {
          "model_module": "@jupyter-widgets/controls",
          "model_name": "HBoxModel",
          "state": {
            "_view_name": "HBoxView",
            "_dom_classes": [],
            "_model_name": "HBoxModel",
            "_view_module": "@jupyter-widgets/controls",
            "_model_module_version": "1.5.0",
            "_view_count": null,
            "_view_module_version": "1.5.0",
            "box_style": "",
            "layout": "IPY_MODEL_d13777c57b3f4a0882883685dce14420",
            "_model_module": "@jupyter-widgets/controls",
            "children": [
              "IPY_MODEL_6dbc1c90db964e3b93d8127472e6bf3b",
              "IPY_MODEL_4f1e94975d254ec5b6e8506a5d2e6f50"
            ]
          }
        },
        "d13777c57b3f4a0882883685dce14420": {
          "model_module": "@jupyter-widgets/base",
          "model_name": "LayoutModel",
          "state": {
            "_view_name": "LayoutView",
            "grid_template_rows": null,
            "right": null,
            "justify_content": null,
            "_view_module": "@jupyter-widgets/base",
            "overflow": null,
            "_model_module_version": "1.2.0",
            "_view_count": null,
            "flex_flow": null,
            "width": null,
            "min_width": null,
            "border": null,
            "align_items": null,
            "bottom": null,
            "_model_module": "@jupyter-widgets/base",
            "top": null,
            "grid_column": null,
            "overflow_y": null,
            "overflow_x": null,
            "grid_auto_flow": null,
            "grid_area": null,
            "grid_template_columns": null,
            "flex": null,
            "_model_name": "LayoutModel",
            "justify_items": null,
            "grid_row": null,
            "max_height": null,
            "align_content": null,
            "visibility": null,
            "align_self": null,
            "height": null,
            "min_height": null,
            "padding": null,
            "grid_auto_rows": null,
            "grid_gap": null,
            "max_width": null,
            "order": null,
            "_view_module_version": "1.2.0",
            "grid_template_areas": null,
            "object_position": null,
            "object_fit": null,
            "grid_auto_columns": null,
            "margin": null,
            "display": null,
            "left": null
          }
        },
        "6dbc1c90db964e3b93d8127472e6bf3b": {
          "model_module": "@jupyter-widgets/controls",
          "model_name": "FloatProgressModel",
          "state": {
            "_view_name": "ProgressView",
            "style": "IPY_MODEL_7e2d6fe61be747f4adc8de53fcefaea8",
            "_dom_classes": [],
            "description": "Downloading: 100%",
            "_model_name": "FloatProgressModel",
            "bar_style": "success",
            "max": 898823,
            "_view_module": "@jupyter-widgets/controls",
            "_model_module_version": "1.5.0",
            "value": 898823,
            "_view_count": null,
            "_view_module_version": "1.5.0",
            "orientation": "horizontal",
            "min": 0,
            "description_tooltip": null,
            "_model_module": "@jupyter-widgets/controls",
            "layout": "IPY_MODEL_fa32c733900a48ce9662a372845bef93"
          }
        },
        "4f1e94975d254ec5b6e8506a5d2e6f50": {
          "model_module": "@jupyter-widgets/controls",
          "model_name": "HTMLModel",
          "state": {
            "_view_name": "HTMLView",
            "style": "IPY_MODEL_ebacd566d0634e43a5a6cc1186b95ab8",
            "_dom_classes": [],
            "description": "",
            "_model_name": "HTMLModel",
            "placeholder": "​",
            "_view_module": "@jupyter-widgets/controls",
            "_model_module_version": "1.5.0",
            "value": " 899k/899k [00:03&lt;00:00, 264kB/s]",
            "_view_count": null,
            "_view_module_version": "1.5.0",
            "description_tooltip": null,
            "_model_module": "@jupyter-widgets/controls",
            "layout": "IPY_MODEL_e57d0851ce1d401a8d6598f70cd857fb"
          }
        },
        "7e2d6fe61be747f4adc8de53fcefaea8": {
          "model_module": "@jupyter-widgets/controls",
          "model_name": "ProgressStyleModel",
          "state": {
            "_view_name": "StyleView",
            "_model_name": "ProgressStyleModel",
            "description_width": "initial",
            "_view_module": "@jupyter-widgets/base",
            "_model_module_version": "1.5.0",
            "_view_count": null,
            "_view_module_version": "1.2.0",
            "bar_color": null,
            "_model_module": "@jupyter-widgets/controls"
          }
        },
        "fa32c733900a48ce9662a372845bef93": {
          "model_module": "@jupyter-widgets/base",
          "model_name": "LayoutModel",
          "state": {
            "_view_name": "LayoutView",
            "grid_template_rows": null,
            "right": null,
            "justify_content": null,
            "_view_module": "@jupyter-widgets/base",
            "overflow": null,
            "_model_module_version": "1.2.0",
            "_view_count": null,
            "flex_flow": null,
            "width": null,
            "min_width": null,
            "border": null,
            "align_items": null,
            "bottom": null,
            "_model_module": "@jupyter-widgets/base",
            "top": null,
            "grid_column": null,
            "overflow_y": null,
            "overflow_x": null,
            "grid_auto_flow": null,
            "grid_area": null,
            "grid_template_columns": null,
            "flex": null,
            "_model_name": "LayoutModel",
            "justify_items": null,
            "grid_row": null,
            "max_height": null,
            "align_content": null,
            "visibility": null,
            "align_self": null,
            "height": null,
            "min_height": null,
            "padding": null,
            "grid_auto_rows": null,
            "grid_gap": null,
            "max_width": null,
            "order": null,
            "_view_module_version": "1.2.0",
            "grid_template_areas": null,
            "object_position": null,
            "object_fit": null,
            "grid_auto_columns": null,
            "margin": null,
            "display": null,
            "left": null
          }
        },
        "ebacd566d0634e43a5a6cc1186b95ab8": {
          "model_module": "@jupyter-widgets/controls",
          "model_name": "DescriptionStyleModel",
          "state": {
            "_view_name": "StyleView",
            "_model_name": "DescriptionStyleModel",
            "description_width": "",
            "_view_module": "@jupyter-widgets/base",
            "_model_module_version": "1.5.0",
            "_view_count": null,
            "_view_module_version": "1.2.0",
            "_model_module": "@jupyter-widgets/controls"
          }
        },
        "e57d0851ce1d401a8d6598f70cd857fb": {
          "model_module": "@jupyter-widgets/base",
          "model_name": "LayoutModel",
          "state": {
            "_view_name": "LayoutView",
            "grid_template_rows": null,
            "right": null,
            "justify_content": null,
            "_view_module": "@jupyter-widgets/base",
            "overflow": null,
            "_model_module_version": "1.2.0",
            "_view_count": null,
            "flex_flow": null,
            "width": null,
            "min_width": null,
            "border": null,
            "align_items": null,
            "bottom": null,
            "_model_module": "@jupyter-widgets/base",
            "top": null,
            "grid_column": null,
            "overflow_y": null,
            "overflow_x": null,
            "grid_auto_flow": null,
            "grid_area": null,
            "grid_template_columns": null,
            "flex": null,
            "_model_name": "LayoutModel",
            "justify_items": null,
            "grid_row": null,
            "max_height": null,
            "align_content": null,
            "visibility": null,
            "align_self": null,
            "height": null,
            "min_height": null,
            "padding": null,
            "grid_auto_rows": null,
            "grid_gap": null,
            "max_width": null,
            "order": null,
            "_view_module_version": "1.2.0",
            "grid_template_areas": null,
            "object_position": null,
            "object_fit": null,
            "grid_auto_columns": null,
            "margin": null,
            "display": null,
            "left": null
          }
        },
        "664ecb7d174a4a789486b02353fd3c54": {
          "model_module": "@jupyter-widgets/controls",
          "model_name": "HBoxModel",
          "state": {
            "_view_name": "HBoxView",
            "_dom_classes": [],
            "_model_name": "HBoxModel",
            "_view_module": "@jupyter-widgets/controls",
            "_model_module_version": "1.5.0",
            "_view_count": null,
            "_view_module_version": "1.5.0",
            "box_style": "",
            "layout": "IPY_MODEL_5b16c54226954843b5200fcfa30dc7ff",
            "_model_module": "@jupyter-widgets/controls",
            "children": [
              "IPY_MODEL_9ddb847062c24ef18b5db0a974131101",
              "IPY_MODEL_17db461704744979ab7f0c52a2cfd91f"
            ]
          }
        },
        "5b16c54226954843b5200fcfa30dc7ff": {
          "model_module": "@jupyter-widgets/base",
          "model_name": "LayoutModel",
          "state": {
            "_view_name": "LayoutView",
            "grid_template_rows": null,
            "right": null,
            "justify_content": null,
            "_view_module": "@jupyter-widgets/base",
            "overflow": null,
            "_model_module_version": "1.2.0",
            "_view_count": null,
            "flex_flow": null,
            "width": null,
            "min_width": null,
            "border": null,
            "align_items": null,
            "bottom": null,
            "_model_module": "@jupyter-widgets/base",
            "top": null,
            "grid_column": null,
            "overflow_y": null,
            "overflow_x": null,
            "grid_auto_flow": null,
            "grid_area": null,
            "grid_template_columns": null,
            "flex": null,
            "_model_name": "LayoutModel",
            "justify_items": null,
            "grid_row": null,
            "max_height": null,
            "align_content": null,
            "visibility": null,
            "align_self": null,
            "height": null,
            "min_height": null,
            "padding": null,
            "grid_auto_rows": null,
            "grid_gap": null,
            "max_width": null,
            "order": null,
            "_view_module_version": "1.2.0",
            "grid_template_areas": null,
            "object_position": null,
            "object_fit": null,
            "grid_auto_columns": null,
            "margin": null,
            "display": null,
            "left": null
          }
        },
        "9ddb847062c24ef18b5db0a974131101": {
          "model_module": "@jupyter-widgets/controls",
          "model_name": "FloatProgressModel",
          "state": {
            "_view_name": "ProgressView",
            "style": "IPY_MODEL_f6b0efb031f040b3a8883dcfcd13ca44",
            "_dom_classes": [],
            "description": "Downloading: 100%",
            "_model_name": "FloatProgressModel",
            "bar_style": "success",
            "max": 456318,
            "_view_module": "@jupyter-widgets/controls",
            "_model_module_version": "1.5.0",
            "value": 456318,
            "_view_count": null,
            "_view_module_version": "1.5.0",
            "orientation": "horizontal",
            "min": 0,
            "description_tooltip": null,
            "_model_module": "@jupyter-widgets/controls",
            "layout": "IPY_MODEL_866e57c698b54b39a7fb205f2d83afd9"
          }
        },
        "17db461704744979ab7f0c52a2cfd91f": {
          "model_module": "@jupyter-widgets/controls",
          "model_name": "HTMLModel",
          "state": {
            "_view_name": "HTMLView",
            "style": "IPY_MODEL_2564cccb3a9d49b9aee080f4f56d4603",
            "_dom_classes": [],
            "description": "",
            "_model_name": "HTMLModel",
            "placeholder": "​",
            "_view_module": "@jupyter-widgets/controls",
            "_model_module_version": "1.5.0",
            "value": " 456k/456k [00:01&lt;00:00, 255kB/s]",
            "_view_count": null,
            "_view_module_version": "1.5.0",
            "description_tooltip": null,
            "_model_module": "@jupyter-widgets/controls",
            "layout": "IPY_MODEL_4ef230cb3e854861b56f6f00c62361be"
          }
        },
        "f6b0efb031f040b3a8883dcfcd13ca44": {
          "model_module": "@jupyter-widgets/controls",
          "model_name": "ProgressStyleModel",
          "state": {
            "_view_name": "StyleView",
            "_model_name": "ProgressStyleModel",
            "description_width": "initial",
            "_view_module": "@jupyter-widgets/base",
            "_model_module_version": "1.5.0",
            "_view_count": null,
            "_view_module_version": "1.2.0",
            "bar_color": null,
            "_model_module": "@jupyter-widgets/controls"
          }
        },
        "866e57c698b54b39a7fb205f2d83afd9": {
          "model_module": "@jupyter-widgets/base",
          "model_name": "LayoutModel",
          "state": {
            "_view_name": "LayoutView",
            "grid_template_rows": null,
            "right": null,
            "justify_content": null,
            "_view_module": "@jupyter-widgets/base",
            "overflow": null,
            "_model_module_version": "1.2.0",
            "_view_count": null,
            "flex_flow": null,
            "width": null,
            "min_width": null,
            "border": null,
            "align_items": null,
            "bottom": null,
            "_model_module": "@jupyter-widgets/base",
            "top": null,
            "grid_column": null,
            "overflow_y": null,
            "overflow_x": null,
            "grid_auto_flow": null,
            "grid_area": null,
            "grid_template_columns": null,
            "flex": null,
            "_model_name": "LayoutModel",
            "justify_items": null,
            "grid_row": null,
            "max_height": null,
            "align_content": null,
            "visibility": null,
            "align_self": null,
            "height": null,
            "min_height": null,
            "padding": null,
            "grid_auto_rows": null,
            "grid_gap": null,
            "max_width": null,
            "order": null,
            "_view_module_version": "1.2.0",
            "grid_template_areas": null,
            "object_position": null,
            "object_fit": null,
            "grid_auto_columns": null,
            "margin": null,
            "display": null,
            "left": null
          }
        },
        "2564cccb3a9d49b9aee080f4f56d4603": {
          "model_module": "@jupyter-widgets/controls",
          "model_name": "DescriptionStyleModel",
          "state": {
            "_view_name": "StyleView",
            "_model_name": "DescriptionStyleModel",
            "description_width": "",
            "_view_module": "@jupyter-widgets/base",
            "_model_module_version": "1.5.0",
            "_view_count": null,
            "_view_module_version": "1.2.0",
            "_model_module": "@jupyter-widgets/controls"
          }
        },
        "4ef230cb3e854861b56f6f00c62361be": {
          "model_module": "@jupyter-widgets/base",
          "model_name": "LayoutModel",
          "state": {
            "_view_name": "LayoutView",
            "grid_template_rows": null,
            "right": null,
            "justify_content": null,
            "_view_module": "@jupyter-widgets/base",
            "overflow": null,
            "_model_module_version": "1.2.0",
            "_view_count": null,
            "flex_flow": null,
            "width": null,
            "min_width": null,
            "border": null,
            "align_items": null,
            "bottom": null,
            "_model_module": "@jupyter-widgets/base",
            "top": null,
            "grid_column": null,
            "overflow_y": null,
            "overflow_x": null,
            "grid_auto_flow": null,
            "grid_area": null,
            "grid_template_columns": null,
            "flex": null,
            "_model_name": "LayoutModel",
            "justify_items": null,
            "grid_row": null,
            "max_height": null,
            "align_content": null,
            "visibility": null,
            "align_self": null,
            "height": null,
            "min_height": null,
            "padding": null,
            "grid_auto_rows": null,
            "grid_gap": null,
            "max_width": null,
            "order": null,
            "_view_module_version": "1.2.0",
            "grid_template_areas": null,
            "object_position": null,
            "object_fit": null,
            "grid_auto_columns": null,
            "margin": null,
            "display": null,
            "left": null
          }
        },
        "5f017f14a4cf4fe4b99900b7fffa5e47": {
          "model_module": "@jupyter-widgets/controls",
          "model_name": "HBoxModel",
          "state": {
            "_view_name": "HBoxView",
            "_dom_classes": [],
            "_model_name": "HBoxModel",
            "_view_module": "@jupyter-widgets/controls",
            "_model_module_version": "1.5.0",
            "_view_count": null,
            "_view_module_version": "1.5.0",
            "box_style": "",
            "layout": "IPY_MODEL_d8f66ccd643b462f873318f3e64fc1a4",
            "_model_module": "@jupyter-widgets/controls",
            "children": [
              "IPY_MODEL_a1c7d3b3c28a4dfca6fe858d8186ead4",
              "IPY_MODEL_95c2baadbf314d7586fe104aeb45f574"
            ]
          }
        },
        "d8f66ccd643b462f873318f3e64fc1a4": {
          "model_module": "@jupyter-widgets/base",
          "model_name": "LayoutModel",
          "state": {
            "_view_name": "LayoutView",
            "grid_template_rows": null,
            "right": null,
            "justify_content": null,
            "_view_module": "@jupyter-widgets/base",
            "overflow": null,
            "_model_module_version": "1.2.0",
            "_view_count": null,
            "flex_flow": null,
            "width": null,
            "min_width": null,
            "border": null,
            "align_items": null,
            "bottom": null,
            "_model_module": "@jupyter-widgets/base",
            "top": null,
            "grid_column": null,
            "overflow_y": null,
            "overflow_x": null,
            "grid_auto_flow": null,
            "grid_area": null,
            "grid_template_columns": null,
            "flex": null,
            "_model_name": "LayoutModel",
            "justify_items": null,
            "grid_row": null,
            "max_height": null,
            "align_content": null,
            "visibility": null,
            "align_self": null,
            "height": null,
            "min_height": null,
            "padding": null,
            "grid_auto_rows": null,
            "grid_gap": null,
            "max_width": null,
            "order": null,
            "_view_module_version": "1.2.0",
            "grid_template_areas": null,
            "object_position": null,
            "object_fit": null,
            "grid_auto_columns": null,
            "margin": null,
            "display": null,
            "left": null
          }
        },
        "a1c7d3b3c28a4dfca6fe858d8186ead4": {
          "model_module": "@jupyter-widgets/controls",
          "model_name": "FloatProgressModel",
          "state": {
            "_view_name": "ProgressView",
            "style": "IPY_MODEL_5edce2333dd04adb809cc0c7b77ba017",
            "_dom_classes": [],
            "description": "Downloading: 100%",
            "_model_name": "FloatProgressModel",
            "bar_style": "success",
            "max": 1355863,
            "_view_module": "@jupyter-widgets/controls",
            "_model_module_version": "1.5.0",
            "value": 1355863,
            "_view_count": null,
            "_view_module_version": "1.5.0",
            "orientation": "horizontal",
            "min": 0,
            "description_tooltip": null,
            "_model_module": "@jupyter-widgets/controls",
            "layout": "IPY_MODEL_295f829cafbe4cc88615cb8f61fe2d40"
          }
        },
        "95c2baadbf314d7586fe104aeb45f574": {
          "model_module": "@jupyter-widgets/controls",
          "model_name": "HTMLModel",
          "state": {
            "_view_name": "HTMLView",
            "style": "IPY_MODEL_b15ca8c1be364a779354f8ec360c5875",
            "_dom_classes": [],
            "description": "",
            "_model_name": "HTMLModel",
            "placeholder": "​",
            "_view_module": "@jupyter-widgets/controls",
            "_model_module_version": "1.5.0",
            "value": " 1.36M/1.36M [00:00&lt;00:00, 2.41MB/s]",
            "_view_count": null,
            "_view_module_version": "1.5.0",
            "description_tooltip": null,
            "_model_module": "@jupyter-widgets/controls",
            "layout": "IPY_MODEL_f619f4fa19814638aebd6be8ac68b336"
          }
        },
        "5edce2333dd04adb809cc0c7b77ba017": {
          "model_module": "@jupyter-widgets/controls",
          "model_name": "ProgressStyleModel",
          "state": {
            "_view_name": "StyleView",
            "_model_name": "ProgressStyleModel",
            "description_width": "initial",
            "_view_module": "@jupyter-widgets/base",
            "_model_module_version": "1.5.0",
            "_view_count": null,
            "_view_module_version": "1.2.0",
            "bar_color": null,
            "_model_module": "@jupyter-widgets/controls"
          }
        },
        "295f829cafbe4cc88615cb8f61fe2d40": {
          "model_module": "@jupyter-widgets/base",
          "model_name": "LayoutModel",
          "state": {
            "_view_name": "LayoutView",
            "grid_template_rows": null,
            "right": null,
            "justify_content": null,
            "_view_module": "@jupyter-widgets/base",
            "overflow": null,
            "_model_module_version": "1.2.0",
            "_view_count": null,
            "flex_flow": null,
            "width": null,
            "min_width": null,
            "border": null,
            "align_items": null,
            "bottom": null,
            "_model_module": "@jupyter-widgets/base",
            "top": null,
            "grid_column": null,
            "overflow_y": null,
            "overflow_x": null,
            "grid_auto_flow": null,
            "grid_area": null,
            "grid_template_columns": null,
            "flex": null,
            "_model_name": "LayoutModel",
            "justify_items": null,
            "grid_row": null,
            "max_height": null,
            "align_content": null,
            "visibility": null,
            "align_self": null,
            "height": null,
            "min_height": null,
            "padding": null,
            "grid_auto_rows": null,
            "grid_gap": null,
            "max_width": null,
            "order": null,
            "_view_module_version": "1.2.0",
            "grid_template_areas": null,
            "object_position": null,
            "object_fit": null,
            "grid_auto_columns": null,
            "margin": null,
            "display": null,
            "left": null
          }
        },
        "b15ca8c1be364a779354f8ec360c5875": {
          "model_module": "@jupyter-widgets/controls",
          "model_name": "DescriptionStyleModel",
          "state": {
            "_view_name": "StyleView",
            "_model_name": "DescriptionStyleModel",
            "description_width": "",
            "_view_module": "@jupyter-widgets/base",
            "_model_module_version": "1.5.0",
            "_view_count": null,
            "_view_module_version": "1.2.0",
            "_model_module": "@jupyter-widgets/controls"
          }
        },
        "f619f4fa19814638aebd6be8ac68b336": {
          "model_module": "@jupyter-widgets/base",
          "model_name": "LayoutModel",
          "state": {
            "_view_name": "LayoutView",
            "grid_template_rows": null,
            "right": null,
            "justify_content": null,
            "_view_module": "@jupyter-widgets/base",
            "overflow": null,
            "_model_module_version": "1.2.0",
            "_view_count": null,
            "flex_flow": null,
            "width": null,
            "min_width": null,
            "border": null,
            "align_items": null,
            "bottom": null,
            "_model_module": "@jupyter-widgets/base",
            "top": null,
            "grid_column": null,
            "overflow_y": null,
            "overflow_x": null,
            "grid_auto_flow": null,
            "grid_area": null,
            "grid_template_columns": null,
            "flex": null,
            "_model_name": "LayoutModel",
            "justify_items": null,
            "grid_row": null,
            "max_height": null,
            "align_content": null,
            "visibility": null,
            "align_self": null,
            "height": null,
            "min_height": null,
            "padding": null,
            "grid_auto_rows": null,
            "grid_gap": null,
            "max_width": null,
            "order": null,
            "_view_module_version": "1.2.0",
            "grid_template_areas": null,
            "object_position": null,
            "object_fit": null,
            "grid_auto_columns": null,
            "margin": null,
            "display": null,
            "left": null
          }
        },
        "998b99e359c04e19880a09b8345d1e44": {
          "model_module": "@jupyter-widgets/controls",
          "model_name": "HBoxModel",
          "state": {
            "_view_name": "HBoxView",
            "_dom_classes": [],
            "_model_name": "HBoxModel",
            "_view_module": "@jupyter-widgets/controls",
            "_model_module_version": "1.5.0",
            "_view_count": null,
            "_view_module_version": "1.5.0",
            "box_style": "",
            "layout": "IPY_MODEL_e66a0525f342415fbeaae64366d46576",
            "_model_module": "@jupyter-widgets/controls",
            "children": [
              "IPY_MODEL_ce296774127e49f984d8f2efdcc58624",
              "IPY_MODEL_eebc9dde73ef44d19ec870309aa7a9c0"
            ]
          }
        },
        "e66a0525f342415fbeaae64366d46576": {
          "model_module": "@jupyter-widgets/base",
          "model_name": "LayoutModel",
          "state": {
            "_view_name": "LayoutView",
            "grid_template_rows": null,
            "right": null,
            "justify_content": null,
            "_view_module": "@jupyter-widgets/base",
            "overflow": null,
            "_model_module_version": "1.2.0",
            "_view_count": null,
            "flex_flow": null,
            "width": null,
            "min_width": null,
            "border": null,
            "align_items": null,
            "bottom": null,
            "_model_module": "@jupyter-widgets/base",
            "top": null,
            "grid_column": null,
            "overflow_y": null,
            "overflow_x": null,
            "grid_auto_flow": null,
            "grid_area": null,
            "grid_template_columns": null,
            "flex": null,
            "_model_name": "LayoutModel",
            "justify_items": null,
            "grid_row": null,
            "max_height": null,
            "align_content": null,
            "visibility": null,
            "align_self": null,
            "height": null,
            "min_height": null,
            "padding": null,
            "grid_auto_rows": null,
            "grid_gap": null,
            "max_width": null,
            "order": null,
            "_view_module_version": "1.2.0",
            "grid_template_areas": null,
            "object_position": null,
            "object_fit": null,
            "grid_auto_columns": null,
            "margin": null,
            "display": null,
            "left": null
          }
        },
        "ce296774127e49f984d8f2efdcc58624": {
          "model_module": "@jupyter-widgets/controls",
          "model_name": "FloatProgressModel",
          "state": {
            "_view_name": "ProgressView",
            "style": "IPY_MODEL_4efa8147d8d445a1a98426400ab666ba",
            "_dom_classes": [],
            "description": "Downloading: 100%",
            "_model_name": "FloatProgressModel",
            "bar_style": "success",
            "max": 482,
            "_view_module": "@jupyter-widgets/controls",
            "_model_module_version": "1.5.0",
            "value": 482,
            "_view_count": null,
            "_view_module_version": "1.5.0",
            "orientation": "horizontal",
            "min": 0,
            "description_tooltip": null,
            "_model_module": "@jupyter-widgets/controls",
            "layout": "IPY_MODEL_9acb7267a89541f7aa757a6ec00c0185"
          }
        },
        "eebc9dde73ef44d19ec870309aa7a9c0": {
          "model_module": "@jupyter-widgets/controls",
          "model_name": "HTMLModel",
          "state": {
            "_view_name": "HTMLView",
            "style": "IPY_MODEL_28c30fb14aea43a7a773f8e01656a140",
            "_dom_classes": [],
            "description": "",
            "_model_name": "HTMLModel",
            "placeholder": "​",
            "_view_module": "@jupyter-widgets/controls",
            "_model_module_version": "1.5.0",
            "value": " 482/482 [00:32&lt;00:00, 15.0B/s]",
            "_view_count": null,
            "_view_module_version": "1.5.0",
            "description_tooltip": null,
            "_model_module": "@jupyter-widgets/controls",
            "layout": "IPY_MODEL_a815d350466c46d5a1c7c7adc62989e1"
          }
        },
        "4efa8147d8d445a1a98426400ab666ba": {
          "model_module": "@jupyter-widgets/controls",
          "model_name": "ProgressStyleModel",
          "state": {
            "_view_name": "StyleView",
            "_model_name": "ProgressStyleModel",
            "description_width": "initial",
            "_view_module": "@jupyter-widgets/base",
            "_model_module_version": "1.5.0",
            "_view_count": null,
            "_view_module_version": "1.2.0",
            "bar_color": null,
            "_model_module": "@jupyter-widgets/controls"
          }
        },
        "9acb7267a89541f7aa757a6ec00c0185": {
          "model_module": "@jupyter-widgets/base",
          "model_name": "LayoutModel",
          "state": {
            "_view_name": "LayoutView",
            "grid_template_rows": null,
            "right": null,
            "justify_content": null,
            "_view_module": "@jupyter-widgets/base",
            "overflow": null,
            "_model_module_version": "1.2.0",
            "_view_count": null,
            "flex_flow": null,
            "width": null,
            "min_width": null,
            "border": null,
            "align_items": null,
            "bottom": null,
            "_model_module": "@jupyter-widgets/base",
            "top": null,
            "grid_column": null,
            "overflow_y": null,
            "overflow_x": null,
            "grid_auto_flow": null,
            "grid_area": null,
            "grid_template_columns": null,
            "flex": null,
            "_model_name": "LayoutModel",
            "justify_items": null,
            "grid_row": null,
            "max_height": null,
            "align_content": null,
            "visibility": null,
            "align_self": null,
            "height": null,
            "min_height": null,
            "padding": null,
            "grid_auto_rows": null,
            "grid_gap": null,
            "max_width": null,
            "order": null,
            "_view_module_version": "1.2.0",
            "grid_template_areas": null,
            "object_position": null,
            "object_fit": null,
            "grid_auto_columns": null,
            "margin": null,
            "display": null,
            "left": null
          }
        },
        "28c30fb14aea43a7a773f8e01656a140": {
          "model_module": "@jupyter-widgets/controls",
          "model_name": "DescriptionStyleModel",
          "state": {
            "_view_name": "StyleView",
            "_model_name": "DescriptionStyleModel",
            "description_width": "",
            "_view_module": "@jupyter-widgets/base",
            "_model_module_version": "1.5.0",
            "_view_count": null,
            "_view_module_version": "1.2.0",
            "_model_module": "@jupyter-widgets/controls"
          }
        },
        "a815d350466c46d5a1c7c7adc62989e1": {
          "model_module": "@jupyter-widgets/base",
          "model_name": "LayoutModel",
          "state": {
            "_view_name": "LayoutView",
            "grid_template_rows": null,
            "right": null,
            "justify_content": null,
            "_view_module": "@jupyter-widgets/base",
            "overflow": null,
            "_model_module_version": "1.2.0",
            "_view_count": null,
            "flex_flow": null,
            "width": null,
            "min_width": null,
            "border": null,
            "align_items": null,
            "bottom": null,
            "_model_module": "@jupyter-widgets/base",
            "top": null,
            "grid_column": null,
            "overflow_y": null,
            "overflow_x": null,
            "grid_auto_flow": null,
            "grid_area": null,
            "grid_template_columns": null,
            "flex": null,
            "_model_name": "LayoutModel",
            "justify_items": null,
            "grid_row": null,
            "max_height": null,
            "align_content": null,
            "visibility": null,
            "align_self": null,
            "height": null,
            "min_height": null,
            "padding": null,
            "grid_auto_rows": null,
            "grid_gap": null,
            "max_width": null,
            "order": null,
            "_view_module_version": "1.2.0",
            "grid_template_areas": null,
            "object_position": null,
            "object_fit": null,
            "grid_auto_columns": null,
            "margin": null,
            "display": null,
            "left": null
          }
        },
        "ae24414d706d4d3cbcb4374dd130a705": {
          "model_module": "@jupyter-widgets/controls",
          "model_name": "HBoxModel",
          "state": {
            "_view_name": "HBoxView",
            "_dom_classes": [],
            "_model_name": "HBoxModel",
            "_view_module": "@jupyter-widgets/controls",
            "_model_module_version": "1.5.0",
            "_view_count": null,
            "_view_module_version": "1.5.0",
            "box_style": "",
            "layout": "IPY_MODEL_36440ae177d64b1dbdf60a830e73bb95",
            "_model_module": "@jupyter-widgets/controls",
            "children": [
              "IPY_MODEL_053fe6ae2e324449899fa71ff5e4bd6b",
              "IPY_MODEL_0c07a552dcfb4cfbab63157bf578bcdd"
            ]
          }
        },
        "36440ae177d64b1dbdf60a830e73bb95": {
          "model_module": "@jupyter-widgets/base",
          "model_name": "LayoutModel",
          "state": {
            "_view_name": "LayoutView",
            "grid_template_rows": null,
            "right": null,
            "justify_content": null,
            "_view_module": "@jupyter-widgets/base",
            "overflow": null,
            "_model_module_version": "1.2.0",
            "_view_count": null,
            "flex_flow": null,
            "width": null,
            "min_width": null,
            "border": null,
            "align_items": null,
            "bottom": null,
            "_model_module": "@jupyter-widgets/base",
            "top": null,
            "grid_column": null,
            "overflow_y": null,
            "overflow_x": null,
            "grid_auto_flow": null,
            "grid_area": null,
            "grid_template_columns": null,
            "flex": null,
            "_model_name": "LayoutModel",
            "justify_items": null,
            "grid_row": null,
            "max_height": null,
            "align_content": null,
            "visibility": null,
            "align_self": null,
            "height": null,
            "min_height": null,
            "padding": null,
            "grid_auto_rows": null,
            "grid_gap": null,
            "max_width": null,
            "order": null,
            "_view_module_version": "1.2.0",
            "grid_template_areas": null,
            "object_position": null,
            "object_fit": null,
            "grid_auto_columns": null,
            "margin": null,
            "display": null,
            "left": null
          }
        },
        "053fe6ae2e324449899fa71ff5e4bd6b": {
          "model_module": "@jupyter-widgets/controls",
          "model_name": "FloatProgressModel",
          "state": {
            "_view_name": "ProgressView",
            "style": "IPY_MODEL_04f6bc0fd9dd40618ef90f916bee155b",
            "_dom_classes": [],
            "description": "Downloading: 100%",
            "_model_name": "FloatProgressModel",
            "bar_style": "success",
            "max": 1425941629,
            "_view_module": "@jupyter-widgets/controls",
            "_model_module_version": "1.5.0",
            "value": 1425941629,
            "_view_count": null,
            "_view_module_version": "1.5.0",
            "orientation": "horizontal",
            "min": 0,
            "description_tooltip": null,
            "_model_module": "@jupyter-widgets/controls",
            "layout": "IPY_MODEL_2865c7dc09e54f69ac166d6612ab44b8"
          }
        },
        "0c07a552dcfb4cfbab63157bf578bcdd": {
          "model_module": "@jupyter-widgets/controls",
          "model_name": "HTMLModel",
          "state": {
            "_view_name": "HTMLView",
            "style": "IPY_MODEL_3572b476a15f446591b7219a06412381",
            "_dom_classes": [],
            "description": "",
            "_model_name": "HTMLModel",
            "placeholder": "​",
            "_view_module": "@jupyter-widgets/controls",
            "_model_module_version": "1.5.0",
            "value": " 1.43G/1.43G [00:22&lt;00:00, 62.2MB/s]",
            "_view_count": null,
            "_view_module_version": "1.5.0",
            "description_tooltip": null,
            "_model_module": "@jupyter-widgets/controls",
            "layout": "IPY_MODEL_9a5347c8d24e4416af491e52987b73f2"
          }
        },
        "04f6bc0fd9dd40618ef90f916bee155b": {
          "model_module": "@jupyter-widgets/controls",
          "model_name": "ProgressStyleModel",
          "state": {
            "_view_name": "StyleView",
            "_model_name": "ProgressStyleModel",
            "description_width": "initial",
            "_view_module": "@jupyter-widgets/base",
            "_model_module_version": "1.5.0",
            "_view_count": null,
            "_view_module_version": "1.2.0",
            "bar_color": null,
            "_model_module": "@jupyter-widgets/controls"
          }
        },
        "2865c7dc09e54f69ac166d6612ab44b8": {
          "model_module": "@jupyter-widgets/base",
          "model_name": "LayoutModel",
          "state": {
            "_view_name": "LayoutView",
            "grid_template_rows": null,
            "right": null,
            "justify_content": null,
            "_view_module": "@jupyter-widgets/base",
            "overflow": null,
            "_model_module_version": "1.2.0",
            "_view_count": null,
            "flex_flow": null,
            "width": null,
            "min_width": null,
            "border": null,
            "align_items": null,
            "bottom": null,
            "_model_module": "@jupyter-widgets/base",
            "top": null,
            "grid_column": null,
            "overflow_y": null,
            "overflow_x": null,
            "grid_auto_flow": null,
            "grid_area": null,
            "grid_template_columns": null,
            "flex": null,
            "_model_name": "LayoutModel",
            "justify_items": null,
            "grid_row": null,
            "max_height": null,
            "align_content": null,
            "visibility": null,
            "align_self": null,
            "height": null,
            "min_height": null,
            "padding": null,
            "grid_auto_rows": null,
            "grid_gap": null,
            "max_width": null,
            "order": null,
            "_view_module_version": "1.2.0",
            "grid_template_areas": null,
            "object_position": null,
            "object_fit": null,
            "grid_auto_columns": null,
            "margin": null,
            "display": null,
            "left": null
          }
        },
        "3572b476a15f446591b7219a06412381": {
          "model_module": "@jupyter-widgets/controls",
          "model_name": "DescriptionStyleModel",
          "state": {
            "_view_name": "StyleView",
            "_model_name": "DescriptionStyleModel",
            "description_width": "",
            "_view_module": "@jupyter-widgets/base",
            "_model_module_version": "1.5.0",
            "_view_count": null,
            "_view_module_version": "1.2.0",
            "_model_module": "@jupyter-widgets/controls"
          }
        },
        "9a5347c8d24e4416af491e52987b73f2": {
          "model_module": "@jupyter-widgets/base",
          "model_name": "LayoutModel",
          "state": {
            "_view_name": "LayoutView",
            "grid_template_rows": null,
            "right": null,
            "justify_content": null,
            "_view_module": "@jupyter-widgets/base",
            "overflow": null,
            "_model_module_version": "1.2.0",
            "_view_count": null,
            "flex_flow": null,
            "width": null,
            "min_width": null,
            "border": null,
            "align_items": null,
            "bottom": null,
            "_model_module": "@jupyter-widgets/base",
            "top": null,
            "grid_column": null,
            "overflow_y": null,
            "overflow_x": null,
            "grid_auto_flow": null,
            "grid_area": null,
            "grid_template_columns": null,
            "flex": null,
            "_model_name": "LayoutModel",
            "justify_items": null,
            "grid_row": null,
            "max_height": null,
            "align_content": null,
            "visibility": null,
            "align_self": null,
            "height": null,
            "min_height": null,
            "padding": null,
            "grid_auto_rows": null,
            "grid_gap": null,
            "max_width": null,
            "order": null,
            "_view_module_version": "1.2.0",
            "grid_template_areas": null,
            "object_position": null,
            "object_fit": null,
            "grid_auto_columns": null,
            "margin": null,
            "display": null,
            "left": null
          }
        }
      }
    },
    "accelerator": "GPU"
  },
  "cells": [
    {
      "cell_type": "code",
      "metadata": {
        "id": "ODWag8v5yMNq",
        "colab": {
          "base_uri": "https://localhost:8080/"
        },
        "outputId": "86228126-feb2-41f3-a835-02d05632407e"
      },
      "source": [
        "import torch\n",
        "import torch.nn as nn\n",
        "# If there's a GPU available...\n",
        "if torch.cuda.is_available():    \n",
        "\n",
        "    # Tell PyTorch to use the GPU.    \n",
        "    device = torch.device(\"cuda\")\n",
        "\n",
        "    print('There are %d GPU(s) available.' % torch.cuda.device_count())\n",
        "\n",
        "    print('We will use the GPU:', torch.cuda.get_device_name(0))\n",
        "\n",
        "# If not...\n",
        "else:\n",
        "    print('No GPU available, using the CPU instead.')\n",
        "    device = torch.device(\"cpu\")"
      ],
      "execution_count": null,
      "outputs": [
        {
          "output_type": "stream",
          "text": [
            "There are 1 GPU(s) available.\n",
            "We will use the GPU: Tesla V100-SXM2-16GB\n"
          ],
          "name": "stdout"
        }
      ]
    },
    {
      "cell_type": "code",
      "metadata": {
        "colab": {
          "base_uri": "https://localhost:8080/"
        },
        "id": "tDmiIw5-y4po",
        "outputId": "74d4b85c-a0ac-44e4-d5d4-17904eea24be"
      },
      "source": [
        "from psutil import virtual_memory\n",
        "ram_gb = virtual_memory().total / 1e9\n",
        "print('Your runtime has {:.1f} gigabytes of available RAM\\n'.format(ram_gb))\n",
        "\n",
        "if ram_gb < 20:\n",
        "  print('To enable a high-RAM runtime, select the Runtime > \"Change runtime type\"')\n",
        "  print('menu, and then select High-RAM in the Runtime shape dropdown. Then, ')\n",
        "  print('re-execute this cell.')\n",
        "else:\n",
        "  print('You are using a high-RAM runtime!')"
      ],
      "execution_count": null,
      "outputs": [
        {
          "output_type": "stream",
          "text": [
            "Your runtime has 27.4 gigabytes of available RAM\n",
            "\n",
            "You are using a high-RAM runtime!\n"
          ],
          "name": "stdout"
        }
      ]
    },
    {
      "cell_type": "code",
      "metadata": {
        "colab": {
          "base_uri": "https://localhost:8080/"
        },
        "id": "GHAocst8xeME",
        "outputId": "afa25bfc-40f7-4915-f00d-0df50789495d"
      },
      "source": [
        "!pip install transformers\n",
        "!pip install sentencepiece"
      ],
      "execution_count": null,
      "outputs": [
        {
          "output_type": "stream",
          "text": [
            "Collecting transformers\n",
            "\u001b[?25l  Downloading https://files.pythonhosted.org/packages/ed/d5/f4157a376b8a79489a76ce6cfe147f4f3be1e029b7144fa7b8432e8acb26/transformers-4.4.2-py3-none-any.whl (2.0MB)\n",
            "\r\u001b[K     |▏                               | 10kB 22.1MB/s eta 0:00:01\r\u001b[K     |▎                               | 20kB 29.1MB/s eta 0:00:01\r\u001b[K     |▌                               | 30kB 22.7MB/s eta 0:00:01\r\u001b[K     |▋                               | 40kB 17.7MB/s eta 0:00:01\r\u001b[K     |▉                               | 51kB 16.0MB/s eta 0:00:01\r\u001b[K     |█                               | 61kB 14.5MB/s eta 0:00:01\r\u001b[K     |█▏                              | 71kB 16.0MB/s eta 0:00:01\r\u001b[K     |█▎                              | 81kB 15.9MB/s eta 0:00:01\r\u001b[K     |█▌                              | 92kB 15.4MB/s eta 0:00:01\r\u001b[K     |█▋                              | 102kB 16.7MB/s eta 0:00:01\r\u001b[K     |█▉                              | 112kB 16.7MB/s eta 0:00:01\r\u001b[K     |██                              | 122kB 16.7MB/s eta 0:00:01\r\u001b[K     |██▏                             | 133kB 16.7MB/s eta 0:00:01\r\u001b[K     |██▎                             | 143kB 16.7MB/s eta 0:00:01\r\u001b[K     |██▌                             | 153kB 16.7MB/s eta 0:00:01\r\u001b[K     |██▋                             | 163kB 16.7MB/s eta 0:00:01\r\u001b[K     |██▉                             | 174kB 16.7MB/s eta 0:00:01\r\u001b[K     |███                             | 184kB 16.7MB/s eta 0:00:01\r\u001b[K     |███▏                            | 194kB 16.7MB/s eta 0:00:01\r\u001b[K     |███▎                            | 204kB 16.7MB/s eta 0:00:01\r\u001b[K     |███▌                            | 215kB 16.7MB/s eta 0:00:01\r\u001b[K     |███▋                            | 225kB 16.7MB/s eta 0:00:01\r\u001b[K     |███▉                            | 235kB 16.7MB/s eta 0:00:01\r\u001b[K     |████                            | 245kB 16.7MB/s eta 0:00:01\r\u001b[K     |████▏                           | 256kB 16.7MB/s eta 0:00:01\r\u001b[K     |████▎                           | 266kB 16.7MB/s eta 0:00:01\r\u001b[K     |████▌                           | 276kB 16.7MB/s eta 0:00:01\r\u001b[K     |████▋                           | 286kB 16.7MB/s eta 0:00:01\r\u001b[K     |████▉                           | 296kB 16.7MB/s eta 0:00:01\r\u001b[K     |█████                           | 307kB 16.7MB/s eta 0:00:01\r\u001b[K     |█████▏                          | 317kB 16.7MB/s eta 0:00:01\r\u001b[K     |█████▎                          | 327kB 16.7MB/s eta 0:00:01\r\u001b[K     |█████▌                          | 337kB 16.7MB/s eta 0:00:01\r\u001b[K     |█████▋                          | 348kB 16.7MB/s eta 0:00:01\r\u001b[K     |█████▉                          | 358kB 16.7MB/s eta 0:00:01\r\u001b[K     |██████                          | 368kB 16.7MB/s eta 0:00:01\r\u001b[K     |██████▏                         | 378kB 16.7MB/s eta 0:00:01\r\u001b[K     |██████▎                         | 389kB 16.7MB/s eta 0:00:01\r\u001b[K     |██████▌                         | 399kB 16.7MB/s eta 0:00:01\r\u001b[K     |██████▋                         | 409kB 16.7MB/s eta 0:00:01\r\u001b[K     |██████▉                         | 419kB 16.7MB/s eta 0:00:01\r\u001b[K     |███████                         | 430kB 16.7MB/s eta 0:00:01\r\u001b[K     |███████▏                        | 440kB 16.7MB/s eta 0:00:01\r\u001b[K     |███████▎                        | 450kB 16.7MB/s eta 0:00:01\r\u001b[K     |███████▌                        | 460kB 16.7MB/s eta 0:00:01\r\u001b[K     |███████▋                        | 471kB 16.7MB/s eta 0:00:01\r\u001b[K     |███████▉                        | 481kB 16.7MB/s eta 0:00:01\r\u001b[K     |████████                        | 491kB 16.7MB/s eta 0:00:01\r\u001b[K     |████████▏                       | 501kB 16.7MB/s eta 0:00:01\r\u001b[K     |████████▎                       | 512kB 16.7MB/s eta 0:00:01\r\u001b[K     |████████▌                       | 522kB 16.7MB/s eta 0:00:01\r\u001b[K     |████████▋                       | 532kB 16.7MB/s eta 0:00:01\r\u001b[K     |████████▉                       | 542kB 16.7MB/s eta 0:00:01\r\u001b[K     |█████████                       | 552kB 16.7MB/s eta 0:00:01\r\u001b[K     |█████████▏                      | 563kB 16.7MB/s eta 0:00:01\r\u001b[K     |█████████▎                      | 573kB 16.7MB/s eta 0:00:01\r\u001b[K     |█████████▌                      | 583kB 16.7MB/s eta 0:00:01\r\u001b[K     |█████████▋                      | 593kB 16.7MB/s eta 0:00:01\r\u001b[K     |█████████▉                      | 604kB 16.7MB/s eta 0:00:01\r\u001b[K     |██████████                      | 614kB 16.7MB/s eta 0:00:01\r\u001b[K     |██████████▏                     | 624kB 16.7MB/s eta 0:00:01\r\u001b[K     |██████████▎                     | 634kB 16.7MB/s eta 0:00:01\r\u001b[K     |██████████▌                     | 645kB 16.7MB/s eta 0:00:01\r\u001b[K     |██████████▋                     | 655kB 16.7MB/s eta 0:00:01\r\u001b[K     |██████████▉                     | 665kB 16.7MB/s eta 0:00:01\r\u001b[K     |███████████                     | 675kB 16.7MB/s eta 0:00:01\r\u001b[K     |███████████▏                    | 686kB 16.7MB/s eta 0:00:01\r\u001b[K     |███████████▎                    | 696kB 16.7MB/s eta 0:00:01\r\u001b[K     |███████████▌                    | 706kB 16.7MB/s eta 0:00:01\r\u001b[K     |███████████▋                    | 716kB 16.7MB/s eta 0:00:01\r\u001b[K     |███████████▉                    | 727kB 16.7MB/s eta 0:00:01\r\u001b[K     |████████████                    | 737kB 16.7MB/s eta 0:00:01\r\u001b[K     |████████████▏                   | 747kB 16.7MB/s eta 0:00:01\r\u001b[K     |████████████▎                   | 757kB 16.7MB/s eta 0:00:01\r\u001b[K     |████████████▌                   | 768kB 16.7MB/s eta 0:00:01\r\u001b[K     |████████████▋                   | 778kB 16.7MB/s eta 0:00:01\r\u001b[K     |████████████▉                   | 788kB 16.7MB/s eta 0:00:01\r\u001b[K     |█████████████                   | 798kB 16.7MB/s eta 0:00:01\r\u001b[K     |█████████████▏                  | 808kB 16.7MB/s eta 0:00:01\r\u001b[K     |█████████████▎                  | 819kB 16.7MB/s eta 0:00:01\r\u001b[K     |█████████████▌                  | 829kB 16.7MB/s eta 0:00:01\r\u001b[K     |█████████████▋                  | 839kB 16.7MB/s eta 0:00:01\r\u001b[K     |█████████████▉                  | 849kB 16.7MB/s eta 0:00:01\r\u001b[K     |██████████████                  | 860kB 16.7MB/s eta 0:00:01\r\u001b[K     |██████████████▏                 | 870kB 16.7MB/s eta 0:00:01\r\u001b[K     |██████████████▎                 | 880kB 16.7MB/s eta 0:00:01\r\u001b[K     |██████████████▌                 | 890kB 16.7MB/s eta 0:00:01\r\u001b[K     |██████████████▋                 | 901kB 16.7MB/s eta 0:00:01\r\u001b[K     |██████████████▊                 | 911kB 16.7MB/s eta 0:00:01\r\u001b[K     |███████████████                 | 921kB 16.7MB/s eta 0:00:01\r\u001b[K     |███████████████                 | 931kB 16.7MB/s eta 0:00:01\r\u001b[K     |███████████████▎                | 942kB 16.7MB/s eta 0:00:01\r\u001b[K     |███████████████▍                | 952kB 16.7MB/s eta 0:00:01\r\u001b[K     |███████████████▋                | 962kB 16.7MB/s eta 0:00:01\r\u001b[K     |███████████████▊                | 972kB 16.7MB/s eta 0:00:01\r\u001b[K     |████████████████                | 983kB 16.7MB/s eta 0:00:01\r\u001b[K     |████████████████                | 993kB 16.7MB/s eta 0:00:01\r\u001b[K     |████████████████▎               | 1.0MB 16.7MB/s eta 0:00:01\r\u001b[K     |████████████████▍               | 1.0MB 16.7MB/s eta 0:00:01\r\u001b[K     |████████████████▋               | 1.0MB 16.7MB/s eta 0:00:01\r\u001b[K     |████████████████▊               | 1.0MB 16.7MB/s eta 0:00:01\r\u001b[K     |█████████████████               | 1.0MB 16.7MB/s eta 0:00:01\r\u001b[K     |█████████████████               | 1.1MB 16.7MB/s eta 0:00:01\r\u001b[K     |█████████████████▎              | 1.1MB 16.7MB/s eta 0:00:01\r\u001b[K     |█████████████████▍              | 1.1MB 16.7MB/s eta 0:00:01\r\u001b[K     |█████████████████▋              | 1.1MB 16.7MB/s eta 0:00:01\r\u001b[K     |█████████████████▊              | 1.1MB 16.7MB/s eta 0:00:01\r\u001b[K     |██████████████████              | 1.1MB 16.7MB/s eta 0:00:01\r\u001b[K     |██████████████████              | 1.1MB 16.7MB/s eta 0:00:01\r\u001b[K     |██████████████████▎             | 1.1MB 16.7MB/s eta 0:00:01\r\u001b[K     |██████████████████▍             | 1.1MB 16.7MB/s eta 0:00:01\r\u001b[K     |██████████████████▋             | 1.1MB 16.7MB/s eta 0:00:01\r\u001b[K     |██████████████████▊             | 1.2MB 16.7MB/s eta 0:00:01\r\u001b[K     |███████████████████             | 1.2MB 16.7MB/s eta 0:00:01\r\u001b[K     |███████████████████             | 1.2MB 16.7MB/s eta 0:00:01\r\u001b[K     |███████████████████▎            | 1.2MB 16.7MB/s eta 0:00:01\r\u001b[K     |███████████████████▍            | 1.2MB 16.7MB/s eta 0:00:01\r\u001b[K     |███████████████████▋            | 1.2MB 16.7MB/s eta 0:00:01\r\u001b[K     |███████████████████▊            | 1.2MB 16.7MB/s eta 0:00:01\r\u001b[K     |████████████████████            | 1.2MB 16.7MB/s eta 0:00:01\r\u001b[K     |████████████████████            | 1.2MB 16.7MB/s eta 0:00:01\r\u001b[K     |████████████████████▎           | 1.2MB 16.7MB/s eta 0:00:01\r\u001b[K     |████████████████████▍           | 1.3MB 16.7MB/s eta 0:00:01\r\u001b[K     |████████████████████▋           | 1.3MB 16.7MB/s eta 0:00:01\r\u001b[K     |████████████████████▊           | 1.3MB 16.7MB/s eta 0:00:01\r\u001b[K     |█████████████████████           | 1.3MB 16.7MB/s eta 0:00:01\r\u001b[K     |█████████████████████           | 1.3MB 16.7MB/s eta 0:00:01\r\u001b[K     |█████████████████████▎          | 1.3MB 16.7MB/s eta 0:00:01\r\u001b[K     |█████████████████████▍          | 1.3MB 16.7MB/s eta 0:00:01\r\u001b[K     |█████████████████████▋          | 1.3MB 16.7MB/s eta 0:00:01\r\u001b[K     |█████████████████████▊          | 1.3MB 16.7MB/s eta 0:00:01\r\u001b[K     |██████████████████████          | 1.4MB 16.7MB/s eta 0:00:01\r\u001b[K     |██████████████████████          | 1.4MB 16.7MB/s eta 0:00:01\r\u001b[K     |██████████████████████▎         | 1.4MB 16.7MB/s eta 0:00:01\r\u001b[K     |██████████████████████▍         | 1.4MB 16.7MB/s eta 0:00:01\r\u001b[K     |██████████████████████▋         | 1.4MB 16.7MB/s eta 0:00:01\r\u001b[K     |██████████████████████▊         | 1.4MB 16.7MB/s eta 0:00:01\r\u001b[K     |███████████████████████         | 1.4MB 16.7MB/s eta 0:00:01\r\u001b[K     |███████████████████████         | 1.4MB 16.7MB/s eta 0:00:01\r\u001b[K     |███████████████████████▎        | 1.4MB 16.7MB/s eta 0:00:01\r\u001b[K     |███████████████████████▍        | 1.4MB 16.7MB/s eta 0:00:01\r\u001b[K     |███████████████████████▋        | 1.5MB 16.7MB/s eta 0:00:01\r\u001b[K     |███████████████████████▊        | 1.5MB 16.7MB/s eta 0:00:01\r\u001b[K     |████████████████████████        | 1.5MB 16.7MB/s eta 0:00:01\r\u001b[K     |████████████████████████        | 1.5MB 16.7MB/s eta 0:00:01\r\u001b[K     |████████████████████████▎       | 1.5MB 16.7MB/s eta 0:00:01\r\u001b[K     |████████████████████████▍       | 1.5MB 16.7MB/s eta 0:00:01\r\u001b[K     |████████████████████████▋       | 1.5MB 16.7MB/s eta 0:00:01\r\u001b[K     |████████████████████████▊       | 1.5MB 16.7MB/s eta 0:00:01\r\u001b[K     |█████████████████████████       | 1.5MB 16.7MB/s eta 0:00:01\r\u001b[K     |█████████████████████████       | 1.5MB 16.7MB/s eta 0:00:01\r\u001b[K     |█████████████████████████▎      | 1.6MB 16.7MB/s eta 0:00:01\r\u001b[K     |█████████████████████████▍      | 1.6MB 16.7MB/s eta 0:00:01\r\u001b[K     |█████████████████████████▋      | 1.6MB 16.7MB/s eta 0:00:01\r\u001b[K     |█████████████████████████▊      | 1.6MB 16.7MB/s eta 0:00:01\r\u001b[K     |██████████████████████████      | 1.6MB 16.7MB/s eta 0:00:01\r\u001b[K     |██████████████████████████      | 1.6MB 16.7MB/s eta 0:00:01\r\u001b[K     |██████████████████████████▎     | 1.6MB 16.7MB/s eta 0:00:01\r\u001b[K     |██████████████████████████▍     | 1.6MB 16.7MB/s eta 0:00:01\r\u001b[K     |██████████████████████████▋     | 1.6MB 16.7MB/s eta 0:00:01\r\u001b[K     |██████████████████████████▊     | 1.6MB 16.7MB/s eta 0:00:01\r\u001b[K     |███████████████████████████     | 1.7MB 16.7MB/s eta 0:00:01\r\u001b[K     |███████████████████████████     | 1.7MB 16.7MB/s eta 0:00:01\r\u001b[K     |███████████████████████████▎    | 1.7MB 16.7MB/s eta 0:00:01\r\u001b[K     |███████████████████████████▍    | 1.7MB 16.7MB/s eta 0:00:01\r\u001b[K     |███████████████████████████▋    | 1.7MB 16.7MB/s eta 0:00:01\r\u001b[K     |███████████████████████████▊    | 1.7MB 16.7MB/s eta 0:00:01\r\u001b[K     |████████████████████████████    | 1.7MB 16.7MB/s eta 0:00:01\r\u001b[K     |████████████████████████████    | 1.7MB 16.7MB/s eta 0:00:01\r\u001b[K     |████████████████████████████▎   | 1.7MB 16.7MB/s eta 0:00:01\r\u001b[K     |████████████████████████████▍   | 1.8MB 16.7MB/s eta 0:00:01\r\u001b[K     |████████████████████████████▋   | 1.8MB 16.7MB/s eta 0:00:01\r\u001b[K     |████████████████████████████▊   | 1.8MB 16.7MB/s eta 0:00:01\r\u001b[K     |█████████████████████████████   | 1.8MB 16.7MB/s eta 0:00:01\r\u001b[K     |█████████████████████████████   | 1.8MB 16.7MB/s eta 0:00:01\r\u001b[K     |█████████████████████████████▎  | 1.8MB 16.7MB/s eta 0:00:01\r\u001b[K     |█████████████████████████████▍  | 1.8MB 16.7MB/s eta 0:00:01\r\u001b[K     |█████████████████████████████▌  | 1.8MB 16.7MB/s eta 0:00:01\r\u001b[K     |█████████████████████████████▊  | 1.8MB 16.7MB/s eta 0:00:01\r\u001b[K     |█████████████████████████████▉  | 1.8MB 16.7MB/s eta 0:00:01\r\u001b[K     |██████████████████████████████  | 1.9MB 16.7MB/s eta 0:00:01\r\u001b[K     |██████████████████████████████▏ | 1.9MB 16.7MB/s eta 0:00:01\r\u001b[K     |██████████████████████████████▍ | 1.9MB 16.7MB/s eta 0:00:01\r\u001b[K     |██████████████████████████████▌ | 1.9MB 16.7MB/s eta 0:00:01\r\u001b[K     |██████████████████████████████▊ | 1.9MB 16.7MB/s eta 0:00:01\r\u001b[K     |██████████████████████████████▉ | 1.9MB 16.7MB/s eta 0:00:01\r\u001b[K     |███████████████████████████████ | 1.9MB 16.7MB/s eta 0:00:01\r\u001b[K     |███████████████████████████████▏| 1.9MB 16.7MB/s eta 0:00:01\r\u001b[K     |███████████████████████████████▍| 1.9MB 16.7MB/s eta 0:00:01\r\u001b[K     |███████████████████████████████▌| 1.9MB 16.7MB/s eta 0:00:01\r\u001b[K     |███████████████████████████████▊| 2.0MB 16.7MB/s eta 0:00:01\r\u001b[K     |███████████████████████████████▉| 2.0MB 16.7MB/s eta 0:00:01\r\u001b[K     |████████████████████████████████| 2.0MB 16.7MB/s \n",
            "\u001b[?25hRequirement already satisfied: tqdm>=4.27 in /usr/local/lib/python3.7/dist-packages (from transformers) (4.41.1)\n",
            "Requirement already satisfied: importlib-metadata; python_version < \"3.8\" in /usr/local/lib/python3.7/dist-packages (from transformers) (3.7.2)\n",
            "Requirement already satisfied: numpy>=1.17 in /usr/local/lib/python3.7/dist-packages (from transformers) (1.19.5)\n",
            "Requirement already satisfied: regex!=2019.12.17 in /usr/local/lib/python3.7/dist-packages (from transformers) (2019.12.20)\n",
            "Collecting tokenizers<0.11,>=0.10.1\n",
            "\u001b[?25l  Downloading https://files.pythonhosted.org/packages/71/23/2ddc317b2121117bf34dd00f5b0de194158f2a44ee2bf5e47c7166878a97/tokenizers-0.10.1-cp37-cp37m-manylinux2010_x86_64.whl (3.2MB)\n",
            "\u001b[K     |████████████████████████████████| 3.2MB 60.6MB/s \n",
            "\u001b[?25hCollecting sacremoses\n",
            "\u001b[?25l  Downloading https://files.pythonhosted.org/packages/7d/34/09d19aff26edcc8eb2a01bed8e98f13a1537005d31e95233fd48216eed10/sacremoses-0.0.43.tar.gz (883kB)\n",
            "\u001b[K     |████████████████████████████████| 890kB 61.8MB/s \n",
            "\u001b[?25hRequirement already satisfied: filelock in /usr/local/lib/python3.7/dist-packages (from transformers) (3.0.12)\n",
            "Requirement already satisfied: requests in /usr/local/lib/python3.7/dist-packages (from transformers) (2.23.0)\n",
            "Requirement already satisfied: packaging in /usr/local/lib/python3.7/dist-packages (from transformers) (20.9)\n",
            "Requirement already satisfied: typing-extensions>=3.6.4; python_version < \"3.8\" in /usr/local/lib/python3.7/dist-packages (from importlib-metadata; python_version < \"3.8\"->transformers) (3.7.4.3)\n",
            "Requirement already satisfied: zipp>=0.5 in /usr/local/lib/python3.7/dist-packages (from importlib-metadata; python_version < \"3.8\"->transformers) (3.4.1)\n",
            "Requirement already satisfied: six in /usr/local/lib/python3.7/dist-packages (from sacremoses->transformers) (1.15.0)\n",
            "Requirement already satisfied: click in /usr/local/lib/python3.7/dist-packages (from sacremoses->transformers) (7.1.2)\n",
            "Requirement already satisfied: joblib in /usr/local/lib/python3.7/dist-packages (from sacremoses->transformers) (1.0.1)\n",
            "Requirement already satisfied: chardet<4,>=3.0.2 in /usr/local/lib/python3.7/dist-packages (from requests->transformers) (3.0.4)\n",
            "Requirement already satisfied: certifi>=2017.4.17 in /usr/local/lib/python3.7/dist-packages (from requests->transformers) (2020.12.5)\n",
            "Requirement already satisfied: idna<3,>=2.5 in /usr/local/lib/python3.7/dist-packages (from requests->transformers) (2.10)\n",
            "Requirement already satisfied: urllib3!=1.25.0,!=1.25.1,<1.26,>=1.21.1 in /usr/local/lib/python3.7/dist-packages (from requests->transformers) (1.24.3)\n",
            "Requirement already satisfied: pyparsing>=2.0.2 in /usr/local/lib/python3.7/dist-packages (from packaging->transformers) (2.4.7)\n",
            "Building wheels for collected packages: sacremoses\n",
            "  Building wheel for sacremoses (setup.py) ... \u001b[?25l\u001b[?25hdone\n",
            "  Created wheel for sacremoses: filename=sacremoses-0.0.43-cp37-none-any.whl size=893262 sha256=9818b449975710b3c4c8d8d6c03247daee7ce4469e64e0f7d6d8c9be628b4af6\n",
            "  Stored in directory: /root/.cache/pip/wheels/29/3c/fd/7ce5c3f0666dab31a50123635e6fb5e19ceb42ce38d4e58f45\n",
            "Successfully built sacremoses\n",
            "Installing collected packages: tokenizers, sacremoses, transformers\n",
            "Successfully installed sacremoses-0.0.43 tokenizers-0.10.1 transformers-4.4.2\n",
            "Collecting sentencepiece\n",
            "\u001b[?25l  Downloading https://files.pythonhosted.org/packages/f5/99/e0808cb947ba10f575839c43e8fafc9cc44e4a7a2c8f79c60db48220a577/sentencepiece-0.1.95-cp37-cp37m-manylinux2014_x86_64.whl (1.2MB)\n",
            "\u001b[K     |████████████████████████████████| 1.2MB 14.2MB/s \n",
            "\u001b[?25hInstalling collected packages: sentencepiece\n",
            "Successfully installed sentencepiece-0.1.95\n"
          ],
          "name": "stdout"
        }
      ]
    },
    {
      "cell_type": "code",
      "metadata": {
        "colab": {
          "resources": {
            "http://localhost:8080/nbextensions/google.colab/files.js": {
              "data": "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",
              "ok": true,
              "headers": [
                [
                  "content-type",
                  "application/javascript"
                ]
              ],
              "status": 200,
              "status_text": ""
            }
          },
          "base_uri": "https://localhost:8080/",
          "height": 76
        },
        "id": "UxJaLPSpxTm8",
        "outputId": "463c296f-0e7b-435b-a0ed-758d2a7a524d"
      },
      "source": [
        "from google.colab import files\n",
        "uploaded=files.upload()"
      ],
      "execution_count": null,
      "outputs": [
        {
          "output_type": "display_data",
          "data": {
            "text/html": [
              "\n",
              "     <input type=\"file\" id=\"files-79a9284a-c5ce-449c-9e6d-40c4a4b053c0\" name=\"files[]\" multiple disabled\n",
              "        style=\"border:none\" />\n",
              "     <output id=\"result-79a9284a-c5ce-449c-9e6d-40c4a4b053c0\">\n",
              "      Upload widget is only available when the cell has been executed in the\n",
              "      current browser session. Please rerun this cell to enable.\n",
              "      </output>\n",
              "      <script src=\"/nbextensions/google.colab/files.js\"></script> "
            ],
            "text/plain": [
              "<IPython.core.display.HTML object>"
            ]
          },
          "metadata": {
            "tags": []
          }
        },
        {
          "output_type": "stream",
          "text": [
            "Saving toeic_bert_traindata.json to toeic_bert_traindata.json\n"
          ],
          "name": "stdout"
        }
      ]
    },
    {
      "cell_type": "code",
      "metadata": {
        "colab": {
          "base_uri": "https://localhost:8080/",
          "height": 377,
          "referenced_widgets": [
            "4aa06c0fbb3c4d1f9da245ff062357b9",
            "6cd6e0669cca4efa9e80a1a203d81a07",
            "b6a68a0062a34a629baf47a2a38bf08f",
            "1898815b282c460da53777886679b734",
            "1c1710748b3047bfb94822b3f9894a38",
            "ee78850bd86a432692f45306c2ce3902",
            "c990e8e096e944b4aac5a74ac70f5d30",
            "c1a033b7e1364fa08c6c3b5bc39f44db",
            "d0357b263d6c43b7bff21553de820dbe",
            "4fc0c1bbdd124d5aa71ea9f3014a6ca1",
            "afdddad5f604421692e62e076ce12cf7",
            "3fe11619a7d04c2ca3dd013e246a7cc2",
            "f48c4a5429d9400b818f4c0d5f1baab8",
            "51d6a430dc1d49fa94c9c8a41b43430d",
            "bbbf56569b89442fa968a874c1dd0bab",
            "c1160cb120cb425193ddc8ec30601b4b",
            "e5f74d965c324b85aff2bf25d287235a",
            "f385686d5d884dd38c17de54113e7390",
            "eef4791e3e864a34a44ffaa25d71204d",
            "2cf40209dc4f49ebae4ce379212ee23f",
            "1d17e590a65b44f58869827f8ee23560",
            "f8aeb0a41b454916a5723721e2f74722",
            "1fcead1752894934813af3d1cb4025bf",
            "32f0c81c5a1d4e17bd115fe53a1ccdbc",
            "63279bd073754f2fa1c943befbd2a208",
            "52f5699c01894f4dbd1e9e2ae5e46486",
            "bcf476298c52416794b9fb7f2d510601",
            "e3e4791466dd4eb99b636e1c54c19400",
            "57d51eff673d4ed98e5168b35c5de180",
            "9b0a791cfcbb4f7ba56b02e801dd00ee",
            "37dbfaabf6224241921a2609a916022a",
            "4ee2327424454cdaa04f2615b5b5968c",
            "397da0701f5147aa9720334fc47cb553",
            "6c273044ae1d49e791a91f6fea426722",
            "52070b6c04ab46428519fa8c29d9eb6c",
            "a3599986b91943aa98b796cb0ad8c485",
            "5654bf2edd0c46ca915d1fe256a63d3c",
            "83f1855dacef4b12a5ef2af33acb68f7",
            "494d1b505bb54c7f842e2d8318e334e5",
            "cdf7fb5a975a47aa80d825ce31f6c471"
          ]
        },
        "id": "rfQUuP_-xR4b",
        "outputId": "02e21937-282c-4951-8c94-502fadd2e601"
      },
      "source": [
        "import torch\n",
        "from transformers import BertTokenizer, BertForMultipleChoice, AdamW\n",
        "from transformers import get_linear_schedule_with_warmup\n",
        "from torch.autograd import Variable\n",
        "\n",
        "total_steps = 3500 * 16\n",
        "tokenizer = BertTokenizer.from_pretrained('bert-large-uncased')\n",
        "model = BertForMultipleChoice.from_pretrained('bert-large-uncased')\n",
        "optimizer = AdamW(model.parameters(), lr=1e-5)\n",
        "criterion= torch.nn.CrossEntropyLoss()\n",
        "scheduler = get_linear_schedule_with_warmup(optimizer, \n",
        "                                            num_warmup_steps = 0, # Default value in run_glue.py\n",
        "                                            num_training_steps = total_steps)"
      ],
      "execution_count": null,
      "outputs": [
        {
          "output_type": "display_data",
          "data": {
            "application/vnd.jupyter.widget-view+json": {
              "model_id": "4aa06c0fbb3c4d1f9da245ff062357b9",
              "version_minor": 0,
              "version_major": 2
            },
            "text/plain": [
              "HBox(children=(FloatProgress(value=0.0, description='Downloading', max=231508.0, style=ProgressStyle(descripti…"
            ]
          },
          "metadata": {
            "tags": []
          }
        },
        {
          "output_type": "stream",
          "text": [
            "\n"
          ],
          "name": "stdout"
        },
        {
          "output_type": "display_data",
          "data": {
            "application/vnd.jupyter.widget-view+json": {
              "model_id": "d0357b263d6c43b7bff21553de820dbe",
              "version_minor": 0,
              "version_major": 2
            },
            "text/plain": [
              "HBox(children=(FloatProgress(value=0.0, description='Downloading', max=28.0, style=ProgressStyle(description_w…"
            ]
          },
          "metadata": {
            "tags": []
          }
        },
        {
          "output_type": "stream",
          "text": [
            "\n"
          ],
          "name": "stdout"
        },
        {
          "output_type": "display_data",
          "data": {
            "application/vnd.jupyter.widget-view+json": {
              "model_id": "e5f74d965c324b85aff2bf25d287235a",
              "version_minor": 0,
              "version_major": 2
            },
            "text/plain": [
              "HBox(children=(FloatProgress(value=0.0, description='Downloading', max=466062.0, style=ProgressStyle(descripti…"
            ]
          },
          "metadata": {
            "tags": []
          }
        },
        {
          "output_type": "stream",
          "text": [
            "\n"
          ],
          "name": "stdout"
        },
        {
          "output_type": "display_data",
          "data": {
            "application/vnd.jupyter.widget-view+json": {
              "model_id": "63279bd073754f2fa1c943befbd2a208",
              "version_minor": 0,
              "version_major": 2
            },
            "text/plain": [
              "HBox(children=(FloatProgress(value=0.0, description='Downloading', max=433.0, style=ProgressStyle(description_…"
            ]
          },
          "metadata": {
            "tags": []
          }
        },
        {
          "output_type": "stream",
          "text": [
            "\n"
          ],
          "name": "stdout"
        },
        {
          "output_type": "display_data",
          "data": {
            "application/vnd.jupyter.widget-view+json": {
              "model_id": "397da0701f5147aa9720334fc47cb553",
              "version_minor": 0,
              "version_major": 2
            },
            "text/plain": [
              "HBox(children=(FloatProgress(value=0.0, description='Downloading', max=440473133.0, style=ProgressStyle(descri…"
            ]
          },
          "metadata": {
            "tags": []
          }
        },
        {
          "output_type": "stream",
          "text": [
            "\n"
          ],
          "name": "stdout"
        },
        {
          "output_type": "stream",
          "text": [
            "Some weights of the model checkpoint at bert-base-uncased were not used when initializing BertForMultipleChoice: ['cls.predictions.bias', 'cls.predictions.transform.dense.weight', 'cls.predictions.transform.dense.bias', 'cls.predictions.decoder.weight', 'cls.seq_relationship.weight', 'cls.seq_relationship.bias', 'cls.predictions.transform.LayerNorm.weight', 'cls.predictions.transform.LayerNorm.bias']\n",
            "- This IS expected if you are initializing BertForMultipleChoice from the checkpoint of a model trained on another task or with another architecture (e.g. initializing a BertForSequenceClassification model from a BertForPreTraining model).\n",
            "- This IS NOT expected if you are initializing BertForMultipleChoice from the checkpoint of a model that you expect to be exactly identical (initializing a BertForSequenceClassification model from a BertForSequenceClassification model).\n",
            "Some weights of BertForMultipleChoice were not initialized from the model checkpoint at bert-base-uncased and are newly initialized: ['classifier.weight', 'classifier.bias']\n",
            "You should probably TRAIN this model on a down-stream task to be able to use it for predictions and inference.\n"
          ],
          "name": "stderr"
        }
      ]
    },
    {
      "cell_type": "code",
      "metadata": {
        "id": "1DVmtvGza9Ve",
        "colab": {
          "base_uri": "https://localhost:8080/",
          "height": 357,
          "referenced_widgets": [
            "858b642019814e45be1146b39c73d5a4",
            "d13777c57b3f4a0882883685dce14420",
            "6dbc1c90db964e3b93d8127472e6bf3b",
            "4f1e94975d254ec5b6e8506a5d2e6f50",
            "7e2d6fe61be747f4adc8de53fcefaea8",
            "fa32c733900a48ce9662a372845bef93",
            "ebacd566d0634e43a5a6cc1186b95ab8",
            "e57d0851ce1d401a8d6598f70cd857fb",
            "664ecb7d174a4a789486b02353fd3c54",
            "5b16c54226954843b5200fcfa30dc7ff",
            "9ddb847062c24ef18b5db0a974131101",
            "17db461704744979ab7f0c52a2cfd91f",
            "f6b0efb031f040b3a8883dcfcd13ca44",
            "866e57c698b54b39a7fb205f2d83afd9",
            "2564cccb3a9d49b9aee080f4f56d4603",
            "4ef230cb3e854861b56f6f00c62361be",
            "5f017f14a4cf4fe4b99900b7fffa5e47",
            "d8f66ccd643b462f873318f3e64fc1a4",
            "a1c7d3b3c28a4dfca6fe858d8186ead4",
            "95c2baadbf314d7586fe104aeb45f574",
            "5edce2333dd04adb809cc0c7b77ba017",
            "295f829cafbe4cc88615cb8f61fe2d40",
            "b15ca8c1be364a779354f8ec360c5875",
            "f619f4fa19814638aebd6be8ac68b336",
            "998b99e359c04e19880a09b8345d1e44",
            "e66a0525f342415fbeaae64366d46576",
            "ce296774127e49f984d8f2efdcc58624",
            "eebc9dde73ef44d19ec870309aa7a9c0",
            "4efa8147d8d445a1a98426400ab666ba",
            "9acb7267a89541f7aa757a6ec00c0185",
            "28c30fb14aea43a7a773f8e01656a140",
            "a815d350466c46d5a1c7c7adc62989e1",
            "ae24414d706d4d3cbcb4374dd130a705",
            "36440ae177d64b1dbdf60a830e73bb95",
            "053fe6ae2e324449899fa71ff5e4bd6b",
            "0c07a552dcfb4cfbab63157bf578bcdd",
            "04f6bc0fd9dd40618ef90f916bee155b",
            "2865c7dc09e54f69ac166d6612ab44b8",
            "3572b476a15f446591b7219a06412381",
            "9a5347c8d24e4416af491e52987b73f2"
          ]
        },
        "outputId": "a30e60df-fb79-4698-f8c1-61c9d399a5ed"
      },
      "source": [
        "import torch\n",
        "from transformers import RobertaTokenizer, RobertaForMultipleChoice, AdamW\n",
        "from transformers import get_linear_schedule_with_warmup\n",
        "from torch.autograd import Variable\n",
        "\n",
        "total_steps=3500*16\n",
        "tokenizer = RobertaTokenizer.from_pretrained('roberta-large')\n",
        "model = RobertaForMultipleChoice.from_pretrained('roberta-large')\n",
        "optimizer = AdamW(model.parameters(), lr=5e-5)\n",
        "criterion= torch.nn.CrossEntropyLoss()\n",
        "scheduler = get_linear_schedule_with_warmup(optimizer, \n",
        "                                            num_warmup_steps = 0, # Default value in run_glue.py\n",
        "                                            num_training_steps = total_steps)"
      ],
      "execution_count": null,
      "outputs": [
        {
          "output_type": "display_data",
          "data": {
            "application/vnd.jupyter.widget-view+json": {
              "model_id": "858b642019814e45be1146b39c73d5a4",
              "version_minor": 0,
              "version_major": 2
            },
            "text/plain": [
              "HBox(children=(FloatProgress(value=0.0, description='Downloading', max=898823.0, style=ProgressStyle(descripti…"
            ]
          },
          "metadata": {
            "tags": []
          }
        },
        {
          "output_type": "stream",
          "text": [
            "\n"
          ],
          "name": "stdout"
        },
        {
          "output_type": "display_data",
          "data": {
            "application/vnd.jupyter.widget-view+json": {
              "model_id": "664ecb7d174a4a789486b02353fd3c54",
              "version_minor": 0,
              "version_major": 2
            },
            "text/plain": [
              "HBox(children=(FloatProgress(value=0.0, description='Downloading', max=456318.0, style=ProgressStyle(descripti…"
            ]
          },
          "metadata": {
            "tags": []
          }
        },
        {
          "output_type": "stream",
          "text": [
            "\n"
          ],
          "name": "stdout"
        },
        {
          "output_type": "display_data",
          "data": {
            "application/vnd.jupyter.widget-view+json": {
              "model_id": "5f017f14a4cf4fe4b99900b7fffa5e47",
              "version_minor": 0,
              "version_major": 2
            },
            "text/plain": [
              "HBox(children=(FloatProgress(value=0.0, description='Downloading', max=1355863.0, style=ProgressStyle(descript…"
            ]
          },
          "metadata": {
            "tags": []
          }
        },
        {
          "output_type": "stream",
          "text": [
            "\n"
          ],
          "name": "stdout"
        },
        {
          "output_type": "display_data",
          "data": {
            "application/vnd.jupyter.widget-view+json": {
              "model_id": "998b99e359c04e19880a09b8345d1e44",
              "version_minor": 0,
              "version_major": 2
            },
            "text/plain": [
              "HBox(children=(FloatProgress(value=0.0, description='Downloading', max=482.0, style=ProgressStyle(description_…"
            ]
          },
          "metadata": {
            "tags": []
          }
        },
        {
          "output_type": "stream",
          "text": [
            "\n"
          ],
          "name": "stdout"
        },
        {
          "output_type": "display_data",
          "data": {
            "application/vnd.jupyter.widget-view+json": {
              "model_id": "ae24414d706d4d3cbcb4374dd130a705",
              "version_minor": 0,
              "version_major": 2
            },
            "text/plain": [
              "HBox(children=(FloatProgress(value=0.0, description='Downloading', max=1425941629.0, style=ProgressStyle(descr…"
            ]
          },
          "metadata": {
            "tags": []
          }
        },
        {
          "output_type": "stream",
          "text": [
            "\n"
          ],
          "name": "stdout"
        },
        {
          "output_type": "stream",
          "text": [
            "Some weights of the model checkpoint at roberta-large were not used when initializing RobertaForMultipleChoice: ['lm_head.bias', 'lm_head.dense.weight', 'lm_head.dense.bias', 'lm_head.layer_norm.weight', 'lm_head.layer_norm.bias', 'lm_head.decoder.weight']\n",
            "- This IS expected if you are initializing RobertaForMultipleChoice from the checkpoint of a model trained on another task or with another architecture (e.g. initializing a BertForSequenceClassification model from a BertForPreTraining model).\n",
            "- This IS NOT expected if you are initializing RobertaForMultipleChoice from the checkpoint of a model that you expect to be exactly identical (initializing a BertForSequenceClassification model from a BertForSequenceClassification model).\n",
            "Some weights of RobertaForMultipleChoice were not initialized from the model checkpoint at roberta-large and are newly initialized: ['classifier.weight', 'classifier.bias']\n",
            "You should probably TRAIN this model on a down-stream task to be able to use it for predictions and inference.\n"
          ],
          "name": "stderr"
        }
      ]
    },
    {
      "cell_type": "code",
      "metadata": {
        "id": "FPOGbVNzRxx0"
      },
      "source": [
        "import torch\n",
        "from transformers import AlbertTokenizer, AlbertForPreTraining, AdamW\n",
        "from transformers import get_linear_schedule_with_warmup\n",
        "from torch.autograd import Variable\n",
        "\n",
        "total_steps=3500*32\n",
        "tokenizer = AlbertTokenizer.from_pretrained('albert-xxlarge-v2')\n",
        "model = AlbertForPreTraining.from_pretrained('albert-xxlarge-v2')\n",
        "optimizer = AdamW(model.parameters(), lr=5e-5)\n",
        "criterion= torch.nn.CrossEntropyLoss()\n",
        "scheduler = get_linear_schedule_with_warmup(optimizer, \n",
        "                                            num_warmup_steps = 0, # Default value in run_glue.py\n",
        "                                            num_training_steps = total_steps)"
      ],
      "execution_count": null,
      "outputs": []
    },
    {
      "cell_type": "code",
      "metadata": {
        "id": "GGur2kPTJQKs"
      },
      "source": [
        "import torch\n",
        "from transformers import T5Tokenizer, T5ForConditionalGeneration, AdamW\n",
        "from transformers import get_linear_schedule_with_warmup\n",
        "from torch.autograd import Variable\n",
        "\n",
        "total_steps = 3500 * 16\n",
        "tokenizer =  T5Tokenizer.from_pretrained('t5-large')\n",
        "\n",
        "model = T5ForConditionalGeneration.from_pretrained('t5-large')\n",
        "optimizer = AdamW(model.parameters(), lr=5e-5)\n",
        "criterion= torch.nn.CrossEntropyLoss()\n",
        "scheduler = get_linear_schedule_with_warmup(optimizer, \n",
        "                                            num_warmup_steps = 0, # Default value in run_glue.py\n",
        "                                            num_training_steps = total_steps)"
      ],
      "execution_count": null,
      "outputs": []
    },
    {
      "cell_type": "code",
      "metadata": {
        "colab": {
          "base_uri": "https://localhost:8080/"
        },
        "id": "5EagBwP8xzUb",
        "outputId": "7c5efb02-899b-4508-9c7f-1fb4a254daf6"
      },
      "source": [
        "import json\n",
        "with open('toeic_bert_traindata.json') as input_json:\n",
        "  data = json.load(input_json)\n",
        "\n",
        "data['1']"
      ],
      "execution_count": null,
      "outputs": [
        {
          "output_type": "execute_result",
          "data": {
            "text/plain": [
              "{'1': 'suffer',\n",
              " '2': 'suffers',\n",
              " '3': 'suffering',\n",
              " '4': 'suffered',\n",
              " 'anwser': 'suffered',\n",
              " 'question': 'The assets of Marble Faun Publishing Company ___ last quarter when one of their main local distributors went out of business.'}"
            ]
          },
          "metadata": {
            "tags": []
          },
          "execution_count": 6
        }
      ]
    },
    {
      "cell_type": "code",
      "metadata": {
        "colab": {
          "base_uri": "https://localhost:8080/"
        },
        "id": "P4aFciVZx0Yp",
        "outputId": "b012795b-a3c6-4095-e6e7-b197a2b007c5"
      },
      "source": [
        "question_infors = []\n",
        "\n",
        "for key, value in data.items():\n",
        "    question_infors.append(value)\n",
        "\n",
        "question_infors[0]"
      ],
      "execution_count": null,
      "outputs": [
        {
          "output_type": "execute_result",
          "data": {
            "text/plain": [
              "{'1': 'suffer',\n",
              " '2': 'suffers',\n",
              " '3': 'suffering',\n",
              " '4': 'suffered',\n",
              " 'anwser': 'suffered',\n",
              " 'question': 'The assets of Marble Faun Publishing Company ___ last quarter when one of their main local distributors went out of business.'}"
            ]
          },
          "metadata": {
            "tags": []
          },
          "execution_count": 7
        }
      ]
    },
    {
      "cell_type": "code",
      "metadata": {
        "id": "LGLCxBkpx2pp"
      },
      "source": [
        "train_set=question_infors[:3200]\n",
        "test_set=question_infors[3200:]"
      ],
      "execution_count": null,
      "outputs": []
    },
    {
      "cell_type": "code",
      "metadata": {
        "id": "jG3j0zivx6Eq"
      },
      "source": [
        "use_cuda = torch.cuda.is_available()\n",
        "device = torch.device(\"cuda\" if use_cuda else \"cpu\")\n",
        "question_tensors=[]\n",
        "masked_indices=[]\n",
        "candidate_data=[]\n",
        "answer_list=[]\n",
        "for data in train_set:\n",
        "    question_tokens=tokenizer.tokenize(data['question'].replace('___', '_'))\n",
        "    masked_index = question_tokens.index('_')\n",
        "    question_tokens[masked_index] = '[MASK]'\n",
        "    masked_indices.append(masked_index)\n",
        "    question_tensors.append(question_tokens)\n",
        "    candidates=[data['1'],data['2'],data['3'],data['4']]\n",
        "    answer=data['anwser']\n",
        "    answer_list.append(candidates.index(answer))\n",
        "    candidate_datum=[]\n",
        "    for candidate in candidates:\n",
        "        candidate_ids=tokenizer(candidate,add_special_tokens=False,return_tensors=\"pt\")['input_ids']\n",
        "        candidate_datum.append(candidate_ids.view(-1))\n",
        "    candidate_data.append(candidate_datum)"
      ],
      "execution_count": null,
      "outputs": []
    },
    {
      "cell_type": "code",
      "metadata": {
        "id": "fYG7tBnZD8EN"
      },
      "source": [
        "use_cuda = torch.cuda.is_available()\n",
        "device = torch.device(\"cuda\" if use_cuda else \"cpu\")\n",
        "question_tensors1=[]\n",
        "answer_list=[]\n",
        "for data in train_set:\n",
        "    question_tokens=tokenizer.tokenize(data['question'].replace('___', data['1']))\n",
        "\n",
        "    question_tensors1.append(question_tokens)\n",
        "\n",
        "question_tensors2=[]\n",
        "\n",
        "for data in train_set:\n",
        "    question_tokens=tokenizer.tokenize(data['question'].replace('___', data['2']))\n",
        "    question_tensors2.append(question_tokens)\n",
        "\n",
        "\n",
        "question_tensors3=[]\n",
        "\n",
        "for data in train_set:\n",
        "    question_tokens=tokenizer.tokenize(data['question'].replace('___', data['3']))\n",
        "    question_tensors3.append(question_tokens)\n",
        "\n",
        "question_tensors4=[]\n",
        "for data in train_set:\n",
        "    question_tokens=tokenizer.tokenize(data['question'].replace('___', data['4']))\n",
        "    question_tensors4.append(question_tokens)\n",
        "        \n",
        "question_tensors=[]\n",
        "for a,b,c,d in zip(question_tensors1,question_tensors2,question_tensors3,question_tensors4):\n",
        "    #print(a,b,c,d)\n",
        "    question_tensors.append(a)\n",
        "    question_tensors.append(b)\n",
        "    question_tensors.append(c)\n",
        "    question_tensors.append(d)"
      ],
      "execution_count": null,
      "outputs": []
    },
    {
      "cell_type": "code",
      "metadata": {
        "id": "06JmkJqLGcmb"
      },
      "source": [
        "  answer_list=[]\n",
        "  for data in question_infors:\n",
        "   answer=data['anwser']\n",
        "   candidates=[data['1'],data['2'],data['3'],data['4']]\n",
        "   for i, candidate in enumerate(candidates):\n",
        "     if answer==candidate:\n",
        "        answer_list.append(i)\n",
        "\n",
        "  train_answer_list=[]\n",
        "  for data in train_set:\n",
        "   answer=data['anwser']\n",
        "   candidates=[data['1'],data['2'],data['3'],data['4']]\n",
        "   for i, candidate in enumerate(candidates):\n",
        "     if answer==candidate:\n",
        "        train_answer_list.append(i)"
      ],
      "execution_count": null,
      "outputs": []
    },
    {
      "cell_type": "code",
      "metadata": {
        "id": "VnTe4GSHmbmn"
      },
      "source": [
        "train_answer_list=torch.LongTensor(train_answer_list)\n",
        "train_answer_list=train_answer_list.view(100,32)"
      ],
      "execution_count": null,
      "outputs": []
    },
    {
      "cell_type": "code",
      "metadata": {
        "id": "ea19rzF2huGb"
      },
      "source": [
        "#candidated=[]\n",
        "masked_indexed=[]\n",
        "answer_batches=[]\n",
        "for i in range(100):\n",
        "    #candidated.append(candidate_data[i:i+128])\n",
        "    masked_indexed.append(masked_indices[i:i+32])\n",
        "    answer_batches.append(train_answer_list[i:i+32])"
      ],
      "execution_count": null,
      "outputs": []
    },
    {
      "cell_type": "code",
      "metadata": {
        "id": "zc68zfaTLmzp"
      },
      "source": [
        "answer_ids=tokenizer(answer_list,is_split_into_words=True,padding=True, truncation=True, add_special_tokens=False,return_tensors=\"pt\").to(device)"
      ],
      "execution_count": null,
      "outputs": []
    },
    {
      "cell_type": "code",
      "metadata": {
        "id": "P7DkNVZXx7oa"
      },
      "source": [
        "question_ids=tokenizer(question_tensors,is_split_into_words=True,padding=True, truncation=True, add_special_tokens=False,return_tensors=\"pt\").to(device)"
      ],
      "execution_count": null,
      "outputs": []
    },
    {
      "cell_type": "code",
      "metadata": {
        "colab": {
          "base_uri": "https://localhost:8080/"
        },
        "id": "k2IkNuZxGbkj",
        "outputId": "19633eaa-fc29-444b-d764-2de54132aad9"
      },
      "source": [
        "question_ids['input_ids'].shape"
      ],
      "execution_count": null,
      "outputs": [
        {
          "output_type": "execute_result",
          "data": {
            "text/plain": [
              "torch.Size([12800, 147])"
            ]
          },
          "metadata": {
            "tags": []
          },
          "execution_count": 14
        }
      ]
    },
    {
      "cell_type": "code",
      "metadata": {
        "id": "C26khHKjx-s6"
      },
      "source": [
        "question_id=question_ids['input_ids'].view(100,32,4,75)\n",
        "question_attn=question_ids['attention_mask'].view(100,32,4,75)\n",
        "#test_id=question_ids['input_ids'].view(3200,4,68)\n",
        "#answer_id=answer_ids['input_ids'].view(25,128,68)"
      ],
      "execution_count": null,
      "outputs": []
    },
    {
      "cell_type": "code",
      "metadata": {
        "id": "_6lP8tLmdExv"
      },
      "source": [
        "questions=Variable(question_id.type(torch.LongTensor),requires_grad=False).to(device)\n",
        "question_attns=Variable(question_attn.type(torch.FloatTensor),requires_grad=True).to(device)\n",
        "train_answer_list=Variable(train_answer_list.type(torch.LongTensor),requires_grad=False).to(device)"
      ],
      "execution_count": null,
      "outputs": []
    },
    {
      "cell_type": "code",
      "metadata": {
        "id": "XlGWwrI6yAeZ"
      },
      "source": [
        "import numpy as np\n",
        "import random\n",
        "seed_val = 42\n",
        "random.seed(seed_val)\n",
        "np.random.seed(seed_val)\n",
        "torch.manual_seed(seed_val)\n",
        "torch.cuda.manual_seed_all(seed_val)\n",
        "\n",
        "model.to(device)\n",
        "model.train()\n",
        "softmax=torch.nn.Softmax()\n",
        "losses=[]\n",
        "for n in range(128):\n",
        "    for i,answer in enumerate(answer_batches):\n",
        "        predicts=[]\n",
        "        predictions = model(questions[i], question_attns[i])\n",
        "        for j, masked_index in enumerate(masked_indexed[i]):\n",
        "            predict=[]\n",
        "            for candidate_ids in candidated[i][j]:\n",
        "                #predictions_candidates = predictions.prediction_logits[j,masked_index,candidate_ids].mean()\n",
        "                predictions_candidates = predictions.prediction_logits[j,masked_index,candidate_ids].mean()\n",
        "                predict.append(predictions_candidates)\n",
        "            predict=torch.FloatTensor(predict)\n",
        "            predicts.append(predict)\n",
        "        predicts=torch.stack(predicts)\n",
        "        predicts=Variable(predicts.type(torch.FloatTensor),requires_grad=True)\n",
        "        answer_ind=torch.LongTensor(answer)\n",
        "        loss=criterion(predicts,answer_ind)\n",
        "        losses.append(loss.item())\n",
        "        #loss = Variable(loss, requires_grad = True)\n",
        "        loss.backward()\n",
        "        torch.nn.utils.clip_grad_norm_(model.parameters(), 1.0)\n",
        "        optimizer.step()\n",
        "        scheduler.step()\n",
        "        \n",
        "        if i%1==0:\n",
        "            print(i)\n",
        "    avg_loss=sum(losses)/len(losses)\n",
        "    print('losses{:f}:{:f}'.format(n,avg_loss))\n",
        "    losses=[]"
      ],
      "execution_count": null,
      "outputs": []
    },
    {
      "cell_type": "code",
      "metadata": {
        "id": "Gonx_JCOMMuh",
        "colab": {
          "base_uri": "https://localhost:8080/"
        },
        "outputId": "62edcbb0-cef3-45f2-f1e7-1f4651950b9c"
      },
      "source": [
        "import numpy as np\n",
        "import random\n",
        "seed_val = 42\n",
        "random.seed(seed_val)\n",
        "np.random.seed(seed_val)\n",
        "torch.manual_seed(seed_val)\n",
        "torch.cuda.manual_seed_all(seed_val)\n",
        "model.to(device)\n",
        "model.train()\n",
        "softmax=torch.nn.Softmax()\n",
        "losses=[]\n",
        "for n in range(32):\n",
        "    for i in range(len(question_id)):\n",
        "      predictions = model(question_id[i], question_attn[i],labels=train_answer_list[i])\n",
        "\n",
        "      loss=predictions.loss\n",
        "      losses.append(loss)\n",
        "      loss.backward()\n",
        "      torch.nn.utils.clip_grad_norm_(model.parameters(), 1.0)\n",
        "      optimizer.step()\n",
        "      scheduler.step()\n",
        "        \n",
        "      if i%20==0:\n",
        "        print(i)\n",
        "    avg_loss=sum(losses)/len(losses)\n",
        "    print('losses{:f}:{:f}'.format(n,avg_loss))\n",
        "    losses=[]"
      ],
      "execution_count": null,
      "outputs": [
        {
          "output_type": "stream",
          "text": [
            "0\n",
            "20\n",
            "40\n",
            "60\n",
            "80\n",
            "losses0.000000:1.270458\n",
            "0\n",
            "20\n",
            "40\n",
            "60\n",
            "80\n",
            "losses1.000000:0.930199\n",
            "0\n",
            "20\n",
            "40\n",
            "60\n",
            "80\n",
            "losses2.000000:0.750572\n",
            "0\n",
            "20\n",
            "40\n",
            "60\n",
            "80\n",
            "losses3.000000:0.624902\n",
            "0\n",
            "20\n",
            "40\n",
            "60\n",
            "80\n",
            "losses4.000000:0.538407\n",
            "0\n",
            "20\n",
            "40\n",
            "60\n",
            "80\n",
            "losses5.000000:0.454593\n",
            "0\n",
            "20\n",
            "40\n",
            "60\n",
            "80\n",
            "losses6.000000:0.419325\n",
            "0\n",
            "20\n",
            "40\n",
            "60\n",
            "80\n",
            "losses7.000000:0.360049\n",
            "0\n",
            "20\n",
            "40\n",
            "60\n",
            "80\n",
            "losses8.000000:0.301276\n",
            "0\n",
            "20\n",
            "40\n",
            "60\n",
            "80\n",
            "losses9.000000:0.262948\n",
            "0\n",
            "20\n",
            "40\n",
            "60\n",
            "80\n",
            "losses10.000000:0.236841\n",
            "0\n",
            "20\n",
            "40\n",
            "60\n",
            "80\n",
            "losses11.000000:0.203020\n",
            "0\n",
            "20\n",
            "40\n",
            "60\n",
            "80\n",
            "losses12.000000:0.175602\n",
            "0\n",
            "20\n",
            "40\n",
            "60\n",
            "80\n",
            "losses13.000000:0.160898\n",
            "0\n",
            "20\n",
            "40\n",
            "60\n",
            "80\n",
            "losses14.000000:0.138384\n",
            "0\n",
            "20\n",
            "40\n",
            "60\n",
            "80\n",
            "losses15.000000:0.142796\n",
            "0\n",
            "20\n",
            "40\n",
            "60\n",
            "80\n",
            "losses16.000000:0.123000\n",
            "0\n",
            "20\n",
            "40\n",
            "60\n",
            "80\n",
            "losses17.000000:0.102232\n",
            "0\n",
            "20\n",
            "40\n",
            "60\n",
            "80\n",
            "losses18.000000:0.092501\n",
            "0\n",
            "20\n",
            "40\n",
            "60\n",
            "80\n",
            "losses19.000000:0.089293\n",
            "0\n",
            "20\n",
            "40\n",
            "60\n",
            "80\n",
            "losses20.000000:0.077137\n",
            "0\n",
            "20\n",
            "40\n",
            "60\n",
            "80\n",
            "losses21.000000:0.081125\n",
            "0\n",
            "20\n",
            "40\n",
            "60\n",
            "80\n",
            "losses22.000000:0.060186\n",
            "0\n",
            "20\n",
            "40\n",
            "60\n",
            "80\n",
            "losses23.000000:0.064064\n",
            "0\n",
            "20\n",
            "40\n",
            "60\n",
            "80\n",
            "losses24.000000:0.057431\n",
            "0\n",
            "20\n",
            "40\n",
            "60\n",
            "80\n",
            "losses25.000000:0.052145\n",
            "0\n",
            "20\n",
            "40\n",
            "60\n",
            "80\n",
            "losses26.000000:0.048134\n",
            "0\n",
            "20\n",
            "40\n",
            "60\n",
            "80\n",
            "losses27.000000:0.051440\n",
            "0\n",
            "20\n",
            "40\n",
            "60\n",
            "80\n",
            "losses28.000000:0.045451\n",
            "0\n",
            "20\n",
            "40\n",
            "60\n",
            "80\n",
            "losses29.000000:0.042719\n",
            "0\n",
            "20\n",
            "40\n",
            "60\n",
            "80\n",
            "losses30.000000:0.039818\n",
            "0\n",
            "20\n",
            "40\n",
            "60\n",
            "80\n",
            "losses31.000000:0.039993\n"
          ],
          "name": "stdout"
        }
      ]
    },
    {
      "cell_type": "code",
      "metadata": {
        "id": "ne4uPB_Gsw06",
        "colab": {
          "base_uri": "https://localhost:8080/"
        },
        "outputId": "af13291c-c461-4bd1-b459-e91ffec6fe7e"
      },
      "source": [
        "model.eval()"
      ],
      "execution_count": null,
      "outputs": [
        {
          "output_type": "execute_result",
          "data": {
            "text/plain": [
              "BertForMultipleChoice(\n",
              "  (bert): BertModel(\n",
              "    (embeddings): BertEmbeddings(\n",
              "      (word_embeddings): Embedding(30522, 768, padding_idx=0)\n",
              "      (position_embeddings): Embedding(512, 768)\n",
              "      (token_type_embeddings): Embedding(2, 768)\n",
              "      (LayerNorm): LayerNorm((768,), eps=1e-12, elementwise_affine=True)\n",
              "      (dropout): Dropout(p=0.1, inplace=False)\n",
              "    )\n",
              "    (encoder): BertEncoder(\n",
              "      (layer): ModuleList(\n",
              "        (0): BertLayer(\n",
              "          (attention): BertAttention(\n",
              "            (self): BertSelfAttention(\n",
              "              (query): Linear(in_features=768, out_features=768, bias=True)\n",
              "              (key): Linear(in_features=768, out_features=768, bias=True)\n",
              "              (value): Linear(in_features=768, out_features=768, bias=True)\n",
              "              (dropout): Dropout(p=0.1, inplace=False)\n",
              "            )\n",
              "            (output): BertSelfOutput(\n",
              "              (dense): Linear(in_features=768, out_features=768, bias=True)\n",
              "              (LayerNorm): LayerNorm((768,), eps=1e-12, elementwise_affine=True)\n",
              "              (dropout): Dropout(p=0.1, inplace=False)\n",
              "            )\n",
              "          )\n",
              "          (intermediate): BertIntermediate(\n",
              "            (dense): Linear(in_features=768, out_features=3072, bias=True)\n",
              "          )\n",
              "          (output): BertOutput(\n",
              "            (dense): Linear(in_features=3072, out_features=768, bias=True)\n",
              "            (LayerNorm): LayerNorm((768,), eps=1e-12, elementwise_affine=True)\n",
              "            (dropout): Dropout(p=0.1, inplace=False)\n",
              "          )\n",
              "        )\n",
              "        (1): BertLayer(\n",
              "          (attention): BertAttention(\n",
              "            (self): BertSelfAttention(\n",
              "              (query): Linear(in_features=768, out_features=768, bias=True)\n",
              "              (key): Linear(in_features=768, out_features=768, bias=True)\n",
              "              (value): Linear(in_features=768, out_features=768, bias=True)\n",
              "              (dropout): Dropout(p=0.1, inplace=False)\n",
              "            )\n",
              "            (output): BertSelfOutput(\n",
              "              (dense): Linear(in_features=768, out_features=768, bias=True)\n",
              "              (LayerNorm): LayerNorm((768,), eps=1e-12, elementwise_affine=True)\n",
              "              (dropout): Dropout(p=0.1, inplace=False)\n",
              "            )\n",
              "          )\n",
              "          (intermediate): BertIntermediate(\n",
              "            (dense): Linear(in_features=768, out_features=3072, bias=True)\n",
              "          )\n",
              "          (output): BertOutput(\n",
              "            (dense): Linear(in_features=3072, out_features=768, bias=True)\n",
              "            (LayerNorm): LayerNorm((768,), eps=1e-12, elementwise_affine=True)\n",
              "            (dropout): Dropout(p=0.1, inplace=False)\n",
              "          )\n",
              "        )\n",
              "        (2): BertLayer(\n",
              "          (attention): BertAttention(\n",
              "            (self): BertSelfAttention(\n",
              "              (query): Linear(in_features=768, out_features=768, bias=True)\n",
              "              (key): Linear(in_features=768, out_features=768, bias=True)\n",
              "              (value): Linear(in_features=768, out_features=768, bias=True)\n",
              "              (dropout): Dropout(p=0.1, inplace=False)\n",
              "            )\n",
              "            (output): BertSelfOutput(\n",
              "              (dense): Linear(in_features=768, out_features=768, bias=True)\n",
              "              (LayerNorm): LayerNorm((768,), eps=1e-12, elementwise_affine=True)\n",
              "              (dropout): Dropout(p=0.1, inplace=False)\n",
              "            )\n",
              "          )\n",
              "          (intermediate): BertIntermediate(\n",
              "            (dense): Linear(in_features=768, out_features=3072, bias=True)\n",
              "          )\n",
              "          (output): BertOutput(\n",
              "            (dense): Linear(in_features=3072, out_features=768, bias=True)\n",
              "            (LayerNorm): LayerNorm((768,), eps=1e-12, elementwise_affine=True)\n",
              "            (dropout): Dropout(p=0.1, inplace=False)\n",
              "          )\n",
              "        )\n",
              "        (3): BertLayer(\n",
              "          (attention): BertAttention(\n",
              "            (self): BertSelfAttention(\n",
              "              (query): Linear(in_features=768, out_features=768, bias=True)\n",
              "              (key): Linear(in_features=768, out_features=768, bias=True)\n",
              "              (value): Linear(in_features=768, out_features=768, bias=True)\n",
              "              (dropout): Dropout(p=0.1, inplace=False)\n",
              "            )\n",
              "            (output): BertSelfOutput(\n",
              "              (dense): Linear(in_features=768, out_features=768, bias=True)\n",
              "              (LayerNorm): LayerNorm((768,), eps=1e-12, elementwise_affine=True)\n",
              "              (dropout): Dropout(p=0.1, inplace=False)\n",
              "            )\n",
              "          )\n",
              "          (intermediate): BertIntermediate(\n",
              "            (dense): Linear(in_features=768, out_features=3072, bias=True)\n",
              "          )\n",
              "          (output): BertOutput(\n",
              "            (dense): Linear(in_features=3072, out_features=768, bias=True)\n",
              "            (LayerNorm): LayerNorm((768,), eps=1e-12, elementwise_affine=True)\n",
              "            (dropout): Dropout(p=0.1, inplace=False)\n",
              "          )\n",
              "        )\n",
              "        (4): BertLayer(\n",
              "          (attention): BertAttention(\n",
              "            (self): BertSelfAttention(\n",
              "              (query): Linear(in_features=768, out_features=768, bias=True)\n",
              "              (key): Linear(in_features=768, out_features=768, bias=True)\n",
              "              (value): Linear(in_features=768, out_features=768, bias=True)\n",
              "              (dropout): Dropout(p=0.1, inplace=False)\n",
              "            )\n",
              "            (output): BertSelfOutput(\n",
              "              (dense): Linear(in_features=768, out_features=768, bias=True)\n",
              "              (LayerNorm): LayerNorm((768,), eps=1e-12, elementwise_affine=True)\n",
              "              (dropout): Dropout(p=0.1, inplace=False)\n",
              "            )\n",
              "          )\n",
              "          (intermediate): BertIntermediate(\n",
              "            (dense): Linear(in_features=768, out_features=3072, bias=True)\n",
              "          )\n",
              "          (output): BertOutput(\n",
              "            (dense): Linear(in_features=3072, out_features=768, bias=True)\n",
              "            (LayerNorm): LayerNorm((768,), eps=1e-12, elementwise_affine=True)\n",
              "            (dropout): Dropout(p=0.1, inplace=False)\n",
              "          )\n",
              "        )\n",
              "        (5): BertLayer(\n",
              "          (attention): BertAttention(\n",
              "            (self): BertSelfAttention(\n",
              "              (query): Linear(in_features=768, out_features=768, bias=True)\n",
              "              (key): Linear(in_features=768, out_features=768, bias=True)\n",
              "              (value): Linear(in_features=768, out_features=768, bias=True)\n",
              "              (dropout): Dropout(p=0.1, inplace=False)\n",
              "            )\n",
              "            (output): BertSelfOutput(\n",
              "              (dense): Linear(in_features=768, out_features=768, bias=True)\n",
              "              (LayerNorm): LayerNorm((768,), eps=1e-12, elementwise_affine=True)\n",
              "              (dropout): Dropout(p=0.1, inplace=False)\n",
              "            )\n",
              "          )\n",
              "          (intermediate): BertIntermediate(\n",
              "            (dense): Linear(in_features=768, out_features=3072, bias=True)\n",
              "          )\n",
              "          (output): BertOutput(\n",
              "            (dense): Linear(in_features=3072, out_features=768, bias=True)\n",
              "            (LayerNorm): LayerNorm((768,), eps=1e-12, elementwise_affine=True)\n",
              "            (dropout): Dropout(p=0.1, inplace=False)\n",
              "          )\n",
              "        )\n",
              "        (6): BertLayer(\n",
              "          (attention): BertAttention(\n",
              "            (self): BertSelfAttention(\n",
              "              (query): Linear(in_features=768, out_features=768, bias=True)\n",
              "              (key): Linear(in_features=768, out_features=768, bias=True)\n",
              "              (value): Linear(in_features=768, out_features=768, bias=True)\n",
              "              (dropout): Dropout(p=0.1, inplace=False)\n",
              "            )\n",
              "            (output): BertSelfOutput(\n",
              "              (dense): Linear(in_features=768, out_features=768, bias=True)\n",
              "              (LayerNorm): LayerNorm((768,), eps=1e-12, elementwise_affine=True)\n",
              "              (dropout): Dropout(p=0.1, inplace=False)\n",
              "            )\n",
              "          )\n",
              "          (intermediate): BertIntermediate(\n",
              "            (dense): Linear(in_features=768, out_features=3072, bias=True)\n",
              "          )\n",
              "          (output): BertOutput(\n",
              "            (dense): Linear(in_features=3072, out_features=768, bias=True)\n",
              "            (LayerNorm): LayerNorm((768,), eps=1e-12, elementwise_affine=True)\n",
              "            (dropout): Dropout(p=0.1, inplace=False)\n",
              "          )\n",
              "        )\n",
              "        (7): BertLayer(\n",
              "          (attention): BertAttention(\n",
              "            (self): BertSelfAttention(\n",
              "              (query): Linear(in_features=768, out_features=768, bias=True)\n",
              "              (key): Linear(in_features=768, out_features=768, bias=True)\n",
              "              (value): Linear(in_features=768, out_features=768, bias=True)\n",
              "              (dropout): Dropout(p=0.1, inplace=False)\n",
              "            )\n",
              "            (output): BertSelfOutput(\n",
              "              (dense): Linear(in_features=768, out_features=768, bias=True)\n",
              "              (LayerNorm): LayerNorm((768,), eps=1e-12, elementwise_affine=True)\n",
              "              (dropout): Dropout(p=0.1, inplace=False)\n",
              "            )\n",
              "          )\n",
              "          (intermediate): BertIntermediate(\n",
              "            (dense): Linear(in_features=768, out_features=3072, bias=True)\n",
              "          )\n",
              "          (output): BertOutput(\n",
              "            (dense): Linear(in_features=3072, out_features=768, bias=True)\n",
              "            (LayerNorm): LayerNorm((768,), eps=1e-12, elementwise_affine=True)\n",
              "            (dropout): Dropout(p=0.1, inplace=False)\n",
              "          )\n",
              "        )\n",
              "        (8): BertLayer(\n",
              "          (attention): BertAttention(\n",
              "            (self): BertSelfAttention(\n",
              "              (query): Linear(in_features=768, out_features=768, bias=True)\n",
              "              (key): Linear(in_features=768, out_features=768, bias=True)\n",
              "              (value): Linear(in_features=768, out_features=768, bias=True)\n",
              "              (dropout): Dropout(p=0.1, inplace=False)\n",
              "            )\n",
              "            (output): BertSelfOutput(\n",
              "              (dense): Linear(in_features=768, out_features=768, bias=True)\n",
              "              (LayerNorm): LayerNorm((768,), eps=1e-12, elementwise_affine=True)\n",
              "              (dropout): Dropout(p=0.1, inplace=False)\n",
              "            )\n",
              "          )\n",
              "          (intermediate): BertIntermediate(\n",
              "            (dense): Linear(in_features=768, out_features=3072, bias=True)\n",
              "          )\n",
              "          (output): BertOutput(\n",
              "            (dense): Linear(in_features=3072, out_features=768, bias=True)\n",
              "            (LayerNorm): LayerNorm((768,), eps=1e-12, elementwise_affine=True)\n",
              "            (dropout): Dropout(p=0.1, inplace=False)\n",
              "          )\n",
              "        )\n",
              "        (9): BertLayer(\n",
              "          (attention): BertAttention(\n",
              "            (self): BertSelfAttention(\n",
              "              (query): Linear(in_features=768, out_features=768, bias=True)\n",
              "              (key): Linear(in_features=768, out_features=768, bias=True)\n",
              "              (value): Linear(in_features=768, out_features=768, bias=True)\n",
              "              (dropout): Dropout(p=0.1, inplace=False)\n",
              "            )\n",
              "            (output): BertSelfOutput(\n",
              "              (dense): Linear(in_features=768, out_features=768, bias=True)\n",
              "              (LayerNorm): LayerNorm((768,), eps=1e-12, elementwise_affine=True)\n",
              "              (dropout): Dropout(p=0.1, inplace=False)\n",
              "            )\n",
              "          )\n",
              "          (intermediate): BertIntermediate(\n",
              "            (dense): Linear(in_features=768, out_features=3072, bias=True)\n",
              "          )\n",
              "          (output): BertOutput(\n",
              "            (dense): Linear(in_features=3072, out_features=768, bias=True)\n",
              "            (LayerNorm): LayerNorm((768,), eps=1e-12, elementwise_affine=True)\n",
              "            (dropout): Dropout(p=0.1, inplace=False)\n",
              "          )\n",
              "        )\n",
              "        (10): BertLayer(\n",
              "          (attention): BertAttention(\n",
              "            (self): BertSelfAttention(\n",
              "              (query): Linear(in_features=768, out_features=768, bias=True)\n",
              "              (key): Linear(in_features=768, out_features=768, bias=True)\n",
              "              (value): Linear(in_features=768, out_features=768, bias=True)\n",
              "              (dropout): Dropout(p=0.1, inplace=False)\n",
              "            )\n",
              "            (output): BertSelfOutput(\n",
              "              (dense): Linear(in_features=768, out_features=768, bias=True)\n",
              "              (LayerNorm): LayerNorm((768,), eps=1e-12, elementwise_affine=True)\n",
              "              (dropout): Dropout(p=0.1, inplace=False)\n",
              "            )\n",
              "          )\n",
              "          (intermediate): BertIntermediate(\n",
              "            (dense): Linear(in_features=768, out_features=3072, bias=True)\n",
              "          )\n",
              "          (output): BertOutput(\n",
              "            (dense): Linear(in_features=3072, out_features=768, bias=True)\n",
              "            (LayerNorm): LayerNorm((768,), eps=1e-12, elementwise_affine=True)\n",
              "            (dropout): Dropout(p=0.1, inplace=False)\n",
              "          )\n",
              "        )\n",
              "        (11): BertLayer(\n",
              "          (attention): BertAttention(\n",
              "            (self): BertSelfAttention(\n",
              "              (query): Linear(in_features=768, out_features=768, bias=True)\n",
              "              (key): Linear(in_features=768, out_features=768, bias=True)\n",
              "              (value): Linear(in_features=768, out_features=768, bias=True)\n",
              "              (dropout): Dropout(p=0.1, inplace=False)\n",
              "            )\n",
              "            (output): BertSelfOutput(\n",
              "              (dense): Linear(in_features=768, out_features=768, bias=True)\n",
              "              (LayerNorm): LayerNorm((768,), eps=1e-12, elementwise_affine=True)\n",
              "              (dropout): Dropout(p=0.1, inplace=False)\n",
              "            )\n",
              "          )\n",
              "          (intermediate): BertIntermediate(\n",
              "            (dense): Linear(in_features=768, out_features=3072, bias=True)\n",
              "          )\n",
              "          (output): BertOutput(\n",
              "            (dense): Linear(in_features=3072, out_features=768, bias=True)\n",
              "            (LayerNorm): LayerNorm((768,), eps=1e-12, elementwise_affine=True)\n",
              "            (dropout): Dropout(p=0.1, inplace=False)\n",
              "          )\n",
              "        )\n",
              "      )\n",
              "    )\n",
              "    (pooler): BertPooler(\n",
              "      (dense): Linear(in_features=768, out_features=768, bias=True)\n",
              "      (activation): Tanh()\n",
              "    )\n",
              "  )\n",
              "  (dropout): Dropout(p=0.1, inplace=False)\n",
              "  (classifier): Linear(in_features=768, out_features=1, bias=True)\n",
              ")"
            ]
          },
          "metadata": {
            "tags": []
          },
          "execution_count": 16
        }
      ]
    },
    {
      "cell_type": "code",
      "metadata": {
        "id": "2joW5-JuZOA_"
      },
      "source": [
        "class TOEICQuizBerts():\n",
        "    \"\"\"\n",
        "    Model using pretrained Bert for answering toeic question, running for each example\n",
        "    Bertmodel: we can choose bert large cased/bert large uncased, etc\n",
        "    \n",
        "    Model return the answer for the question based on the highest probability\n",
        "    \"\"\"\n",
        "    def __init__(self, tokenizer, model):\n",
        "        self.use_cuda = torch.cuda.is_available()\n",
        "        self.device = torch.device(\"cuda\" if self.use_cuda else \"cpu\")\n",
        "\n",
        "        # Initial tokenizer to tokenize the question later\n",
        "        self.tokenizer = tokenizer\n",
        "        self.model = model.to(self.device)\n",
        "        self.model.eval()\n",
        "         # We used pretrained BertForMaskedLM to fill in the blank, do not fine tuning so we set model to eval\n",
        "        \n",
        "    def get_score(self,question_tensors, masked_index, candidate):\n",
        "        # Tokenize the answer candidate\n",
        "        candidate_tokens = self.tokenizer.tokenize(candidate)\n",
        "        # After tokenizing, we convert token to ids, (word to numerical)\n",
        "        candidate_ids = self.tokenizer.convert_tokens_to_ids(candidate_tokens)\n",
        "        predictions = self.model(question_tensors)\n",
        "        \n",
        "        predictions_candidates = predictions.prediction_logits[0,masked_index, candidate_ids].mean()\n",
        "        \n",
        "        \n",
        "        return predictions_candidates.item()\n",
        "    \n",
        "    def predict(self,row):\n",
        "        # Tokenizing questions, convert '___' to '_' so that we can MASK it\n",
        "        question_tokens = self.tokenizer.tokenize(row['question'].replace('___', '_'))\n",
        "        \n",
        "        masked_index = question_tokens.index('_')\n",
        "        # Assign [MASK] to blank that need to be completed\n",
        "        question_tokens[masked_index] = '[MASK]'\n",
        "        #segment_ids = [0] * len(question_tokens)\n",
        "        #segment_tensors = torch.tensor([segment_ids]).to(self.device)\n",
        "        question_ids = self.tokenizer.convert_tokens_to_ids(question_tokens)\n",
        "        question_tensors = torch.tensor([question_ids]).to(self.device)\n",
        "        candidates = [row['1'], row['2'], row['3'], row['4']]\n",
        "        \n",
        "        # Return probabilities of answer choice [prob1, prob2, prob3, prob4]\n",
        "        predict_tensor = torch.tensor([self.get_score(question_tensors,\n",
        "                                                masked_index, candidate) for candidate in candidates])\n",
        "        # Softmax the predict probability to return the index for maximum values\n",
        "        predict_idx = torch.argmax(predict_tensor).item()\n",
        "        return candidates[predict_idx]"
      ],
      "execution_count": null,
      "outputs": []
    },
    {
      "cell_type": "code",
      "metadata": {
        "id": "8tpWfR7QbUW2"
      },
      "source": [
        "class TOEICQuizBart():\n",
        "    \"\"\"\n",
        "    Model using pretrained Bert for answering toeic question, running for each example\n",
        "    Bertmodel: we can choose bert large cased/bert large uncased, etc\n",
        "    \n",
        "    Model return the answer for the question based on the highest probability\n",
        "    \"\"\"\n",
        "    def __init__(self, tokenizer, model):\n",
        "        self.use_cuda = torch.cuda.is_available()\n",
        "        self.device = torch.device(\"cuda\" if self.use_cuda else \"cpu\")\n",
        "\n",
        "        # Initial tokenizer to tokenize the question later\n",
        "        self.tokenizer = tokenizer\n",
        "        self.model = model.to(self.device)\n",
        "        self.model.eval()\n",
        "         # We used pretrained BertForMaskedLM to fill in the blank, do not fine tuning so we set model to eval\n",
        "        \n",
        "    def get_score(self,question_tensors, masked_index, candidate):\n",
        "        # Tokenize the answer candidate\n",
        "        candidate_tokens = self.tokenizer.tokenize(candidate)\n",
        "        # After tokenizing, we convert token to ids, (word to numerical)\n",
        "        candidate_ids = self.tokenizer.convert_tokens_to_ids(candidate_tokens)\n",
        "        predictions = self.model(question_tensors)\n",
        "        \n",
        "        predictions_candidates = predictions.logits[0,masked_index, candidate_ids].mean()\n",
        "        \n",
        "        \n",
        "        return predictions_candidates.item()\n",
        "    \n",
        "    def predict(self,row):\n",
        "        # Tokenizing questions, convert '___' to '_' so that we can MASK it\n",
        "        question_tokens = self.tokenizer.tokenize(row['question'].replace('___', '_'))\n",
        "        if '_' in question_tokens:\n",
        "            masked_index=0\n",
        "        else:\n",
        "            masked_index = question_tokens.index('Ġ_')\n",
        "        # Assign [MASK] to blank that need to be completed\n",
        "        question_tokens[masked_index] = '<MASK>'\n",
        "        #segment_ids = [0] * len(question_tokens)\n",
        "        #segment_tensors = torch.tensor([segment_ids]).to(self.device)\n",
        "        question_ids = self.tokenizer.convert_tokens_to_ids(question_tokens)\n",
        "        question_tensors = torch.tensor([question_ids]).to(self.device)\n",
        "        candidates = [row['1'], row['2'], row['3'], row['4']]\n",
        "        \n",
        "        # Return probabilities of answer choice [prob1, prob2, prob3, prob4]\n",
        "        predict_tensor = torch.tensor([self.get_score(question_tensors,\n",
        "                                                masked_index, candidate) for candidate in candidates])\n",
        "        # Softmax the predict probability to return the index for maximum values\n",
        "        predict_idx = torch.argmax(predict_tensor).item()\n",
        "        return candidates[predict_idx]"
      ],
      "execution_count": null,
      "outputs": []
    },
    {
      "cell_type": "code",
      "metadata": {
        "id": "6bsLi5W9LFb0"
      },
      "source": [
        "class TOEICQuizbert():\n",
        "    \"\"\"\n",
        "    Model using pretrained Bert for answering toeic question, running for each example\n",
        "    Bertmodel: we can choose bert large cased/bert large uncased, etc\n",
        "    \n",
        "    Model return the answer for the question based on the highest probability\n",
        "    \"\"\"\n",
        "    def __init__(self, tokenizer, model):\n",
        "        self.use_cuda = torch.cuda.is_available()\n",
        "        self.device = torch.device(\"cuda\" if self.use_cuda else \"cpu\")\n",
        "\n",
        "        # Initial tokenizer to tokenize the question later\n",
        "        self.tokenizer = tokenizer\n",
        "        self.model = model.to(self.device)\n",
        "        self.softmax=torch.nn.Softmax(dim=1)\n",
        "        self.model.eval()\n",
        "         # We used pretrained BertForMaskedLM to fill in the blank, do not fine tuning so we set model to eval\n",
        "        \n",
        "    def predict(self,data):\n",
        "        question_tensors=[]\n",
        "        question_tokens1=tokenizer.tokenize(data['question'].replace('___', data['1']))\n",
        "        question_tensors.append(question_tokens1)\n",
        "        question_tokens2=tokenizer.tokenize(data['question'].replace('___', data['2']))\n",
        "        question_tensors.append(question_tokens2)\n",
        "        question_tokens3=tokenizer.tokenize(data['question'].replace('___', data['3']))\n",
        "        question_tensors.append(question_tokens3)\n",
        "        question_tokens4=tokenizer.tokenize(data['question'].replace('___', data['4']))\n",
        "        question_tensors.append(question_tokens4)\n",
        "        question_list=self.tokenizer(question_tensors,is_split_into_words=True,padding=True, truncation=True, add_special_tokens=False,return_tensors=\"pt\").to(self.device)['input_ids']\n",
        "        question_list=torch.stack([question_list])\n",
        "        predictions=self.model(question_list)\n",
        "        predict=predictions.logits\n",
        "        predict_tensor=self.softmax(predict)\n",
        "        #print(predict_tensor)\n",
        "        # Softmax the predict probability to return the index for maximum values\n",
        "        _,predict_idx = torch.topk(predict_tensor,k=1)\n",
        "        return predict_idx"
      ],
      "execution_count": null,
      "outputs": []
    },
    {
      "cell_type": "code",
      "metadata": {
        "id": "32y0ZgGlefyE"
      },
      "source": [
        "toeic_model = TOEICQuizbert(tokenizer,model)"
      ],
      "execution_count": null,
      "outputs": []
    },
    {
      "cell_type": "code",
      "metadata": {
        "id": "XDUhP-q6Fqzn",
        "colab": {
          "base_uri": "https://localhost:8080/"
        },
        "outputId": "f8ccfa5f-43b1-4344-fb65-45152f197191"
      },
      "source": [
        "count = 0\n",
        "for question,answer in zip(question_infors[-100:],answer_list[-100:]):\n",
        "    answer_predict = toeic_model.predict(question)\n",
        "    #print('{}-predict, {}-answer'.format(answer_predict,answer))\n",
        "    if answer_predict == answer:\n",
        "        count+=1\n",
        "\n",
        "num_questions = len(question_infors[-100:])\n",
        "print(f'The model predict {round(count/num_questions,2) * 100} % of total {num_questions} questions')"
      ],
      "execution_count": null,
      "outputs": [
        {
          "output_type": "stream",
          "text": [
            "The model predict 90.0 % of total 100 questions\n"
          ],
          "name": "stdout"
        }
      ]
    },
    {
      "cell_type": "code",
      "metadata": {
        "id": "8NozGN5pFrKF",
        "colab": {
          "base_uri": "https://localhost:8080/"
        },
        "outputId": "d9d6702d-8966-46b8-b4dc-0af4843a7860"
      },
      "source": [
        "count = 0\n",
        "for question,answer in zip(question_infors[-200:-100],answer_list[-200:-100]):\n",
        "    answer_predict = toeic_model.predict(question)\n",
        "    #print('{}-predict, {}-answer'.format(answer_predict,answer))\n",
        "    if answer_predict == answer:\n",
        "        count+=1\n",
        "\n",
        "num_questions = len(question_infors[-200:-100])\n",
        "print(f'The model predict {round(count/num_questions,2) * 100} % of total {num_questions} questions')"
      ],
      "execution_count": null,
      "outputs": [
        {
          "output_type": "stream",
          "text": [
            "The model predict 84.0 % of total 100 questions\n"
          ],
          "name": "stdout"
        }
      ]
    },
    {
      "cell_type": "code",
      "metadata": {
        "id": "8aUExpaHFrYN",
        "colab": {
          "base_uri": "https://localhost:8080/"
        },
        "outputId": "728dadbf-71c7-41b2-a510-74535b6fcd56"
      },
      "source": [
        "count = 0\n",
        "for question,answer in zip(question_infors[-300:-200],answer_list[-300:-200]):\n",
        "    answer_predict = toeic_model.predict(question)\n",
        "    #print('{}-predict, {}-answer'.format(answer_predict,answer))\n",
        "    if answer_predict == answer:\n",
        "        count+=1\n",
        "\n",
        "num_questions = len(question_infors[-300:-200])\n",
        "print(f'The model predict {round(count/num_questions,2) * 100} % of total {num_questions} questions')"
      ],
      "execution_count": null,
      "outputs": [
        {
          "output_type": "stream",
          "text": [
            "The model predict 85.0 % of total 100 questions\n"
          ],
          "name": "stdout"
        }
      ]
    },
    {
      "cell_type": "code",
      "metadata": {
        "id": "V3cLddbYFrlN",
        "colab": {
          "base_uri": "https://localhost:8080/"
        },
        "outputId": "4f1f1674-81b3-43cc-b7ed-6cc22822fda0"
      },
      "source": [
        "count = 0\n",
        "for question,answer in zip(question_infors[-400:-300],answer_list[-400:-300]):\n",
        "    answer_predict = toeic_model.predict(question)\n",
        "    #print('{}-predict, {}-answer'.format(answer_predict,answer))\n",
        "    if answer_predict == answer:\n",
        "        count+=1\n",
        "\n",
        "num_questions = len(question_infors[-400:-300])\n",
        "print(f'The model predict {round(count/num_questions,2) * 100} % of total {num_questions} questions')"
      ],
      "execution_count": null,
      "outputs": [
        {
          "output_type": "stream",
          "text": [
            "The model predict 88.0 % of total 100 questions\n"
          ],
          "name": "stdout"
        }
      ]
    },
    {
      "cell_type": "code",
      "metadata": {
        "id": "e-iwaG_eqqZJ",
        "colab": {
          "base_uri": "https://localhost:8080/"
        },
        "outputId": "db6aceec-ff82-4d2c-f09b-77abaa4012b5"
      },
      "source": [
        "count = 0\n",
        "for question,answer in zip(question_infors[3200:],answer_list[3200:]):\n",
        "    answer_predict = toeic_model.predict(question)\n",
        "    #print('{}-predict, {}-answer'.format(answer_predict,answer))\n",
        "    if answer_predict == answer:\n",
        "        count+=1\n",
        "\n",
        "num_questions = len(question_infors[3200:])\n",
        "print(f'The model predict {round(count/num_questions,4) * 100} % of total {num_questions} questions')"
      ],
      "execution_count": null,
      "outputs": [
        {
          "output_type": "stream",
          "text": [
            "The model predict 87.06 % of total 425 questions\n"
          ],
          "name": "stdout"
        }
      ]
    },
    {
      "cell_type": "code",
      "metadata": {
        "id": "zHwKEm_mda8a",
        "colab": {
          "base_uri": "https://localhost:8080/"
        },
        "outputId": "db583a07-03b1-42e5-b3a8-c9d58b3f91af"
      },
      "source": [
        "count = 0\n",
        "for question,answer in zip(question_infors[:3200],answer_list[:3200]):\n",
        "    answer_predict = toeic_model.predict(question)\n",
        "    #print('{}-predict, {}-answer'.format(answer_predict,answer))\n",
        "    if answer_predict == answer:\n",
        "        count+=1\n",
        "\n",
        "num_questions = len(question_infors[:3200])\n",
        "print(f'The model predict {round(count/num_questions,4) * 100} % of total {num_questions} questions')"
      ],
      "execution_count": null,
      "outputs": [
        {
          "output_type": "stream",
          "text": [
            "The model predict 99.22 % of total 3200 questions\n"
          ],
          "name": "stdout"
        }
      ]
    },
    {
      "cell_type": "code",
      "metadata": {
        "id": "NNpkosxxumAV"
      },
      "source": [
        "count = 0\n",
        "for question in question_infors:\n",
        "    anwser_predict = toeic_model.predict(question)\n",
        "    if anwser_predict == question['anwser']:\n",
        "        count+=1\n",
        "\n",
        "num_questions = len(question_infors)\n",
        "print(f'The model predict {round(count/num_questions,2) * 100} % of total {len(question_infors)} questions')"
      ],
      "execution_count": null,
      "outputs": []
    },
    {
      "cell_type": "code",
      "metadata": {
        "id": "Mact7x4eAMuZ"
      },
      "source": [
        "def part5_solver(text, candidate):\n",
        "    use_cuda = torch.cuda.is_available()\n",
        "    device = torch.device(\"cuda\" if use_cuda else \"cpu\")\n",
        "    tokens = tokenizer.tokenize(text.replace('___', '_'))\n",
        "    #print(tokens)\n",
        "    masked_index = tokens.index(\"_\")\n",
        "    tokens[masked_index] = \"[MASK]\"\n",
        "    tokens = [\"[CLS]\"] + tokens + [\"[SEP]\"]\n",
        "\n",
        "    ids = tokenizer.convert_tokens_to_ids(tokens)\n",
        "    ids = torch.tensor(ids).reshape(1,-1).to(device)\n",
        "    #print(ids)\n",
        "    with torch.no_grad():\n",
        "        outputs = model(ids)\n",
        "        #print(outputs)\n",
        "    predictions=outputs.prediction_logits\n",
        "    #print(predictions)\n",
        "    _, predicted_indexes = torch.topk(predictions[0,masked_index], k=30000)\n",
        "    #print(torch.topk(predictions[0,masked_index], k=1000))\n",
        "    predicted_tokens = tokenizer.convert_ids_to_tokens(predicted_indexes.tolist())\n",
        "\n",
        "\n",
        "    for i, v in enumerate(predicted_tokens):\n",
        "        print(v)\n",
        "        if v in candidate:\n",
        "          \n",
        "            return (i, v)\n",
        "    return ('error',\"don't know\")"
      ],
      "execution_count": null,
      "outputs": []
    },
    {
      "cell_type": "code",
      "metadata": {
        "id": "yOb9rkUWeZMJ"
      },
      "source": [
        "question_text=[]\n",
        "for i in question_infors:\n",
        "  question_text.append(i['question'])\n",
        "candidate_list=[]\n",
        "for i in question_infors:\n",
        "  candidate_list.append([i['1'],i['2'],i['3'],i['4']])\n",
        "answer_list=[]\n",
        "for i in question_infors:\n",
        "  answer_list.append(i['anwser'])"
      ],
      "execution_count": null,
      "outputs": []
    },
    {
      "cell_type": "code",
      "metadata": {
        "id": "HTMPNMMQBRrq"
      },
      "source": [
        "count = 0\n",
        "for question,candidate,answer in zip(question_text[-100:],candidate_list[-100:],answer_list[-100:]):\n",
        "    _,anwser_predict = part5_solver(question,candidate)\n",
        "    print(anwser_predict)\n",
        "    if anwser_predict == answer:\n",
        "        count+=1\n",
        "\n",
        "num_questions = len(question_infors[-100:])\n",
        "print(f'The model predict {round(count/num_questions,2) * 100} % of total {num_questions} questions')"
      ],
      "execution_count": null,
      "outputs": []
    },
    {
      "cell_type": "code",
      "metadata": {
        "id": "d9J7L0eQCMu1"
      },
      "source": [
        "question_text[-98]"
      ],
      "execution_count": null,
      "outputs": []
    },
    {
      "cell_type": "code",
      "metadata": {
        "id": "efALUbHBVixm"
      },
      "source": [
        ""
      ],
      "execution_count": null,
      "outputs": []
    }
  ]
}