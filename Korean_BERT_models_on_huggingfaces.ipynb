{
  "nbformat": 4,
  "nbformat_minor": 0,
  "metadata": {
    "colab": {
      "name": "Korean BERT models on huggingfaces.ipynb",
      "provenance": []
    },
    "kernelspec": {
      "name": "python3",
      "display_name": "Python 3"
    },
    "widgets": {
      "application/vnd.jupyter.widget-state+json": {
        "cf3fc377410a41f28991e902be89649d": {
          "model_module": "@jupyter-widgets/controls",
          "model_name": "HBoxModel",
          "state": {
            "_view_name": "HBoxView",
            "_dom_classes": [],
            "_model_name": "HBoxModel",
            "_view_module": "@jupyter-widgets/controls",
            "_model_module_version": "1.5.0",
            "_view_count": null,
            "_view_module_version": "1.5.0",
            "box_style": "",
            "layout": "IPY_MODEL_537c0871c06245c8b43e48ae103ac047",
            "_model_module": "@jupyter-widgets/controls",
            "children": [
              "IPY_MODEL_20e2b418c70c4ce4b871691bd7c7d5fe",
              "IPY_MODEL_bd5d6cb1097b436580e68fe9c6e7224b"
            ]
          }
        },
        "537c0871c06245c8b43e48ae103ac047": {
          "model_module": "@jupyter-widgets/base",
          "model_name": "LayoutModel",
          "state": {
            "_view_name": "LayoutView",
            "grid_template_rows": null,
            "right": null,
            "justify_content": null,
            "_view_module": "@jupyter-widgets/base",
            "overflow": null,
            "_model_module_version": "1.2.0",
            "_view_count": null,
            "flex_flow": null,
            "width": null,
            "min_width": null,
            "border": null,
            "align_items": null,
            "bottom": null,
            "_model_module": "@jupyter-widgets/base",
            "top": null,
            "grid_column": null,
            "overflow_y": null,
            "overflow_x": null,
            "grid_auto_flow": null,
            "grid_area": null,
            "grid_template_columns": null,
            "flex": null,
            "_model_name": "LayoutModel",
            "justify_items": null,
            "grid_row": null,
            "max_height": null,
            "align_content": null,
            "visibility": null,
            "align_self": null,
            "height": null,
            "min_height": null,
            "padding": null,
            "grid_auto_rows": null,
            "grid_gap": null,
            "max_width": null,
            "order": null,
            "_view_module_version": "1.2.0",
            "grid_template_areas": null,
            "object_position": null,
            "object_fit": null,
            "grid_auto_columns": null,
            "margin": null,
            "display": null,
            "left": null
          }
        },
        "20e2b418c70c4ce4b871691bd7c7d5fe": {
          "model_module": "@jupyter-widgets/controls",
          "model_name": "FloatProgressModel",
          "state": {
            "_view_name": "ProgressView",
            "style": "IPY_MODEL_fa50d29d23be43c4bb7511aaec8045bc",
            "_dom_classes": [],
            "description": "Downloading: 100%",
            "_model_name": "FloatProgressModel",
            "bar_style": "success",
            "max": 871891,
            "_view_module": "@jupyter-widgets/controls",
            "_model_module_version": "1.5.0",
            "value": 871891,
            "_view_count": null,
            "_view_module_version": "1.5.0",
            "orientation": "horizontal",
            "min": 0,
            "description_tooltip": null,
            "_model_module": "@jupyter-widgets/controls",
            "layout": "IPY_MODEL_5131313135de4e40949385ecb273d414"
          }
        },
        "bd5d6cb1097b436580e68fe9c6e7224b": {
          "model_module": "@jupyter-widgets/controls",
          "model_name": "HTMLModel",
          "state": {
            "_view_name": "HTMLView",
            "style": "IPY_MODEL_0cb8c97ff3614bac9a2d95e5b7253711",
            "_dom_classes": [],
            "description": "",
            "_model_name": "HTMLModel",
            "placeholder": "​",
            "_view_module": "@jupyter-widgets/controls",
            "_model_module_version": "1.5.0",
            "value": " 872k/872k [00:00&lt;00:00, 1.94MB/s]",
            "_view_count": null,
            "_view_module_version": "1.5.0",
            "description_tooltip": null,
            "_model_module": "@jupyter-widgets/controls",
            "layout": "IPY_MODEL_612c05e50d12477d8c2d6c00c5fd172d"
          }
        },
        "fa50d29d23be43c4bb7511aaec8045bc": {
          "model_module": "@jupyter-widgets/controls",
          "model_name": "ProgressStyleModel",
          "state": {
            "_view_name": "StyleView",
            "_model_name": "ProgressStyleModel",
            "description_width": "initial",
            "_view_module": "@jupyter-widgets/base",
            "_model_module_version": "1.5.0",
            "_view_count": null,
            "_view_module_version": "1.2.0",
            "bar_color": null,
            "_model_module": "@jupyter-widgets/controls"
          }
        },
        "5131313135de4e40949385ecb273d414": {
          "model_module": "@jupyter-widgets/base",
          "model_name": "LayoutModel",
          "state": {
            "_view_name": "LayoutView",
            "grid_template_rows": null,
            "right": null,
            "justify_content": null,
            "_view_module": "@jupyter-widgets/base",
            "overflow": null,
            "_model_module_version": "1.2.0",
            "_view_count": null,
            "flex_flow": null,
            "width": null,
            "min_width": null,
            "border": null,
            "align_items": null,
            "bottom": null,
            "_model_module": "@jupyter-widgets/base",
            "top": null,
            "grid_column": null,
            "overflow_y": null,
            "overflow_x": null,
            "grid_auto_flow": null,
            "grid_area": null,
            "grid_template_columns": null,
            "flex": null,
            "_model_name": "LayoutModel",
            "justify_items": null,
            "grid_row": null,
            "max_height": null,
            "align_content": null,
            "visibility": null,
            "align_self": null,
            "height": null,
            "min_height": null,
            "padding": null,
            "grid_auto_rows": null,
            "grid_gap": null,
            "max_width": null,
            "order": null,
            "_view_module_version": "1.2.0",
            "grid_template_areas": null,
            "object_position": null,
            "object_fit": null,
            "grid_auto_columns": null,
            "margin": null,
            "display": null,
            "left": null
          }
        },
        "0cb8c97ff3614bac9a2d95e5b7253711": {
          "model_module": "@jupyter-widgets/controls",
          "model_name": "DescriptionStyleModel",
          "state": {
            "_view_name": "StyleView",
            "_model_name": "DescriptionStyleModel",
            "description_width": "",
            "_view_module": "@jupyter-widgets/base",
            "_model_module_version": "1.5.0",
            "_view_count": null,
            "_view_module_version": "1.2.0",
            "_model_module": "@jupyter-widgets/controls"
          }
        },
        "612c05e50d12477d8c2d6c00c5fd172d": {
          "model_module": "@jupyter-widgets/base",
          "model_name": "LayoutModel",
          "state": {
            "_view_name": "LayoutView",
            "grid_template_rows": null,
            "right": null,
            "justify_content": null,
            "_view_module": "@jupyter-widgets/base",
            "overflow": null,
            "_model_module_version": "1.2.0",
            "_view_count": null,
            "flex_flow": null,
            "width": null,
            "min_width": null,
            "border": null,
            "align_items": null,
            "bottom": null,
            "_model_module": "@jupyter-widgets/base",
            "top": null,
            "grid_column": null,
            "overflow_y": null,
            "overflow_x": null,
            "grid_auto_flow": null,
            "grid_area": null,
            "grid_template_columns": null,
            "flex": null,
            "_model_name": "LayoutModel",
            "justify_items": null,
            "grid_row": null,
            "max_height": null,
            "align_content": null,
            "visibility": null,
            "align_self": null,
            "height": null,
            "min_height": null,
            "padding": null,
            "grid_auto_rows": null,
            "grid_gap": null,
            "max_width": null,
            "order": null,
            "_view_module_version": "1.2.0",
            "grid_template_areas": null,
            "object_position": null,
            "object_fit": null,
            "grid_auto_columns": null,
            "margin": null,
            "display": null,
            "left": null
          }
        },
        "49ddc44b0751476b83738db849da417b": {
          "model_module": "@jupyter-widgets/controls",
          "model_name": "HBoxModel",
          "state": {
            "_view_name": "HBoxView",
            "_dom_classes": [],
            "_model_name": "HBoxModel",
            "_view_module": "@jupyter-widgets/controls",
            "_model_module_version": "1.5.0",
            "_view_count": null,
            "_view_module_version": "1.5.0",
            "box_style": "",
            "layout": "IPY_MODEL_89a8cfc5d73d4862a9d97c39f44e6b7a",
            "_model_module": "@jupyter-widgets/controls",
            "children": [
              "IPY_MODEL_3f8fb8f101af43ebabfcbf96038d898f",
              "IPY_MODEL_40d846d0f420435c9ee42596c327488f"
            ]
          }
        },
        "89a8cfc5d73d4862a9d97c39f44e6b7a": {
          "model_module": "@jupyter-widgets/base",
          "model_name": "LayoutModel",
          "state": {
            "_view_name": "LayoutView",
            "grid_template_rows": null,
            "right": null,
            "justify_content": null,
            "_view_module": "@jupyter-widgets/base",
            "overflow": null,
            "_model_module_version": "1.2.0",
            "_view_count": null,
            "flex_flow": null,
            "width": null,
            "min_width": null,
            "border": null,
            "align_items": null,
            "bottom": null,
            "_model_module": "@jupyter-widgets/base",
            "top": null,
            "grid_column": null,
            "overflow_y": null,
            "overflow_x": null,
            "grid_auto_flow": null,
            "grid_area": null,
            "grid_template_columns": null,
            "flex": null,
            "_model_name": "LayoutModel",
            "justify_items": null,
            "grid_row": null,
            "max_height": null,
            "align_content": null,
            "visibility": null,
            "align_self": null,
            "height": null,
            "min_height": null,
            "padding": null,
            "grid_auto_rows": null,
            "grid_gap": null,
            "max_width": null,
            "order": null,
            "_view_module_version": "1.2.0",
            "grid_template_areas": null,
            "object_position": null,
            "object_fit": null,
            "grid_auto_columns": null,
            "margin": null,
            "display": null,
            "left": null
          }
        },
        "3f8fb8f101af43ebabfcbf96038d898f": {
          "model_module": "@jupyter-widgets/controls",
          "model_name": "FloatProgressModel",
          "state": {
            "_view_name": "ProgressView",
            "style": "IPY_MODEL_4647cd374aec4eceaf331fac4e805387",
            "_dom_classes": [],
            "description": "Downloading: 100%",
            "_model_name": "FloatProgressModel",
            "bar_style": "success",
            "max": 249928,
            "_view_module": "@jupyter-widgets/controls",
            "_model_module_version": "1.5.0",
            "value": 249928,
            "_view_count": null,
            "_view_module_version": "1.5.0",
            "orientation": "horizontal",
            "min": 0,
            "description_tooltip": null,
            "_model_module": "@jupyter-widgets/controls",
            "layout": "IPY_MODEL_52fa8083626b4e21ad08ce7114d06cf9"
          }
        },
        "40d846d0f420435c9ee42596c327488f": {
          "model_module": "@jupyter-widgets/controls",
          "model_name": "HTMLModel",
          "state": {
            "_view_name": "HTMLView",
            "style": "IPY_MODEL_a4c3d120d2834a5f996fc88490aa0f78",
            "_dom_classes": [],
            "description": "",
            "_model_name": "HTMLModel",
            "placeholder": "​",
            "_view_module": "@jupyter-widgets/controls",
            "_model_module_version": "1.5.0",
            "value": " 250k/250k [00:00&lt;00:00, 271kB/s]",
            "_view_count": null,
            "_view_module_version": "1.5.0",
            "description_tooltip": null,
            "_model_module": "@jupyter-widgets/controls",
            "layout": "IPY_MODEL_35780ee03a414a25a065e3af0c3937a7"
          }
        },
        "4647cd374aec4eceaf331fac4e805387": {
          "model_module": "@jupyter-widgets/controls",
          "model_name": "ProgressStyleModel",
          "state": {
            "_view_name": "StyleView",
            "_model_name": "ProgressStyleModel",
            "description_width": "initial",
            "_view_module": "@jupyter-widgets/base",
            "_model_module_version": "1.5.0",
            "_view_count": null,
            "_view_module_version": "1.2.0",
            "bar_color": null,
            "_model_module": "@jupyter-widgets/controls"
          }
        },
        "52fa8083626b4e21ad08ce7114d06cf9": {
          "model_module": "@jupyter-widgets/base",
          "model_name": "LayoutModel",
          "state": {
            "_view_name": "LayoutView",
            "grid_template_rows": null,
            "right": null,
            "justify_content": null,
            "_view_module": "@jupyter-widgets/base",
            "overflow": null,
            "_model_module_version": "1.2.0",
            "_view_count": null,
            "flex_flow": null,
            "width": null,
            "min_width": null,
            "border": null,
            "align_items": null,
            "bottom": null,
            "_model_module": "@jupyter-widgets/base",
            "top": null,
            "grid_column": null,
            "overflow_y": null,
            "overflow_x": null,
            "grid_auto_flow": null,
            "grid_area": null,
            "grid_template_columns": null,
            "flex": null,
            "_model_name": "LayoutModel",
            "justify_items": null,
            "grid_row": null,
            "max_height": null,
            "align_content": null,
            "visibility": null,
            "align_self": null,
            "height": null,
            "min_height": null,
            "padding": null,
            "grid_auto_rows": null,
            "grid_gap": null,
            "max_width": null,
            "order": null,
            "_view_module_version": "1.2.0",
            "grid_template_areas": null,
            "object_position": null,
            "object_fit": null,
            "grid_auto_columns": null,
            "margin": null,
            "display": null,
            "left": null
          }
        },
        "a4c3d120d2834a5f996fc88490aa0f78": {
          "model_module": "@jupyter-widgets/controls",
          "model_name": "DescriptionStyleModel",
          "state": {
            "_view_name": "StyleView",
            "_model_name": "DescriptionStyleModel",
            "description_width": "",
            "_view_module": "@jupyter-widgets/base",
            "_model_module_version": "1.5.0",
            "_view_count": null,
            "_view_module_version": "1.2.0",
            "_model_module": "@jupyter-widgets/controls"
          }
        },
        "35780ee03a414a25a065e3af0c3937a7": {
          "model_module": "@jupyter-widgets/base",
          "model_name": "LayoutModel",
          "state": {
            "_view_name": "LayoutView",
            "grid_template_rows": null,
            "right": null,
            "justify_content": null,
            "_view_module": "@jupyter-widgets/base",
            "overflow": null,
            "_model_module_version": "1.2.0",
            "_view_count": null,
            "flex_flow": null,
            "width": null,
            "min_width": null,
            "border": null,
            "align_items": null,
            "bottom": null,
            "_model_module": "@jupyter-widgets/base",
            "top": null,
            "grid_column": null,
            "overflow_y": null,
            "overflow_x": null,
            "grid_auto_flow": null,
            "grid_area": null,
            "grid_template_columns": null,
            "flex": null,
            "_model_name": "LayoutModel",
            "justify_items": null,
            "grid_row": null,
            "max_height": null,
            "align_content": null,
            "visibility": null,
            "align_self": null,
            "height": null,
            "min_height": null,
            "padding": null,
            "grid_auto_rows": null,
            "grid_gap": null,
            "max_width": null,
            "order": null,
            "_view_module_version": "1.2.0",
            "grid_template_areas": null,
            "object_position": null,
            "object_fit": null,
            "grid_auto_columns": null,
            "margin": null,
            "display": null,
            "left": null
          }
        },
        "f0f6d070ce484c68bcd6776b95b0ca4b": {
          "model_module": "@jupyter-widgets/controls",
          "model_name": "HBoxModel",
          "state": {
            "_view_name": "HBoxView",
            "_dom_classes": [],
            "_model_name": "HBoxModel",
            "_view_module": "@jupyter-widgets/controls",
            "_model_module_version": "1.5.0",
            "_view_count": null,
            "_view_module_version": "1.5.0",
            "box_style": "",
            "layout": "IPY_MODEL_5027aed25f084130a88408fb30c98568",
            "_model_module": "@jupyter-widgets/controls",
            "children": [
              "IPY_MODEL_023689eb24f44d469bfd8b7cc5b4a9a8",
              "IPY_MODEL_2c5e01923f584a31af81cd8a5b503a3f"
            ]
          }
        },
        "5027aed25f084130a88408fb30c98568": {
          "model_module": "@jupyter-widgets/base",
          "model_name": "LayoutModel",
          "state": {
            "_view_name": "LayoutView",
            "grid_template_rows": null,
            "right": null,
            "justify_content": null,
            "_view_module": "@jupyter-widgets/base",
            "overflow": null,
            "_model_module_version": "1.2.0",
            "_view_count": null,
            "flex_flow": null,
            "width": null,
            "min_width": null,
            "border": null,
            "align_items": null,
            "bottom": null,
            "_model_module": "@jupyter-widgets/base",
            "top": null,
            "grid_column": null,
            "overflow_y": null,
            "overflow_x": null,
            "grid_auto_flow": null,
            "grid_area": null,
            "grid_template_columns": null,
            "flex": null,
            "_model_name": "LayoutModel",
            "justify_items": null,
            "grid_row": null,
            "max_height": null,
            "align_content": null,
            "visibility": null,
            "align_self": null,
            "height": null,
            "min_height": null,
            "padding": null,
            "grid_auto_rows": null,
            "grid_gap": null,
            "max_width": null,
            "order": null,
            "_view_module_version": "1.2.0",
            "grid_template_areas": null,
            "object_position": null,
            "object_fit": null,
            "grid_auto_columns": null,
            "margin": null,
            "display": null,
            "left": null
          }
        },
        "023689eb24f44d469bfd8b7cc5b4a9a8": {
          "model_module": "@jupyter-widgets/controls",
          "model_name": "FloatProgressModel",
          "state": {
            "_view_name": "ProgressView",
            "style": "IPY_MODEL_18d67da58a094da4aa10dc6e0e3386bd",
            "_dom_classes": [],
            "description": "Downloading: 100%",
            "_model_name": "FloatProgressModel",
            "bar_style": "success",
            "max": 49,
            "_view_module": "@jupyter-widgets/controls",
            "_model_module_version": "1.5.0",
            "value": 49,
            "_view_count": null,
            "_view_module_version": "1.5.0",
            "orientation": "horizontal",
            "min": 0,
            "description_tooltip": null,
            "_model_module": "@jupyter-widgets/controls",
            "layout": "IPY_MODEL_2d5f957957ed4919bb9d796c9c4f782e"
          }
        },
        "2c5e01923f584a31af81cd8a5b503a3f": {
          "model_module": "@jupyter-widgets/controls",
          "model_name": "HTMLModel",
          "state": {
            "_view_name": "HTMLView",
            "style": "IPY_MODEL_eb045737823547438c1e68ffc3b1f18c",
            "_dom_classes": [],
            "description": "",
            "_model_name": "HTMLModel",
            "placeholder": "​",
            "_view_module": "@jupyter-widgets/controls",
            "_model_module_version": "1.5.0",
            "value": " 49.0/49.0 [00:00&lt;00:00, 190B/s]",
            "_view_count": null,
            "_view_module_version": "1.5.0",
            "description_tooltip": null,
            "_model_module": "@jupyter-widgets/controls",
            "layout": "IPY_MODEL_0336667b222543528216cf081f592439"
          }
        },
        "18d67da58a094da4aa10dc6e0e3386bd": {
          "model_module": "@jupyter-widgets/controls",
          "model_name": "ProgressStyleModel",
          "state": {
            "_view_name": "StyleView",
            "_model_name": "ProgressStyleModel",
            "description_width": "initial",
            "_view_module": "@jupyter-widgets/base",
            "_model_module_version": "1.5.0",
            "_view_count": null,
            "_view_module_version": "1.2.0",
            "bar_color": null,
            "_model_module": "@jupyter-widgets/controls"
          }
        },
        "2d5f957957ed4919bb9d796c9c4f782e": {
          "model_module": "@jupyter-widgets/base",
          "model_name": "LayoutModel",
          "state": {
            "_view_name": "LayoutView",
            "grid_template_rows": null,
            "right": null,
            "justify_content": null,
            "_view_module": "@jupyter-widgets/base",
            "overflow": null,
            "_model_module_version": "1.2.0",
            "_view_count": null,
            "flex_flow": null,
            "width": null,
            "min_width": null,
            "border": null,
            "align_items": null,
            "bottom": null,
            "_model_module": "@jupyter-widgets/base",
            "top": null,
            "grid_column": null,
            "overflow_y": null,
            "overflow_x": null,
            "grid_auto_flow": null,
            "grid_area": null,
            "grid_template_columns": null,
            "flex": null,
            "_model_name": "LayoutModel",
            "justify_items": null,
            "grid_row": null,
            "max_height": null,
            "align_content": null,
            "visibility": null,
            "align_self": null,
            "height": null,
            "min_height": null,
            "padding": null,
            "grid_auto_rows": null,
            "grid_gap": null,
            "max_width": null,
            "order": null,
            "_view_module_version": "1.2.0",
            "grid_template_areas": null,
            "object_position": null,
            "object_fit": null,
            "grid_auto_columns": null,
            "margin": null,
            "display": null,
            "left": null
          }
        },
        "eb045737823547438c1e68ffc3b1f18c": {
          "model_module": "@jupyter-widgets/controls",
          "model_name": "DescriptionStyleModel",
          "state": {
            "_view_name": "StyleView",
            "_model_name": "DescriptionStyleModel",
            "description_width": "",
            "_view_module": "@jupyter-widgets/base",
            "_model_module_version": "1.5.0",
            "_view_count": null,
            "_view_module_version": "1.2.0",
            "_model_module": "@jupyter-widgets/controls"
          }
        },
        "0336667b222543528216cf081f592439": {
          "model_module": "@jupyter-widgets/base",
          "model_name": "LayoutModel",
          "state": {
            "_view_name": "LayoutView",
            "grid_template_rows": null,
            "right": null,
            "justify_content": null,
            "_view_module": "@jupyter-widgets/base",
            "overflow": null,
            "_model_module_version": "1.2.0",
            "_view_count": null,
            "flex_flow": null,
            "width": null,
            "min_width": null,
            "border": null,
            "align_items": null,
            "bottom": null,
            "_model_module": "@jupyter-widgets/base",
            "top": null,
            "grid_column": null,
            "overflow_y": null,
            "overflow_x": null,
            "grid_auto_flow": null,
            "grid_area": null,
            "grid_template_columns": null,
            "flex": null,
            "_model_name": "LayoutModel",
            "justify_items": null,
            "grid_row": null,
            "max_height": null,
            "align_content": null,
            "visibility": null,
            "align_self": null,
            "height": null,
            "min_height": null,
            "padding": null,
            "grid_auto_rows": null,
            "grid_gap": null,
            "max_width": null,
            "order": null,
            "_view_module_version": "1.2.0",
            "grid_template_areas": null,
            "object_position": null,
            "object_fit": null,
            "grid_auto_columns": null,
            "margin": null,
            "display": null,
            "left": null
          }
        },
        "a4179292abcb4525875e96fdbef738ce": {
          "model_module": "@jupyter-widgets/controls",
          "model_name": "HBoxModel",
          "state": {
            "_view_name": "HBoxView",
            "_dom_classes": [],
            "_model_name": "HBoxModel",
            "_view_module": "@jupyter-widgets/controls",
            "_model_module_version": "1.5.0",
            "_view_count": null,
            "_view_module_version": "1.5.0",
            "box_style": "",
            "layout": "IPY_MODEL_56e3831cc5804779ba6126753ef01cee",
            "_model_module": "@jupyter-widgets/controls",
            "children": [
              "IPY_MODEL_b1820373940a4e5292b1887eee9d6019",
              "IPY_MODEL_257d6a93f1c94254bf9fb4ca34eabab3"
            ]
          }
        },
        "56e3831cc5804779ba6126753ef01cee": {
          "model_module": "@jupyter-widgets/base",
          "model_name": "LayoutModel",
          "state": {
            "_view_name": "LayoutView",
            "grid_template_rows": null,
            "right": null,
            "justify_content": null,
            "_view_module": "@jupyter-widgets/base",
            "overflow": null,
            "_model_module_version": "1.2.0",
            "_view_count": null,
            "flex_flow": null,
            "width": null,
            "min_width": null,
            "border": null,
            "align_items": null,
            "bottom": null,
            "_model_module": "@jupyter-widgets/base",
            "top": null,
            "grid_column": null,
            "overflow_y": null,
            "overflow_x": null,
            "grid_auto_flow": null,
            "grid_area": null,
            "grid_template_columns": null,
            "flex": null,
            "_model_name": "LayoutModel",
            "justify_items": null,
            "grid_row": null,
            "max_height": null,
            "align_content": null,
            "visibility": null,
            "align_self": null,
            "height": null,
            "min_height": null,
            "padding": null,
            "grid_auto_rows": null,
            "grid_gap": null,
            "max_width": null,
            "order": null,
            "_view_module_version": "1.2.0",
            "grid_template_areas": null,
            "object_position": null,
            "object_fit": null,
            "grid_auto_columns": null,
            "margin": null,
            "display": null,
            "left": null
          }
        },
        "b1820373940a4e5292b1887eee9d6019": {
          "model_module": "@jupyter-widgets/controls",
          "model_name": "FloatProgressModel",
          "state": {
            "_view_name": "ProgressView",
            "style": "IPY_MODEL_dd138326b39641409b2a5c4f85756ded",
            "_dom_classes": [],
            "description": "Downloading: 100%",
            "_model_name": "FloatProgressModel",
            "bar_style": "success",
            "max": 77779,
            "_view_module": "@jupyter-widgets/controls",
            "_model_module_version": "1.5.0",
            "value": 77779,
            "_view_count": null,
            "_view_module_version": "1.5.0",
            "orientation": "horizontal",
            "min": 0,
            "description_tooltip": null,
            "_model_module": "@jupyter-widgets/controls",
            "layout": "IPY_MODEL_17f3dc6ba9df4370bcc9fbbc6ef0abe3"
          }
        },
        "257d6a93f1c94254bf9fb4ca34eabab3": {
          "model_module": "@jupyter-widgets/controls",
          "model_name": "HTMLModel",
          "state": {
            "_view_name": "HTMLView",
            "style": "IPY_MODEL_a9e71f0c578c4bd3af15437d72e9486a",
            "_dom_classes": [],
            "description": "",
            "_model_name": "HTMLModel",
            "placeholder": "​",
            "_view_module": "@jupyter-widgets/controls",
            "_model_module_version": "1.5.0",
            "value": " 77.8k/77.8k [00:01&lt;00:00, 65.6kB/s]",
            "_view_count": null,
            "_view_module_version": "1.5.0",
            "description_tooltip": null,
            "_model_module": "@jupyter-widgets/controls",
            "layout": "IPY_MODEL_b79f772aa366497da72fc0e4311ade2d"
          }
        },
        "dd138326b39641409b2a5c4f85756ded": {
          "model_module": "@jupyter-widgets/controls",
          "model_name": "ProgressStyleModel",
          "state": {
            "_view_name": "StyleView",
            "_model_name": "ProgressStyleModel",
            "description_width": "initial",
            "_view_module": "@jupyter-widgets/base",
            "_model_module_version": "1.5.0",
            "_view_count": null,
            "_view_module_version": "1.2.0",
            "bar_color": null,
            "_model_module": "@jupyter-widgets/controls"
          }
        },
        "17f3dc6ba9df4370bcc9fbbc6ef0abe3": {
          "model_module": "@jupyter-widgets/base",
          "model_name": "LayoutModel",
          "state": {
            "_view_name": "LayoutView",
            "grid_template_rows": null,
            "right": null,
            "justify_content": null,
            "_view_module": "@jupyter-widgets/base",
            "overflow": null,
            "_model_module_version": "1.2.0",
            "_view_count": null,
            "flex_flow": null,
            "width": null,
            "min_width": null,
            "border": null,
            "align_items": null,
            "bottom": null,
            "_model_module": "@jupyter-widgets/base",
            "top": null,
            "grid_column": null,
            "overflow_y": null,
            "overflow_x": null,
            "grid_auto_flow": null,
            "grid_area": null,
            "grid_template_columns": null,
            "flex": null,
            "_model_name": "LayoutModel",
            "justify_items": null,
            "grid_row": null,
            "max_height": null,
            "align_content": null,
            "visibility": null,
            "align_self": null,
            "height": null,
            "min_height": null,
            "padding": null,
            "grid_auto_rows": null,
            "grid_gap": null,
            "max_width": null,
            "order": null,
            "_view_module_version": "1.2.0",
            "grid_template_areas": null,
            "object_position": null,
            "object_fit": null,
            "grid_auto_columns": null,
            "margin": null,
            "display": null,
            "left": null
          }
        },
        "a9e71f0c578c4bd3af15437d72e9486a": {
          "model_module": "@jupyter-widgets/controls",
          "model_name": "DescriptionStyleModel",
          "state": {
            "_view_name": "StyleView",
            "_model_name": "DescriptionStyleModel",
            "description_width": "",
            "_view_module": "@jupyter-widgets/base",
            "_model_module_version": "1.5.0",
            "_view_count": null,
            "_view_module_version": "1.2.0",
            "_model_module": "@jupyter-widgets/controls"
          }
        },
        "b79f772aa366497da72fc0e4311ade2d": {
          "model_module": "@jupyter-widgets/base",
          "model_name": "LayoutModel",
          "state": {
            "_view_name": "LayoutView",
            "grid_template_rows": null,
            "right": null,
            "justify_content": null,
            "_view_module": "@jupyter-widgets/base",
            "overflow": null,
            "_model_module_version": "1.2.0",
            "_view_count": null,
            "flex_flow": null,
            "width": null,
            "min_width": null,
            "border": null,
            "align_items": null,
            "bottom": null,
            "_model_module": "@jupyter-widgets/base",
            "top": null,
            "grid_column": null,
            "overflow_y": null,
            "overflow_x": null,
            "grid_auto_flow": null,
            "grid_area": null,
            "grid_template_columns": null,
            "flex": null,
            "_model_name": "LayoutModel",
            "justify_items": null,
            "grid_row": null,
            "max_height": null,
            "align_content": null,
            "visibility": null,
            "align_self": null,
            "height": null,
            "min_height": null,
            "padding": null,
            "grid_auto_rows": null,
            "grid_gap": null,
            "max_width": null,
            "order": null,
            "_view_module_version": "1.2.0",
            "grid_template_areas": null,
            "object_position": null,
            "object_fit": null,
            "grid_auto_columns": null,
            "margin": null,
            "display": null,
            "left": null
          }
        },
        "5c7316b1870d46b7a0ee6760b12721d4": {
          "model_module": "@jupyter-widgets/controls",
          "model_name": "HBoxModel",
          "state": {
            "_view_name": "HBoxView",
            "_dom_classes": [],
            "_model_name": "HBoxModel",
            "_view_module": "@jupyter-widgets/controls",
            "_model_module_version": "1.5.0",
            "_view_count": null,
            "_view_module_version": "1.5.0",
            "box_style": "",
            "layout": "IPY_MODEL_bc620b59c58c4361b5a876cf479586fe",
            "_model_module": "@jupyter-widgets/controls",
            "children": [
              "IPY_MODEL_804ccfea2a984302bc989914d02888dc",
              "IPY_MODEL_fa934beae0bf47a0a74e3c38864f87d1"
            ]
          }
        },
        "bc620b59c58c4361b5a876cf479586fe": {
          "model_module": "@jupyter-widgets/base",
          "model_name": "LayoutModel",
          "state": {
            "_view_name": "LayoutView",
            "grid_template_rows": null,
            "right": null,
            "justify_content": null,
            "_view_module": "@jupyter-widgets/base",
            "overflow": null,
            "_model_module_version": "1.2.0",
            "_view_count": null,
            "flex_flow": null,
            "width": null,
            "min_width": null,
            "border": null,
            "align_items": null,
            "bottom": null,
            "_model_module": "@jupyter-widgets/base",
            "top": null,
            "grid_column": null,
            "overflow_y": null,
            "overflow_x": null,
            "grid_auto_flow": null,
            "grid_area": null,
            "grid_template_columns": null,
            "flex": null,
            "_model_name": "LayoutModel",
            "justify_items": null,
            "grid_row": null,
            "max_height": null,
            "align_content": null,
            "visibility": null,
            "align_self": null,
            "height": null,
            "min_height": null,
            "padding": null,
            "grid_auto_rows": null,
            "grid_gap": null,
            "max_width": null,
            "order": null,
            "_view_module_version": "1.2.0",
            "grid_template_areas": null,
            "object_position": null,
            "object_fit": null,
            "grid_auto_columns": null,
            "margin": null,
            "display": null,
            "left": null
          }
        },
        "804ccfea2a984302bc989914d02888dc": {
          "model_module": "@jupyter-widgets/controls",
          "model_name": "FloatProgressModel",
          "state": {
            "_view_name": "ProgressView",
            "style": "IPY_MODEL_a7a9133e895e48789c1f614f6a89d54c",
            "_dom_classes": [],
            "description": "Downloading: 100%",
            "_model_name": "FloatProgressModel",
            "bar_style": "success",
            "max": 51,
            "_view_module": "@jupyter-widgets/controls",
            "_model_module_version": "1.5.0",
            "value": 51,
            "_view_count": null,
            "_view_module_version": "1.5.0",
            "orientation": "horizontal",
            "min": 0,
            "description_tooltip": null,
            "_model_module": "@jupyter-widgets/controls",
            "layout": "IPY_MODEL_9311e9d2e7e649039a25e2d4717f9ee2"
          }
        },
        "fa934beae0bf47a0a74e3c38864f87d1": {
          "model_module": "@jupyter-widgets/controls",
          "model_name": "HTMLModel",
          "state": {
            "_view_name": "HTMLView",
            "style": "IPY_MODEL_8c4b07a7caaf4932a451a5540c4a1984",
            "_dom_classes": [],
            "description": "",
            "_model_name": "HTMLModel",
            "placeholder": "​",
            "_view_module": "@jupyter-widgets/controls",
            "_model_module_version": "1.5.0",
            "value": " 51.0/51.0 [00:00&lt;00:00, 202B/s]",
            "_view_count": null,
            "_view_module_version": "1.5.0",
            "description_tooltip": null,
            "_model_module": "@jupyter-widgets/controls",
            "layout": "IPY_MODEL_7c2a888de9644fa3a633d669524f205b"
          }
        },
        "a7a9133e895e48789c1f614f6a89d54c": {
          "model_module": "@jupyter-widgets/controls",
          "model_name": "ProgressStyleModel",
          "state": {
            "_view_name": "StyleView",
            "_model_name": "ProgressStyleModel",
            "description_width": "initial",
            "_view_module": "@jupyter-widgets/base",
            "_model_module_version": "1.5.0",
            "_view_count": null,
            "_view_module_version": "1.2.0",
            "bar_color": null,
            "_model_module": "@jupyter-widgets/controls"
          }
        },
        "9311e9d2e7e649039a25e2d4717f9ee2": {
          "model_module": "@jupyter-widgets/base",
          "model_name": "LayoutModel",
          "state": {
            "_view_name": "LayoutView",
            "grid_template_rows": null,
            "right": null,
            "justify_content": null,
            "_view_module": "@jupyter-widgets/base",
            "overflow": null,
            "_model_module_version": "1.2.0",
            "_view_count": null,
            "flex_flow": null,
            "width": null,
            "min_width": null,
            "border": null,
            "align_items": null,
            "bottom": null,
            "_model_module": "@jupyter-widgets/base",
            "top": null,
            "grid_column": null,
            "overflow_y": null,
            "overflow_x": null,
            "grid_auto_flow": null,
            "grid_area": null,
            "grid_template_columns": null,
            "flex": null,
            "_model_name": "LayoutModel",
            "justify_items": null,
            "grid_row": null,
            "max_height": null,
            "align_content": null,
            "visibility": null,
            "align_self": null,
            "height": null,
            "min_height": null,
            "padding": null,
            "grid_auto_rows": null,
            "grid_gap": null,
            "max_width": null,
            "order": null,
            "_view_module_version": "1.2.0",
            "grid_template_areas": null,
            "object_position": null,
            "object_fit": null,
            "grid_auto_columns": null,
            "margin": null,
            "display": null,
            "left": null
          }
        },
        "8c4b07a7caaf4932a451a5540c4a1984": {
          "model_module": "@jupyter-widgets/controls",
          "model_name": "DescriptionStyleModel",
          "state": {
            "_view_name": "StyleView",
            "_model_name": "DescriptionStyleModel",
            "description_width": "",
            "_view_module": "@jupyter-widgets/base",
            "_model_module_version": "1.5.0",
            "_view_count": null,
            "_view_module_version": "1.2.0",
            "_model_module": "@jupyter-widgets/controls"
          }
        },
        "7c2a888de9644fa3a633d669524f205b": {
          "model_module": "@jupyter-widgets/base",
          "model_name": "LayoutModel",
          "state": {
            "_view_name": "LayoutView",
            "grid_template_rows": null,
            "right": null,
            "justify_content": null,
            "_view_module": "@jupyter-widgets/base",
            "overflow": null,
            "_model_module_version": "1.2.0",
            "_view_count": null,
            "flex_flow": null,
            "width": null,
            "min_width": null,
            "border": null,
            "align_items": null,
            "bottom": null,
            "_model_module": "@jupyter-widgets/base",
            "top": null,
            "grid_column": null,
            "overflow_y": null,
            "overflow_x": null,
            "grid_auto_flow": null,
            "grid_area": null,
            "grid_template_columns": null,
            "flex": null,
            "_model_name": "LayoutModel",
            "justify_items": null,
            "grid_row": null,
            "max_height": null,
            "align_content": null,
            "visibility": null,
            "align_self": null,
            "height": null,
            "min_height": null,
            "padding": null,
            "grid_auto_rows": null,
            "grid_gap": null,
            "max_width": null,
            "order": null,
            "_view_module_version": "1.2.0",
            "grid_template_areas": null,
            "object_position": null,
            "object_fit": null,
            "grid_auto_columns": null,
            "margin": null,
            "display": null,
            "left": null
          }
        },
        "a5ca6cf720c64dbf83438fea90986da7": {
          "model_module": "@jupyter-widgets/controls",
          "model_name": "HBoxModel",
          "state": {
            "_view_name": "HBoxView",
            "_dom_classes": [],
            "_model_name": "HBoxModel",
            "_view_module": "@jupyter-widgets/controls",
            "_model_module_version": "1.5.0",
            "_view_count": null,
            "_view_module_version": "1.5.0",
            "box_style": "",
            "layout": "IPY_MODEL_c918452f546b4b5086cdb3f51ff45017",
            "_model_module": "@jupyter-widgets/controls",
            "children": [
              "IPY_MODEL_b30c2500906c4ca6a23ccd8591515ac2",
              "IPY_MODEL_6ebc3400175542d6a64ce5066e57d53f"
            ]
          }
        },
        "c918452f546b4b5086cdb3f51ff45017": {
          "model_module": "@jupyter-widgets/base",
          "model_name": "LayoutModel",
          "state": {
            "_view_name": "LayoutView",
            "grid_template_rows": null,
            "right": null,
            "justify_content": null,
            "_view_module": "@jupyter-widgets/base",
            "overflow": null,
            "_model_module_version": "1.2.0",
            "_view_count": null,
            "flex_flow": null,
            "width": null,
            "min_width": null,
            "border": null,
            "align_items": null,
            "bottom": null,
            "_model_module": "@jupyter-widgets/base",
            "top": null,
            "grid_column": null,
            "overflow_y": null,
            "overflow_x": null,
            "grid_auto_flow": null,
            "grid_area": null,
            "grid_template_columns": null,
            "flex": null,
            "_model_name": "LayoutModel",
            "justify_items": null,
            "grid_row": null,
            "max_height": null,
            "align_content": null,
            "visibility": null,
            "align_self": null,
            "height": null,
            "min_height": null,
            "padding": null,
            "grid_auto_rows": null,
            "grid_gap": null,
            "max_width": null,
            "order": null,
            "_view_module_version": "1.2.0",
            "grid_template_areas": null,
            "object_position": null,
            "object_fit": null,
            "grid_auto_columns": null,
            "margin": null,
            "display": null,
            "left": null
          }
        },
        "b30c2500906c4ca6a23ccd8591515ac2": {
          "model_module": "@jupyter-widgets/controls",
          "model_name": "FloatProgressModel",
          "state": {
            "_view_name": "ProgressView",
            "style": "IPY_MODEL_ef752077e1d341f899682f70bbc052b3",
            "_dom_classes": [],
            "description": "Downloading: 100%",
            "_model_name": "FloatProgressModel",
            "bar_style": "success",
            "max": 263326,
            "_view_module": "@jupyter-widgets/controls",
            "_model_module_version": "1.5.0",
            "value": 263326,
            "_view_count": null,
            "_view_module_version": "1.5.0",
            "orientation": "horizontal",
            "min": 0,
            "description_tooltip": null,
            "_model_module": "@jupyter-widgets/controls",
            "layout": "IPY_MODEL_b6e62f0434614820838553fd9a50610c"
          }
        },
        "6ebc3400175542d6a64ce5066e57d53f": {
          "model_module": "@jupyter-widgets/controls",
          "model_name": "HTMLModel",
          "state": {
            "_view_name": "HTMLView",
            "style": "IPY_MODEL_62c3506cb84a4058be94ce275ddde619",
            "_dom_classes": [],
            "description": "",
            "_model_name": "HTMLModel",
            "placeholder": "​",
            "_view_module": "@jupyter-widgets/controls",
            "_model_module_version": "1.5.0",
            "value": " 263k/263k [00:01&lt;00:00, 199kB/s]",
            "_view_count": null,
            "_view_module_version": "1.5.0",
            "description_tooltip": null,
            "_model_module": "@jupyter-widgets/controls",
            "layout": "IPY_MODEL_9f1a39483d684c95a16a1fb60f6cda90"
          }
        },
        "ef752077e1d341f899682f70bbc052b3": {
          "model_module": "@jupyter-widgets/controls",
          "model_name": "ProgressStyleModel",
          "state": {
            "_view_name": "StyleView",
            "_model_name": "ProgressStyleModel",
            "description_width": "initial",
            "_view_module": "@jupyter-widgets/base",
            "_model_module_version": "1.5.0",
            "_view_count": null,
            "_view_module_version": "1.2.0",
            "bar_color": null,
            "_model_module": "@jupyter-widgets/controls"
          }
        },
        "b6e62f0434614820838553fd9a50610c": {
          "model_module": "@jupyter-widgets/base",
          "model_name": "LayoutModel",
          "state": {
            "_view_name": "LayoutView",
            "grid_template_rows": null,
            "right": null,
            "justify_content": null,
            "_view_module": "@jupyter-widgets/base",
            "overflow": null,
            "_model_module_version": "1.2.0",
            "_view_count": null,
            "flex_flow": null,
            "width": null,
            "min_width": null,
            "border": null,
            "align_items": null,
            "bottom": null,
            "_model_module": "@jupyter-widgets/base",
            "top": null,
            "grid_column": null,
            "overflow_y": null,
            "overflow_x": null,
            "grid_auto_flow": null,
            "grid_area": null,
            "grid_template_columns": null,
            "flex": null,
            "_model_name": "LayoutModel",
            "justify_items": null,
            "grid_row": null,
            "max_height": null,
            "align_content": null,
            "visibility": null,
            "align_self": null,
            "height": null,
            "min_height": null,
            "padding": null,
            "grid_auto_rows": null,
            "grid_gap": null,
            "max_width": null,
            "order": null,
            "_view_module_version": "1.2.0",
            "grid_template_areas": null,
            "object_position": null,
            "object_fit": null,
            "grid_auto_columns": null,
            "margin": null,
            "display": null,
            "left": null
          }
        },
        "62c3506cb84a4058be94ce275ddde619": {
          "model_module": "@jupyter-widgets/controls",
          "model_name": "DescriptionStyleModel",
          "state": {
            "_view_name": "StyleView",
            "_model_name": "DescriptionStyleModel",
            "description_width": "",
            "_view_module": "@jupyter-widgets/base",
            "_model_module_version": "1.5.0",
            "_view_count": null,
            "_view_module_version": "1.2.0",
            "_model_module": "@jupyter-widgets/controls"
          }
        },
        "9f1a39483d684c95a16a1fb60f6cda90": {
          "model_module": "@jupyter-widgets/base",
          "model_name": "LayoutModel",
          "state": {
            "_view_name": "LayoutView",
            "grid_template_rows": null,
            "right": null,
            "justify_content": null,
            "_view_module": "@jupyter-widgets/base",
            "overflow": null,
            "_model_module_version": "1.2.0",
            "_view_count": null,
            "flex_flow": null,
            "width": null,
            "min_width": null,
            "border": null,
            "align_items": null,
            "bottom": null,
            "_model_module": "@jupyter-widgets/base",
            "top": null,
            "grid_column": null,
            "overflow_y": null,
            "overflow_x": null,
            "grid_auto_flow": null,
            "grid_area": null,
            "grid_template_columns": null,
            "flex": null,
            "_model_name": "LayoutModel",
            "justify_items": null,
            "grid_row": null,
            "max_height": null,
            "align_content": null,
            "visibility": null,
            "align_self": null,
            "height": null,
            "min_height": null,
            "padding": null,
            "grid_auto_rows": null,
            "grid_gap": null,
            "max_width": null,
            "order": null,
            "_view_module_version": "1.2.0",
            "grid_template_areas": null,
            "object_position": null,
            "object_fit": null,
            "grid_auto_columns": null,
            "margin": null,
            "display": null,
            "left": null
          }
        },
        "bcf7a925528445419dd20f2af9d90f1d": {
          "model_module": "@jupyter-widgets/controls",
          "model_name": "HBoxModel",
          "state": {
            "_view_name": "HBoxView",
            "_dom_classes": [],
            "_model_name": "HBoxModel",
            "_view_module": "@jupyter-widgets/controls",
            "_model_module_version": "1.5.0",
            "_view_count": null,
            "_view_module_version": "1.5.0",
            "box_style": "",
            "layout": "IPY_MODEL_7c4740ad0ee248e5b0f5c725fbb78fdf",
            "_model_module": "@jupyter-widgets/controls",
            "children": [
              "IPY_MODEL_ec0aaccdc1074b8ab6c9aca8c8ce33d4",
              "IPY_MODEL_7e90e22117f44ad2868293f706ca0cdc"
            ]
          }
        },
        "7c4740ad0ee248e5b0f5c725fbb78fdf": {
          "model_module": "@jupyter-widgets/base",
          "model_name": "LayoutModel",
          "state": {
            "_view_name": "LayoutView",
            "grid_template_rows": null,
            "right": null,
            "justify_content": null,
            "_view_module": "@jupyter-widgets/base",
            "overflow": null,
            "_model_module_version": "1.2.0",
            "_view_count": null,
            "flex_flow": null,
            "width": null,
            "min_width": null,
            "border": null,
            "align_items": null,
            "bottom": null,
            "_model_module": "@jupyter-widgets/base",
            "top": null,
            "grid_column": null,
            "overflow_y": null,
            "overflow_x": null,
            "grid_auto_flow": null,
            "grid_area": null,
            "grid_template_columns": null,
            "flex": null,
            "_model_name": "LayoutModel",
            "justify_items": null,
            "grid_row": null,
            "max_height": null,
            "align_content": null,
            "visibility": null,
            "align_self": null,
            "height": null,
            "min_height": null,
            "padding": null,
            "grid_auto_rows": null,
            "grid_gap": null,
            "max_width": null,
            "order": null,
            "_view_module_version": "1.2.0",
            "grid_template_areas": null,
            "object_position": null,
            "object_fit": null,
            "grid_auto_columns": null,
            "margin": null,
            "display": null,
            "left": null
          }
        },
        "ec0aaccdc1074b8ab6c9aca8c8ce33d4": {
          "model_module": "@jupyter-widgets/controls",
          "model_name": "FloatProgressModel",
          "state": {
            "_view_name": "ProgressView",
            "style": "IPY_MODEL_eb855278560841d291c703614212c92b",
            "_dom_classes": [],
            "description": "Downloading: 100%",
            "_model_name": "FloatProgressModel",
            "bar_style": "success",
            "max": 61,
            "_view_module": "@jupyter-widgets/controls",
            "_model_module_version": "1.5.0",
            "value": 61,
            "_view_count": null,
            "_view_module_version": "1.5.0",
            "orientation": "horizontal",
            "min": 0,
            "description_tooltip": null,
            "_model_module": "@jupyter-widgets/controls",
            "layout": "IPY_MODEL_5e2d0d8e52a8442f960faff24d834e76"
          }
        },
        "7e90e22117f44ad2868293f706ca0cdc": {
          "model_module": "@jupyter-widgets/controls",
          "model_name": "HTMLModel",
          "state": {
            "_view_name": "HTMLView",
            "style": "IPY_MODEL_d85d698b8b094ea7a2e5b45a5479f0e4",
            "_dom_classes": [],
            "description": "",
            "_model_name": "HTMLModel",
            "placeholder": "​",
            "_view_module": "@jupyter-widgets/controls",
            "_model_module_version": "1.5.0",
            "value": " 61.0/61.0 [00:00&lt;00:00, 228B/s]",
            "_view_count": null,
            "_view_module_version": "1.5.0",
            "description_tooltip": null,
            "_model_module": "@jupyter-widgets/controls",
            "layout": "IPY_MODEL_dd26de32ddde4280877010df5ca47384"
          }
        },
        "eb855278560841d291c703614212c92b": {
          "model_module": "@jupyter-widgets/controls",
          "model_name": "ProgressStyleModel",
          "state": {
            "_view_name": "StyleView",
            "_model_name": "ProgressStyleModel",
            "description_width": "initial",
            "_view_module": "@jupyter-widgets/base",
            "_model_module_version": "1.5.0",
            "_view_count": null,
            "_view_module_version": "1.2.0",
            "bar_color": null,
            "_model_module": "@jupyter-widgets/controls"
          }
        },
        "5e2d0d8e52a8442f960faff24d834e76": {
          "model_module": "@jupyter-widgets/base",
          "model_name": "LayoutModel",
          "state": {
            "_view_name": "LayoutView",
            "grid_template_rows": null,
            "right": null,
            "justify_content": null,
            "_view_module": "@jupyter-widgets/base",
            "overflow": null,
            "_model_module_version": "1.2.0",
            "_view_count": null,
            "flex_flow": null,
            "width": null,
            "min_width": null,
            "border": null,
            "align_items": null,
            "bottom": null,
            "_model_module": "@jupyter-widgets/base",
            "top": null,
            "grid_column": null,
            "overflow_y": null,
            "overflow_x": null,
            "grid_auto_flow": null,
            "grid_area": null,
            "grid_template_columns": null,
            "flex": null,
            "_model_name": "LayoutModel",
            "justify_items": null,
            "grid_row": null,
            "max_height": null,
            "align_content": null,
            "visibility": null,
            "align_self": null,
            "height": null,
            "min_height": null,
            "padding": null,
            "grid_auto_rows": null,
            "grid_gap": null,
            "max_width": null,
            "order": null,
            "_view_module_version": "1.2.0",
            "grid_template_areas": null,
            "object_position": null,
            "object_fit": null,
            "grid_auto_columns": null,
            "margin": null,
            "display": null,
            "left": null
          }
        },
        "d85d698b8b094ea7a2e5b45a5479f0e4": {
          "model_module": "@jupyter-widgets/controls",
          "model_name": "DescriptionStyleModel",
          "state": {
            "_view_name": "StyleView",
            "_model_name": "DescriptionStyleModel",
            "description_width": "",
            "_view_module": "@jupyter-widgets/base",
            "_model_module_version": "1.5.0",
            "_view_count": null,
            "_view_module_version": "1.2.0",
            "_model_module": "@jupyter-widgets/controls"
          }
        },
        "dd26de32ddde4280877010df5ca47384": {
          "model_module": "@jupyter-widgets/base",
          "model_name": "LayoutModel",
          "state": {
            "_view_name": "LayoutView",
            "grid_template_rows": null,
            "right": null,
            "justify_content": null,
            "_view_module": "@jupyter-widgets/base",
            "overflow": null,
            "_model_module_version": "1.2.0",
            "_view_count": null,
            "flex_flow": null,
            "width": null,
            "min_width": null,
            "border": null,
            "align_items": null,
            "bottom": null,
            "_model_module": "@jupyter-widgets/base",
            "top": null,
            "grid_column": null,
            "overflow_y": null,
            "overflow_x": null,
            "grid_auto_flow": null,
            "grid_area": null,
            "grid_template_columns": null,
            "flex": null,
            "_model_name": "LayoutModel",
            "justify_items": null,
            "grid_row": null,
            "max_height": null,
            "align_content": null,
            "visibility": null,
            "align_self": null,
            "height": null,
            "min_height": null,
            "padding": null,
            "grid_auto_rows": null,
            "grid_gap": null,
            "max_width": null,
            "order": null,
            "_view_module_version": "1.2.0",
            "grid_template_areas": null,
            "object_position": null,
            "object_fit": null,
            "grid_auto_columns": null,
            "margin": null,
            "display": null,
            "left": null
          }
        },
        "1e1f6a0b06694d6aafda3a0044987671": {
          "model_module": "@jupyter-widgets/controls",
          "model_name": "HBoxModel",
          "state": {
            "_view_name": "HBoxView",
            "_dom_classes": [],
            "_model_name": "HBoxModel",
            "_view_module": "@jupyter-widgets/controls",
            "_model_module_version": "1.5.0",
            "_view_count": null,
            "_view_module_version": "1.5.0",
            "box_style": "",
            "layout": "IPY_MODEL_896d4cff718d43858eef66eb3459cc27",
            "_model_module": "@jupyter-widgets/controls",
            "children": [
              "IPY_MODEL_1651529b24ed4eceb4e0a4d8cc959e9e",
              "IPY_MODEL_90b84352c8f2449e830b16e33c08619a"
            ]
          }
        },
        "896d4cff718d43858eef66eb3459cc27": {
          "model_module": "@jupyter-widgets/base",
          "model_name": "LayoutModel",
          "state": {
            "_view_name": "LayoutView",
            "grid_template_rows": null,
            "right": null,
            "justify_content": null,
            "_view_module": "@jupyter-widgets/base",
            "overflow": null,
            "_model_module_version": "1.2.0",
            "_view_count": null,
            "flex_flow": null,
            "width": null,
            "min_width": null,
            "border": null,
            "align_items": null,
            "bottom": null,
            "_model_module": "@jupyter-widgets/base",
            "top": null,
            "grid_column": null,
            "overflow_y": null,
            "overflow_x": null,
            "grid_auto_flow": null,
            "grid_area": null,
            "grid_template_columns": null,
            "flex": null,
            "_model_name": "LayoutModel",
            "justify_items": null,
            "grid_row": null,
            "max_height": null,
            "align_content": null,
            "visibility": null,
            "align_self": null,
            "height": null,
            "min_height": null,
            "padding": null,
            "grid_auto_rows": null,
            "grid_gap": null,
            "max_width": null,
            "order": null,
            "_view_module_version": "1.2.0",
            "grid_template_areas": null,
            "object_position": null,
            "object_fit": null,
            "grid_auto_columns": null,
            "margin": null,
            "display": null,
            "left": null
          }
        },
        "1651529b24ed4eceb4e0a4d8cc959e9e": {
          "model_module": "@jupyter-widgets/controls",
          "model_name": "FloatProgressModel",
          "state": {
            "_view_name": "ProgressView",
            "style": "IPY_MODEL_b9c78cfbb39b41309320358ee96f9ff7",
            "_dom_classes": [],
            "description": "Downloading: 100%",
            "_model_name": "FloatProgressModel",
            "bar_style": "success",
            "max": 433,
            "_view_module": "@jupyter-widgets/controls",
            "_model_module_version": "1.5.0",
            "value": 433,
            "_view_count": null,
            "_view_module_version": "1.5.0",
            "orientation": "horizontal",
            "min": 0,
            "description_tooltip": null,
            "_model_module": "@jupyter-widgets/controls",
            "layout": "IPY_MODEL_e73df62439b44d26a735784da4d0d06d"
          }
        },
        "90b84352c8f2449e830b16e33c08619a": {
          "model_module": "@jupyter-widgets/controls",
          "model_name": "HTMLModel",
          "state": {
            "_view_name": "HTMLView",
            "style": "IPY_MODEL_ceea49bb81e3435588ee548a5b562074",
            "_dom_classes": [],
            "description": "",
            "_model_name": "HTMLModel",
            "placeholder": "​",
            "_view_module": "@jupyter-widgets/controls",
            "_model_module_version": "1.5.0",
            "value": " 433/433 [00:00&lt;00:00, 887B/s]",
            "_view_count": null,
            "_view_module_version": "1.5.0",
            "description_tooltip": null,
            "_model_module": "@jupyter-widgets/controls",
            "layout": "IPY_MODEL_272ae003039e4b1db67497369b9b21a4"
          }
        },
        "b9c78cfbb39b41309320358ee96f9ff7": {
          "model_module": "@jupyter-widgets/controls",
          "model_name": "ProgressStyleModel",
          "state": {
            "_view_name": "StyleView",
            "_model_name": "ProgressStyleModel",
            "description_width": "initial",
            "_view_module": "@jupyter-widgets/base",
            "_model_module_version": "1.5.0",
            "_view_count": null,
            "_view_module_version": "1.2.0",
            "bar_color": null,
            "_model_module": "@jupyter-widgets/controls"
          }
        },
        "e73df62439b44d26a735784da4d0d06d": {
          "model_module": "@jupyter-widgets/base",
          "model_name": "LayoutModel",
          "state": {
            "_view_name": "LayoutView",
            "grid_template_rows": null,
            "right": null,
            "justify_content": null,
            "_view_module": "@jupyter-widgets/base",
            "overflow": null,
            "_model_module_version": "1.2.0",
            "_view_count": null,
            "flex_flow": null,
            "width": null,
            "min_width": null,
            "border": null,
            "align_items": null,
            "bottom": null,
            "_model_module": "@jupyter-widgets/base",
            "top": null,
            "grid_column": null,
            "overflow_y": null,
            "overflow_x": null,
            "grid_auto_flow": null,
            "grid_area": null,
            "grid_template_columns": null,
            "flex": null,
            "_model_name": "LayoutModel",
            "justify_items": null,
            "grid_row": null,
            "max_height": null,
            "align_content": null,
            "visibility": null,
            "align_self": null,
            "height": null,
            "min_height": null,
            "padding": null,
            "grid_auto_rows": null,
            "grid_gap": null,
            "max_width": null,
            "order": null,
            "_view_module_version": "1.2.0",
            "grid_template_areas": null,
            "object_position": null,
            "object_fit": null,
            "grid_auto_columns": null,
            "margin": null,
            "display": null,
            "left": null
          }
        },
        "ceea49bb81e3435588ee548a5b562074": {
          "model_module": "@jupyter-widgets/controls",
          "model_name": "DescriptionStyleModel",
          "state": {
            "_view_name": "StyleView",
            "_model_name": "DescriptionStyleModel",
            "description_width": "",
            "_view_module": "@jupyter-widgets/base",
            "_model_module_version": "1.5.0",
            "_view_count": null,
            "_view_module_version": "1.2.0",
            "_model_module": "@jupyter-widgets/controls"
          }
        },
        "272ae003039e4b1db67497369b9b21a4": {
          "model_module": "@jupyter-widgets/base",
          "model_name": "LayoutModel",
          "state": {
            "_view_name": "LayoutView",
            "grid_template_rows": null,
            "right": null,
            "justify_content": null,
            "_view_module": "@jupyter-widgets/base",
            "overflow": null,
            "_model_module_version": "1.2.0",
            "_view_count": null,
            "flex_flow": null,
            "width": null,
            "min_width": null,
            "border": null,
            "align_items": null,
            "bottom": null,
            "_model_module": "@jupyter-widgets/base",
            "top": null,
            "grid_column": null,
            "overflow_y": null,
            "overflow_x": null,
            "grid_auto_flow": null,
            "grid_area": null,
            "grid_template_columns": null,
            "flex": null,
            "_model_name": "LayoutModel",
            "justify_items": null,
            "grid_row": null,
            "max_height": null,
            "align_content": null,
            "visibility": null,
            "align_self": null,
            "height": null,
            "min_height": null,
            "padding": null,
            "grid_auto_rows": null,
            "grid_gap": null,
            "max_width": null,
            "order": null,
            "_view_module_version": "1.2.0",
            "grid_template_areas": null,
            "object_position": null,
            "object_fit": null,
            "grid_auto_columns": null,
            "margin": null,
            "display": null,
            "left": null
          }
        },
        "69fcfe5228cc46559cce00809e4c85e6": {
          "model_module": "@jupyter-widgets/controls",
          "model_name": "HBoxModel",
          "state": {
            "_view_name": "HBoxView",
            "_dom_classes": [],
            "_model_name": "HBoxModel",
            "_view_module": "@jupyter-widgets/controls",
            "_model_module_version": "1.5.0",
            "_view_count": null,
            "_view_module_version": "1.5.0",
            "box_style": "",
            "layout": "IPY_MODEL_ff8cfd43c9c14f919782aa4eb331bdd4",
            "_model_module": "@jupyter-widgets/controls",
            "children": [
              "IPY_MODEL_1160bf008f6e44619b4b6f33632e31dd",
              "IPY_MODEL_40b671eb118a438396c58960f444cd56"
            ]
          }
        },
        "ff8cfd43c9c14f919782aa4eb331bdd4": {
          "model_module": "@jupyter-widgets/base",
          "model_name": "LayoutModel",
          "state": {
            "_view_name": "LayoutView",
            "grid_template_rows": null,
            "right": null,
            "justify_content": null,
            "_view_module": "@jupyter-widgets/base",
            "overflow": null,
            "_model_module_version": "1.2.0",
            "_view_count": null,
            "flex_flow": null,
            "width": null,
            "min_width": null,
            "border": null,
            "align_items": null,
            "bottom": null,
            "_model_module": "@jupyter-widgets/base",
            "top": null,
            "grid_column": null,
            "overflow_y": null,
            "overflow_x": null,
            "grid_auto_flow": null,
            "grid_area": null,
            "grid_template_columns": null,
            "flex": null,
            "_model_name": "LayoutModel",
            "justify_items": null,
            "grid_row": null,
            "max_height": null,
            "align_content": null,
            "visibility": null,
            "align_self": null,
            "height": null,
            "min_height": null,
            "padding": null,
            "grid_auto_rows": null,
            "grid_gap": null,
            "max_width": null,
            "order": null,
            "_view_module_version": "1.2.0",
            "grid_template_areas": null,
            "object_position": null,
            "object_fit": null,
            "grid_auto_columns": null,
            "margin": null,
            "display": null,
            "left": null
          }
        },
        "1160bf008f6e44619b4b6f33632e31dd": {
          "model_module": "@jupyter-widgets/controls",
          "model_name": "FloatProgressModel",
          "state": {
            "_view_name": "ProgressView",
            "style": "IPY_MODEL_fb33047473b54348927cc273db5cdfe6",
            "_dom_classes": [],
            "description": "Downloading: 100%",
            "_model_name": "FloatProgressModel",
            "bar_style": "success",
            "max": 440473133,
            "_view_module": "@jupyter-widgets/controls",
            "_model_module_version": "1.5.0",
            "value": 440473133,
            "_view_count": null,
            "_view_module_version": "1.5.0",
            "orientation": "horizontal",
            "min": 0,
            "description_tooltip": null,
            "_model_module": "@jupyter-widgets/controls",
            "layout": "IPY_MODEL_ae2bdd8d8b894d17a7fa32400595bf53"
          }
        },
        "40b671eb118a438396c58960f444cd56": {
          "model_module": "@jupyter-widgets/controls",
          "model_name": "HTMLModel",
          "state": {
            "_view_name": "HTMLView",
            "style": "IPY_MODEL_7980a00a98d640d480497baeb337d844",
            "_dom_classes": [],
            "description": "",
            "_model_name": "HTMLModel",
            "placeholder": "​",
            "_view_module": "@jupyter-widgets/controls",
            "_model_module_version": "1.5.0",
            "value": " 440M/440M [00:12&lt;00:00, 36.5MB/s]",
            "_view_count": null,
            "_view_module_version": "1.5.0",
            "description_tooltip": null,
            "_model_module": "@jupyter-widgets/controls",
            "layout": "IPY_MODEL_74043b4c372d4a119d33bb91e13dc48c"
          }
        },
        "fb33047473b54348927cc273db5cdfe6": {
          "model_module": "@jupyter-widgets/controls",
          "model_name": "ProgressStyleModel",
          "state": {
            "_view_name": "StyleView",
            "_model_name": "ProgressStyleModel",
            "description_width": "initial",
            "_view_module": "@jupyter-widgets/base",
            "_model_module_version": "1.5.0",
            "_view_count": null,
            "_view_module_version": "1.2.0",
            "bar_color": null,
            "_model_module": "@jupyter-widgets/controls"
          }
        },
        "ae2bdd8d8b894d17a7fa32400595bf53": {
          "model_module": "@jupyter-widgets/base",
          "model_name": "LayoutModel",
          "state": {
            "_view_name": "LayoutView",
            "grid_template_rows": null,
            "right": null,
            "justify_content": null,
            "_view_module": "@jupyter-widgets/base",
            "overflow": null,
            "_model_module_version": "1.2.0",
            "_view_count": null,
            "flex_flow": null,
            "width": null,
            "min_width": null,
            "border": null,
            "align_items": null,
            "bottom": null,
            "_model_module": "@jupyter-widgets/base",
            "top": null,
            "grid_column": null,
            "overflow_y": null,
            "overflow_x": null,
            "grid_auto_flow": null,
            "grid_area": null,
            "grid_template_columns": null,
            "flex": null,
            "_model_name": "LayoutModel",
            "justify_items": null,
            "grid_row": null,
            "max_height": null,
            "align_content": null,
            "visibility": null,
            "align_self": null,
            "height": null,
            "min_height": null,
            "padding": null,
            "grid_auto_rows": null,
            "grid_gap": null,
            "max_width": null,
            "order": null,
            "_view_module_version": "1.2.0",
            "grid_template_areas": null,
            "object_position": null,
            "object_fit": null,
            "grid_auto_columns": null,
            "margin": null,
            "display": null,
            "left": null
          }
        },
        "7980a00a98d640d480497baeb337d844": {
          "model_module": "@jupyter-widgets/controls",
          "model_name": "DescriptionStyleModel",
          "state": {
            "_view_name": "StyleView",
            "_model_name": "DescriptionStyleModel",
            "description_width": "",
            "_view_module": "@jupyter-widgets/base",
            "_model_module_version": "1.5.0",
            "_view_count": null,
            "_view_module_version": "1.2.0",
            "_model_module": "@jupyter-widgets/controls"
          }
        },
        "74043b4c372d4a119d33bb91e13dc48c": {
          "model_module": "@jupyter-widgets/base",
          "model_name": "LayoutModel",
          "state": {
            "_view_name": "LayoutView",
            "grid_template_rows": null,
            "right": null,
            "justify_content": null,
            "_view_module": "@jupyter-widgets/base",
            "overflow": null,
            "_model_module_version": "1.2.0",
            "_view_count": null,
            "flex_flow": null,
            "width": null,
            "min_width": null,
            "border": null,
            "align_items": null,
            "bottom": null,
            "_model_module": "@jupyter-widgets/base",
            "top": null,
            "grid_column": null,
            "overflow_y": null,
            "overflow_x": null,
            "grid_auto_flow": null,
            "grid_area": null,
            "grid_template_columns": null,
            "flex": null,
            "_model_name": "LayoutModel",
            "justify_items": null,
            "grid_row": null,
            "max_height": null,
            "align_content": null,
            "visibility": null,
            "align_self": null,
            "height": null,
            "min_height": null,
            "padding": null,
            "grid_auto_rows": null,
            "grid_gap": null,
            "max_width": null,
            "order": null,
            "_view_module_version": "1.2.0",
            "grid_template_areas": null,
            "object_position": null,
            "object_fit": null,
            "grid_auto_columns": null,
            "margin": null,
            "display": null,
            "left": null
          }
        },
        "5b7b0c2c1d5d456e8f55cec959ba8b4f": {
          "model_module": "@jupyter-widgets/controls",
          "model_name": "HBoxModel",
          "state": {
            "_view_name": "HBoxView",
            "_dom_classes": [],
            "_model_name": "HBoxModel",
            "_view_module": "@jupyter-widgets/controls",
            "_model_module_version": "1.5.0",
            "_view_count": null,
            "_view_module_version": "1.5.0",
            "box_style": "",
            "layout": "IPY_MODEL_1dc177627a2e4e79bd72caf11a695a4d",
            "_model_module": "@jupyter-widgets/controls",
            "children": [
              "IPY_MODEL_cde722d6bf4b48969afc27d1acdae34a",
              "IPY_MODEL_2ea1863ed6af4ac7aae28f14227ccfeb"
            ]
          }
        },
        "1dc177627a2e4e79bd72caf11a695a4d": {
          "model_module": "@jupyter-widgets/base",
          "model_name": "LayoutModel",
          "state": {
            "_view_name": "LayoutView",
            "grid_template_rows": null,
            "right": null,
            "justify_content": null,
            "_view_module": "@jupyter-widgets/base",
            "overflow": null,
            "_model_module_version": "1.2.0",
            "_view_count": null,
            "flex_flow": null,
            "width": null,
            "min_width": null,
            "border": null,
            "align_items": null,
            "bottom": null,
            "_model_module": "@jupyter-widgets/base",
            "top": null,
            "grid_column": null,
            "overflow_y": null,
            "overflow_x": null,
            "grid_auto_flow": null,
            "grid_area": null,
            "grid_template_columns": null,
            "flex": null,
            "_model_name": "LayoutModel",
            "justify_items": null,
            "grid_row": null,
            "max_height": null,
            "align_content": null,
            "visibility": null,
            "align_self": null,
            "height": null,
            "min_height": null,
            "padding": null,
            "grid_auto_rows": null,
            "grid_gap": null,
            "max_width": null,
            "order": null,
            "_view_module_version": "1.2.0",
            "grid_template_areas": null,
            "object_position": null,
            "object_fit": null,
            "grid_auto_columns": null,
            "margin": null,
            "display": null,
            "left": null
          }
        },
        "cde722d6bf4b48969afc27d1acdae34a": {
          "model_module": "@jupyter-widgets/controls",
          "model_name": "FloatProgressModel",
          "state": {
            "_view_name": "ProgressView",
            "style": "IPY_MODEL_94dd2e0fbb734d9188f71e8910f9c104",
            "_dom_classes": [],
            "description": "Downloading: 100%",
            "_model_name": "FloatProgressModel",
            "bar_style": "success",
            "max": 438218004,
            "_view_module": "@jupyter-widgets/controls",
            "_model_module_version": "1.5.0",
            "value": 438218004,
            "_view_count": null,
            "_view_module_version": "1.5.0",
            "orientation": "horizontal",
            "min": 0,
            "description_tooltip": null,
            "_model_module": "@jupyter-widgets/controls",
            "layout": "IPY_MODEL_3993d2d8d75c48f4901a8ab01d94ae67"
          }
        },
        "2ea1863ed6af4ac7aae28f14227ccfeb": {
          "model_module": "@jupyter-widgets/controls",
          "model_name": "HTMLModel",
          "state": {
            "_view_name": "HTMLView",
            "style": "IPY_MODEL_617d614bbbae4800bd2edc302eaf7922",
            "_dom_classes": [],
            "description": "",
            "_model_name": "HTMLModel",
            "placeholder": "​",
            "_view_module": "@jupyter-widgets/controls",
            "_model_module_version": "1.5.0",
            "value": " 438M/438M [00:13&lt;00:00, 33.7MB/s]",
            "_view_count": null,
            "_view_module_version": "1.5.0",
            "description_tooltip": null,
            "_model_module": "@jupyter-widgets/controls",
            "layout": "IPY_MODEL_a22bd20e9d7e4876b2d9770ae9e6b51d"
          }
        },
        "94dd2e0fbb734d9188f71e8910f9c104": {
          "model_module": "@jupyter-widgets/controls",
          "model_name": "ProgressStyleModel",
          "state": {
            "_view_name": "StyleView",
            "_model_name": "ProgressStyleModel",
            "description_width": "initial",
            "_view_module": "@jupyter-widgets/base",
            "_model_module_version": "1.5.0",
            "_view_count": null,
            "_view_module_version": "1.2.0",
            "bar_color": null,
            "_model_module": "@jupyter-widgets/controls"
          }
        },
        "3993d2d8d75c48f4901a8ab01d94ae67": {
          "model_module": "@jupyter-widgets/base",
          "model_name": "LayoutModel",
          "state": {
            "_view_name": "LayoutView",
            "grid_template_rows": null,
            "right": null,
            "justify_content": null,
            "_view_module": "@jupyter-widgets/base",
            "overflow": null,
            "_model_module_version": "1.2.0",
            "_view_count": null,
            "flex_flow": null,
            "width": null,
            "min_width": null,
            "border": null,
            "align_items": null,
            "bottom": null,
            "_model_module": "@jupyter-widgets/base",
            "top": null,
            "grid_column": null,
            "overflow_y": null,
            "overflow_x": null,
            "grid_auto_flow": null,
            "grid_area": null,
            "grid_template_columns": null,
            "flex": null,
            "_model_name": "LayoutModel",
            "justify_items": null,
            "grid_row": null,
            "max_height": null,
            "align_content": null,
            "visibility": null,
            "align_self": null,
            "height": null,
            "min_height": null,
            "padding": null,
            "grid_auto_rows": null,
            "grid_gap": null,
            "max_width": null,
            "order": null,
            "_view_module_version": "1.2.0",
            "grid_template_areas": null,
            "object_position": null,
            "object_fit": null,
            "grid_auto_columns": null,
            "margin": null,
            "display": null,
            "left": null
          }
        },
        "617d614bbbae4800bd2edc302eaf7922": {
          "model_module": "@jupyter-widgets/controls",
          "model_name": "DescriptionStyleModel",
          "state": {
            "_view_name": "StyleView",
            "_model_name": "DescriptionStyleModel",
            "description_width": "",
            "_view_module": "@jupyter-widgets/base",
            "_model_module_version": "1.5.0",
            "_view_count": null,
            "_view_module_version": "1.2.0",
            "_model_module": "@jupyter-widgets/controls"
          }
        },
        "a22bd20e9d7e4876b2d9770ae9e6b51d": {
          "model_module": "@jupyter-widgets/base",
          "model_name": "LayoutModel",
          "state": {
            "_view_name": "LayoutView",
            "grid_template_rows": null,
            "right": null,
            "justify_content": null,
            "_view_module": "@jupyter-widgets/base",
            "overflow": null,
            "_model_module_version": "1.2.0",
            "_view_count": null,
            "flex_flow": null,
            "width": null,
            "min_width": null,
            "border": null,
            "align_items": null,
            "bottom": null,
            "_model_module": "@jupyter-widgets/base",
            "top": null,
            "grid_column": null,
            "overflow_y": null,
            "overflow_x": null,
            "grid_auto_flow": null,
            "grid_area": null,
            "grid_template_columns": null,
            "flex": null,
            "_model_name": "LayoutModel",
            "justify_items": null,
            "grid_row": null,
            "max_height": null,
            "align_content": null,
            "visibility": null,
            "align_self": null,
            "height": null,
            "min_height": null,
            "padding": null,
            "grid_auto_rows": null,
            "grid_gap": null,
            "max_width": null,
            "order": null,
            "_view_module_version": "1.2.0",
            "grid_template_areas": null,
            "object_position": null,
            "object_fit": null,
            "grid_auto_columns": null,
            "margin": null,
            "display": null,
            "left": null
          }
        },
        "a3dd7e399b45470e8cea8cd837bc86b1": {
          "model_module": "@jupyter-widgets/controls",
          "model_name": "HBoxModel",
          "state": {
            "_view_name": "HBoxView",
            "_dom_classes": [],
            "_model_name": "HBoxModel",
            "_view_module": "@jupyter-widgets/controls",
            "_model_module_version": "1.5.0",
            "_view_count": null,
            "_view_module_version": "1.5.0",
            "box_style": "",
            "layout": "IPY_MODEL_2a5068001a0a4db7aa8acdd8a4ac4ec0",
            "_model_module": "@jupyter-widgets/controls",
            "children": [
              "IPY_MODEL_1ed30a601bf1498e932c058f2466ea71",
              "IPY_MODEL_b2b0b6a69f6c4d81a0b871136e43bb0a"
            ]
          }
        },
        "2a5068001a0a4db7aa8acdd8a4ac4ec0": {
          "model_module": "@jupyter-widgets/base",
          "model_name": "LayoutModel",
          "state": {
            "_view_name": "LayoutView",
            "grid_template_rows": null,
            "right": null,
            "justify_content": null,
            "_view_module": "@jupyter-widgets/base",
            "overflow": null,
            "_model_module_version": "1.2.0",
            "_view_count": null,
            "flex_flow": null,
            "width": null,
            "min_width": null,
            "border": null,
            "align_items": null,
            "bottom": null,
            "_model_module": "@jupyter-widgets/base",
            "top": null,
            "grid_column": null,
            "overflow_y": null,
            "overflow_x": null,
            "grid_auto_flow": null,
            "grid_area": null,
            "grid_template_columns": null,
            "flex": null,
            "_model_name": "LayoutModel",
            "justify_items": null,
            "grid_row": null,
            "max_height": null,
            "align_content": null,
            "visibility": null,
            "align_self": null,
            "height": null,
            "min_height": null,
            "padding": null,
            "grid_auto_rows": null,
            "grid_gap": null,
            "max_width": null,
            "order": null,
            "_view_module_version": "1.2.0",
            "grid_template_areas": null,
            "object_position": null,
            "object_fit": null,
            "grid_auto_columns": null,
            "margin": null,
            "display": null,
            "left": null
          }
        },
        "1ed30a601bf1498e932c058f2466ea71": {
          "model_module": "@jupyter-widgets/controls",
          "model_name": "FloatProgressModel",
          "state": {
            "_view_name": "ProgressView",
            "style": "IPY_MODEL_dcc24f9d9e0544fabbad8b72bbaf675b",
            "_dom_classes": [],
            "description": "Downloading: 100%",
            "_model_name": "FloatProgressModel",
            "bar_style": "success",
            "max": 426,
            "_view_module": "@jupyter-widgets/controls",
            "_model_module_version": "1.5.0",
            "value": 426,
            "_view_count": null,
            "_view_module_version": "1.5.0",
            "orientation": "horizontal",
            "min": 0,
            "description_tooltip": null,
            "_model_module": "@jupyter-widgets/controls",
            "layout": "IPY_MODEL_8e9dba465527425c8b7b24efa939b0e8"
          }
        },
        "b2b0b6a69f6c4d81a0b871136e43bb0a": {
          "model_module": "@jupyter-widgets/controls",
          "model_name": "HTMLModel",
          "state": {
            "_view_name": "HTMLView",
            "style": "IPY_MODEL_b485561307dc437e9fce16582890336a",
            "_dom_classes": [],
            "description": "",
            "_model_name": "HTMLModel",
            "placeholder": "​",
            "_view_module": "@jupyter-widgets/controls",
            "_model_module_version": "1.5.0",
            "value": " 426/426 [00:00&lt;00:00, 1.77kB/s]",
            "_view_count": null,
            "_view_module_version": "1.5.0",
            "description_tooltip": null,
            "_model_module": "@jupyter-widgets/controls",
            "layout": "IPY_MODEL_be072d753301451badab7a79c2831a7a"
          }
        },
        "dcc24f9d9e0544fabbad8b72bbaf675b": {
          "model_module": "@jupyter-widgets/controls",
          "model_name": "ProgressStyleModel",
          "state": {
            "_view_name": "StyleView",
            "_model_name": "ProgressStyleModel",
            "description_width": "initial",
            "_view_module": "@jupyter-widgets/base",
            "_model_module_version": "1.5.0",
            "_view_count": null,
            "_view_module_version": "1.2.0",
            "bar_color": null,
            "_model_module": "@jupyter-widgets/controls"
          }
        },
        "8e9dba465527425c8b7b24efa939b0e8": {
          "model_module": "@jupyter-widgets/base",
          "model_name": "LayoutModel",
          "state": {
            "_view_name": "LayoutView",
            "grid_template_rows": null,
            "right": null,
            "justify_content": null,
            "_view_module": "@jupyter-widgets/base",
            "overflow": null,
            "_model_module_version": "1.2.0",
            "_view_count": null,
            "flex_flow": null,
            "width": null,
            "min_width": null,
            "border": null,
            "align_items": null,
            "bottom": null,
            "_model_module": "@jupyter-widgets/base",
            "top": null,
            "grid_column": null,
            "overflow_y": null,
            "overflow_x": null,
            "grid_auto_flow": null,
            "grid_area": null,
            "grid_template_columns": null,
            "flex": null,
            "_model_name": "LayoutModel",
            "justify_items": null,
            "grid_row": null,
            "max_height": null,
            "align_content": null,
            "visibility": null,
            "align_self": null,
            "height": null,
            "min_height": null,
            "padding": null,
            "grid_auto_rows": null,
            "grid_gap": null,
            "max_width": null,
            "order": null,
            "_view_module_version": "1.2.0",
            "grid_template_areas": null,
            "object_position": null,
            "object_fit": null,
            "grid_auto_columns": null,
            "margin": null,
            "display": null,
            "left": null
          }
        },
        "b485561307dc437e9fce16582890336a": {
          "model_module": "@jupyter-widgets/controls",
          "model_name": "DescriptionStyleModel",
          "state": {
            "_view_name": "StyleView",
            "_model_name": "DescriptionStyleModel",
            "description_width": "",
            "_view_module": "@jupyter-widgets/base",
            "_model_module_version": "1.5.0",
            "_view_count": null,
            "_view_module_version": "1.2.0",
            "_model_module": "@jupyter-widgets/controls"
          }
        },
        "be072d753301451badab7a79c2831a7a": {
          "model_module": "@jupyter-widgets/base",
          "model_name": "LayoutModel",
          "state": {
            "_view_name": "LayoutView",
            "grid_template_rows": null,
            "right": null,
            "justify_content": null,
            "_view_module": "@jupyter-widgets/base",
            "overflow": null,
            "_model_module_version": "1.2.0",
            "_view_count": null,
            "flex_flow": null,
            "width": null,
            "min_width": null,
            "border": null,
            "align_items": null,
            "bottom": null,
            "_model_module": "@jupyter-widgets/base",
            "top": null,
            "grid_column": null,
            "overflow_y": null,
            "overflow_x": null,
            "grid_auto_flow": null,
            "grid_area": null,
            "grid_template_columns": null,
            "flex": null,
            "_model_name": "LayoutModel",
            "justify_items": null,
            "grid_row": null,
            "max_height": null,
            "align_content": null,
            "visibility": null,
            "align_self": null,
            "height": null,
            "min_height": null,
            "padding": null,
            "grid_auto_rows": null,
            "grid_gap": null,
            "max_width": null,
            "order": null,
            "_view_module_version": "1.2.0",
            "grid_template_areas": null,
            "object_position": null,
            "object_fit": null,
            "grid_auto_columns": null,
            "margin": null,
            "display": null,
            "left": null
          }
        },
        "f74aeb1152f942e4b00d0aecf904a12b": {
          "model_module": "@jupyter-widgets/controls",
          "model_name": "HBoxModel",
          "state": {
            "_view_name": "HBoxView",
            "_dom_classes": [],
            "_model_name": "HBoxModel",
            "_view_module": "@jupyter-widgets/controls",
            "_model_module_version": "1.5.0",
            "_view_count": null,
            "_view_module_version": "1.5.0",
            "box_style": "",
            "layout": "IPY_MODEL_1858a93c61fb4cefaea55c518bcb8e75",
            "_model_module": "@jupyter-widgets/controls",
            "children": [
              "IPY_MODEL_818ac9a034fc4eb98af90388a321b028",
              "IPY_MODEL_17703dab17e54bf5b9860ac8897463fc"
            ]
          }
        },
        "1858a93c61fb4cefaea55c518bcb8e75": {
          "model_module": "@jupyter-widgets/base",
          "model_name": "LayoutModel",
          "state": {
            "_view_name": "LayoutView",
            "grid_template_rows": null,
            "right": null,
            "justify_content": null,
            "_view_module": "@jupyter-widgets/base",
            "overflow": null,
            "_model_module_version": "1.2.0",
            "_view_count": null,
            "flex_flow": null,
            "width": null,
            "min_width": null,
            "border": null,
            "align_items": null,
            "bottom": null,
            "_model_module": "@jupyter-widgets/base",
            "top": null,
            "grid_column": null,
            "overflow_y": null,
            "overflow_x": null,
            "grid_auto_flow": null,
            "grid_area": null,
            "grid_template_columns": null,
            "flex": null,
            "_model_name": "LayoutModel",
            "justify_items": null,
            "grid_row": null,
            "max_height": null,
            "align_content": null,
            "visibility": null,
            "align_self": null,
            "height": null,
            "min_height": null,
            "padding": null,
            "grid_auto_rows": null,
            "grid_gap": null,
            "max_width": null,
            "order": null,
            "_view_module_version": "1.2.0",
            "grid_template_areas": null,
            "object_position": null,
            "object_fit": null,
            "grid_auto_columns": null,
            "margin": null,
            "display": null,
            "left": null
          }
        },
        "818ac9a034fc4eb98af90388a321b028": {
          "model_module": "@jupyter-widgets/controls",
          "model_name": "FloatProgressModel",
          "state": {
            "_view_name": "ProgressView",
            "style": "IPY_MODEL_ef4698e824624cc3bc37666e9980e3a5",
            "_dom_classes": [],
            "description": "Downloading: 100%",
            "_model_name": "FloatProgressModel",
            "bar_style": "success",
            "max": 368792146,
            "_view_module": "@jupyter-widgets/controls",
            "_model_module_version": "1.5.0",
            "value": 368792146,
            "_view_count": null,
            "_view_module_version": "1.5.0",
            "orientation": "horizontal",
            "min": 0,
            "description_tooltip": null,
            "_model_module": "@jupyter-widgets/controls",
            "layout": "IPY_MODEL_4962dbbd9b1541639fffed9146bba9af"
          }
        },
        "17703dab17e54bf5b9860ac8897463fc": {
          "model_module": "@jupyter-widgets/controls",
          "model_name": "HTMLModel",
          "state": {
            "_view_name": "HTMLView",
            "style": "IPY_MODEL_702fe5f056d248f8adea206c94a58f3e",
            "_dom_classes": [],
            "description": "",
            "_model_name": "HTMLModel",
            "placeholder": "​",
            "_view_module": "@jupyter-widgets/controls",
            "_model_module_version": "1.5.0",
            "value": " 369M/369M [00:07&lt;00:00, 50.7MB/s]",
            "_view_count": null,
            "_view_module_version": "1.5.0",
            "description_tooltip": null,
            "_model_module": "@jupyter-widgets/controls",
            "layout": "IPY_MODEL_de7fcfef34414ad7b25d613d62e472cf"
          }
        },
        "ef4698e824624cc3bc37666e9980e3a5": {
          "model_module": "@jupyter-widgets/controls",
          "model_name": "ProgressStyleModel",
          "state": {
            "_view_name": "StyleView",
            "_model_name": "ProgressStyleModel",
            "description_width": "initial",
            "_view_module": "@jupyter-widgets/base",
            "_model_module_version": "1.5.0",
            "_view_count": null,
            "_view_module_version": "1.2.0",
            "bar_color": null,
            "_model_module": "@jupyter-widgets/controls"
          }
        },
        "4962dbbd9b1541639fffed9146bba9af": {
          "model_module": "@jupyter-widgets/base",
          "model_name": "LayoutModel",
          "state": {
            "_view_name": "LayoutView",
            "grid_template_rows": null,
            "right": null,
            "justify_content": null,
            "_view_module": "@jupyter-widgets/base",
            "overflow": null,
            "_model_module_version": "1.2.0",
            "_view_count": null,
            "flex_flow": null,
            "width": null,
            "min_width": null,
            "border": null,
            "align_items": null,
            "bottom": null,
            "_model_module": "@jupyter-widgets/base",
            "top": null,
            "grid_column": null,
            "overflow_y": null,
            "overflow_x": null,
            "grid_auto_flow": null,
            "grid_area": null,
            "grid_template_columns": null,
            "flex": null,
            "_model_name": "LayoutModel",
            "justify_items": null,
            "grid_row": null,
            "max_height": null,
            "align_content": null,
            "visibility": null,
            "align_self": null,
            "height": null,
            "min_height": null,
            "padding": null,
            "grid_auto_rows": null,
            "grid_gap": null,
            "max_width": null,
            "order": null,
            "_view_module_version": "1.2.0",
            "grid_template_areas": null,
            "object_position": null,
            "object_fit": null,
            "grid_auto_columns": null,
            "margin": null,
            "display": null,
            "left": null
          }
        },
        "702fe5f056d248f8adea206c94a58f3e": {
          "model_module": "@jupyter-widgets/controls",
          "model_name": "DescriptionStyleModel",
          "state": {
            "_view_name": "StyleView",
            "_model_name": "DescriptionStyleModel",
            "description_width": "",
            "_view_module": "@jupyter-widgets/base",
            "_model_module_version": "1.5.0",
            "_view_count": null,
            "_view_module_version": "1.2.0",
            "_model_module": "@jupyter-widgets/controls"
          }
        },
        "de7fcfef34414ad7b25d613d62e472cf": {
          "model_module": "@jupyter-widgets/base",
          "model_name": "LayoutModel",
          "state": {
            "_view_name": "LayoutView",
            "grid_template_rows": null,
            "right": null,
            "justify_content": null,
            "_view_module": "@jupyter-widgets/base",
            "overflow": null,
            "_model_module_version": "1.2.0",
            "_view_count": null,
            "flex_flow": null,
            "width": null,
            "min_width": null,
            "border": null,
            "align_items": null,
            "bottom": null,
            "_model_module": "@jupyter-widgets/base",
            "top": null,
            "grid_column": null,
            "overflow_y": null,
            "overflow_x": null,
            "grid_auto_flow": null,
            "grid_area": null,
            "grid_template_columns": null,
            "flex": null,
            "_model_name": "LayoutModel",
            "justify_items": null,
            "grid_row": null,
            "max_height": null,
            "align_content": null,
            "visibility": null,
            "align_self": null,
            "height": null,
            "min_height": null,
            "padding": null,
            "grid_auto_rows": null,
            "grid_gap": null,
            "max_width": null,
            "order": null,
            "_view_module_version": "1.2.0",
            "grid_template_areas": null,
            "object_position": null,
            "object_fit": null,
            "grid_auto_columns": null,
            "margin": null,
            "display": null,
            "left": null
          }
        },
        "48fd3df4373f497999e1c4b6620c98b7": {
          "model_module": "@jupyter-widgets/controls",
          "model_name": "HBoxModel",
          "state": {
            "_view_name": "HBoxView",
            "_dom_classes": [],
            "_model_name": "HBoxModel",
            "_view_module": "@jupyter-widgets/controls",
            "_model_module_version": "1.5.0",
            "_view_count": null,
            "_view_module_version": "1.5.0",
            "box_style": "",
            "layout": "IPY_MODEL_2f706b98b04747a089339d83c3e9985f",
            "_model_module": "@jupyter-widgets/controls",
            "children": [
              "IPY_MODEL_1927f2f7ed054748bcc4a25d40ecf6e1",
              "IPY_MODEL_95952213ebec43a09e8e52657819b0ae"
            ]
          }
        },
        "2f706b98b04747a089339d83c3e9985f": {
          "model_module": "@jupyter-widgets/base",
          "model_name": "LayoutModel",
          "state": {
            "_view_name": "LayoutView",
            "grid_template_rows": null,
            "right": null,
            "justify_content": null,
            "_view_module": "@jupyter-widgets/base",
            "overflow": null,
            "_model_module_version": "1.2.0",
            "_view_count": null,
            "flex_flow": null,
            "width": null,
            "min_width": null,
            "border": null,
            "align_items": null,
            "bottom": null,
            "_model_module": "@jupyter-widgets/base",
            "top": null,
            "grid_column": null,
            "overflow_y": null,
            "overflow_x": null,
            "grid_auto_flow": null,
            "grid_area": null,
            "grid_template_columns": null,
            "flex": null,
            "_model_name": "LayoutModel",
            "justify_items": null,
            "grid_row": null,
            "max_height": null,
            "align_content": null,
            "visibility": null,
            "align_self": null,
            "height": null,
            "min_height": null,
            "padding": null,
            "grid_auto_rows": null,
            "grid_gap": null,
            "max_width": null,
            "order": null,
            "_view_module_version": "1.2.0",
            "grid_template_areas": null,
            "object_position": null,
            "object_fit": null,
            "grid_auto_columns": null,
            "margin": null,
            "display": null,
            "left": null
          }
        },
        "1927f2f7ed054748bcc4a25d40ecf6e1": {
          "model_module": "@jupyter-widgets/controls",
          "model_name": "FloatProgressModel",
          "state": {
            "_view_name": "ProgressView",
            "style": "IPY_MODEL_0ad582b1a08046c9ae52a0ef8cffedc0",
            "_dom_classes": [],
            "description": "Downloading: 100%",
            "_model_name": "FloatProgressModel",
            "bar_style": "success",
            "max": 441,
            "_view_module": "@jupyter-widgets/controls",
            "_model_module_version": "1.5.0",
            "value": 441,
            "_view_count": null,
            "_view_module_version": "1.5.0",
            "orientation": "horizontal",
            "min": 0,
            "description_tooltip": null,
            "_model_module": "@jupyter-widgets/controls",
            "layout": "IPY_MODEL_2b1ca146d7dd455f967afce6432da0d8"
          }
        },
        "95952213ebec43a09e8e52657819b0ae": {
          "model_module": "@jupyter-widgets/controls",
          "model_name": "HTMLModel",
          "state": {
            "_view_name": "HTMLView",
            "style": "IPY_MODEL_bb0f057aca1e4e54889d5726c7927f0c",
            "_dom_classes": [],
            "description": "",
            "_model_name": "HTMLModel",
            "placeholder": "​",
            "_view_module": "@jupyter-widgets/controls",
            "_model_module_version": "1.5.0",
            "value": " 441/441 [00:09&lt;00:00, 46.0B/s]",
            "_view_count": null,
            "_view_module_version": "1.5.0",
            "description_tooltip": null,
            "_model_module": "@jupyter-widgets/controls",
            "layout": "IPY_MODEL_69dc648e93354646befd53e9af8c9c3c"
          }
        },
        "0ad582b1a08046c9ae52a0ef8cffedc0": {
          "model_module": "@jupyter-widgets/controls",
          "model_name": "ProgressStyleModel",
          "state": {
            "_view_name": "StyleView",
            "_model_name": "ProgressStyleModel",
            "description_width": "initial",
            "_view_module": "@jupyter-widgets/base",
            "_model_module_version": "1.5.0",
            "_view_count": null,
            "_view_module_version": "1.2.0",
            "bar_color": null,
            "_model_module": "@jupyter-widgets/controls"
          }
        },
        "2b1ca146d7dd455f967afce6432da0d8": {
          "model_module": "@jupyter-widgets/base",
          "model_name": "LayoutModel",
          "state": {
            "_view_name": "LayoutView",
            "grid_template_rows": null,
            "right": null,
            "justify_content": null,
            "_view_module": "@jupyter-widgets/base",
            "overflow": null,
            "_model_module_version": "1.2.0",
            "_view_count": null,
            "flex_flow": null,
            "width": null,
            "min_width": null,
            "border": null,
            "align_items": null,
            "bottom": null,
            "_model_module": "@jupyter-widgets/base",
            "top": null,
            "grid_column": null,
            "overflow_y": null,
            "overflow_x": null,
            "grid_auto_flow": null,
            "grid_area": null,
            "grid_template_columns": null,
            "flex": null,
            "_model_name": "LayoutModel",
            "justify_items": null,
            "grid_row": null,
            "max_height": null,
            "align_content": null,
            "visibility": null,
            "align_self": null,
            "height": null,
            "min_height": null,
            "padding": null,
            "grid_auto_rows": null,
            "grid_gap": null,
            "max_width": null,
            "order": null,
            "_view_module_version": "1.2.0",
            "grid_template_areas": null,
            "object_position": null,
            "object_fit": null,
            "grid_auto_columns": null,
            "margin": null,
            "display": null,
            "left": null
          }
        },
        "bb0f057aca1e4e54889d5726c7927f0c": {
          "model_module": "@jupyter-widgets/controls",
          "model_name": "DescriptionStyleModel",
          "state": {
            "_view_name": "StyleView",
            "_model_name": "DescriptionStyleModel",
            "description_width": "",
            "_view_module": "@jupyter-widgets/base",
            "_model_module_version": "1.5.0",
            "_view_count": null,
            "_view_module_version": "1.2.0",
            "_model_module": "@jupyter-widgets/controls"
          }
        },
        "69dc648e93354646befd53e9af8c9c3c": {
          "model_module": "@jupyter-widgets/base",
          "model_name": "LayoutModel",
          "state": {
            "_view_name": "LayoutView",
            "grid_template_rows": null,
            "right": null,
            "justify_content": null,
            "_view_module": "@jupyter-widgets/base",
            "overflow": null,
            "_model_module_version": "1.2.0",
            "_view_count": null,
            "flex_flow": null,
            "width": null,
            "min_width": null,
            "border": null,
            "align_items": null,
            "bottom": null,
            "_model_module": "@jupyter-widgets/base",
            "top": null,
            "grid_column": null,
            "overflow_y": null,
            "overflow_x": null,
            "grid_auto_flow": null,
            "grid_area": null,
            "grid_template_columns": null,
            "flex": null,
            "_model_name": "LayoutModel",
            "justify_items": null,
            "grid_row": null,
            "max_height": null,
            "align_content": null,
            "visibility": null,
            "align_self": null,
            "height": null,
            "min_height": null,
            "padding": null,
            "grid_auto_rows": null,
            "grid_gap": null,
            "max_width": null,
            "order": null,
            "_view_module_version": "1.2.0",
            "grid_template_areas": null,
            "object_position": null,
            "object_fit": null,
            "grid_auto_columns": null,
            "margin": null,
            "display": null,
            "left": null
          }
        },
        "0ec32d1391934ab0bdaa65480f230ac8": {
          "model_module": "@jupyter-widgets/controls",
          "model_name": "HBoxModel",
          "state": {
            "_view_name": "HBoxView",
            "_dom_classes": [],
            "_model_name": "HBoxModel",
            "_view_module": "@jupyter-widgets/controls",
            "_model_module_version": "1.5.0",
            "_view_count": null,
            "_view_module_version": "1.5.0",
            "box_style": "",
            "layout": "IPY_MODEL_3c7e460471ca4af9a10475dae2206ff0",
            "_model_module": "@jupyter-widgets/controls",
            "children": [
              "IPY_MODEL_a5217613ee674913a64e528d84cfc4bb",
              "IPY_MODEL_cff230a1eb7f45b885658d8bb7008249"
            ]
          }
        },
        "3c7e460471ca4af9a10475dae2206ff0": {
          "model_module": "@jupyter-widgets/base",
          "model_name": "LayoutModel",
          "state": {
            "_view_name": "LayoutView",
            "grid_template_rows": null,
            "right": null,
            "justify_content": null,
            "_view_module": "@jupyter-widgets/base",
            "overflow": null,
            "_model_module_version": "1.2.0",
            "_view_count": null,
            "flex_flow": null,
            "width": null,
            "min_width": null,
            "border": null,
            "align_items": null,
            "bottom": null,
            "_model_module": "@jupyter-widgets/base",
            "top": null,
            "grid_column": null,
            "overflow_y": null,
            "overflow_x": null,
            "grid_auto_flow": null,
            "grid_area": null,
            "grid_template_columns": null,
            "flex": null,
            "_model_name": "LayoutModel",
            "justify_items": null,
            "grid_row": null,
            "max_height": null,
            "align_content": null,
            "visibility": null,
            "align_self": null,
            "height": null,
            "min_height": null,
            "padding": null,
            "grid_auto_rows": null,
            "grid_gap": null,
            "max_width": null,
            "order": null,
            "_view_module_version": "1.2.0",
            "grid_template_areas": null,
            "object_position": null,
            "object_fit": null,
            "grid_auto_columns": null,
            "margin": null,
            "display": null,
            "left": null
          }
        },
        "a5217613ee674913a64e528d84cfc4bb": {
          "model_module": "@jupyter-widgets/controls",
          "model_name": "FloatProgressModel",
          "state": {
            "_view_name": "ProgressView",
            "style": "IPY_MODEL_2ca659dbfe2c439e9fad991844c6d153",
            "_dom_classes": [],
            "description": "Downloading: 100%",
            "_model_name": "FloatProgressModel",
            "bar_style": "success",
            "max": 113629967,
            "_view_module": "@jupyter-widgets/controls",
            "_model_module_version": "1.5.0",
            "value": 113629967,
            "_view_count": null,
            "_view_module_version": "1.5.0",
            "orientation": "horizontal",
            "min": 0,
            "description_tooltip": null,
            "_model_module": "@jupyter-widgets/controls",
            "layout": "IPY_MODEL_4a15e6c5b7df47e69ccb378be0e3d4a1"
          }
        },
        "cff230a1eb7f45b885658d8bb7008249": {
          "model_module": "@jupyter-widgets/controls",
          "model_name": "HTMLModel",
          "state": {
            "_view_name": "HTMLView",
            "style": "IPY_MODEL_9efd1f7771c446cb92a206337284bbd1",
            "_dom_classes": [],
            "description": "",
            "_model_name": "HTMLModel",
            "placeholder": "​",
            "_view_module": "@jupyter-widgets/controls",
            "_model_module_version": "1.5.0",
            "value": " 114M/114M [00:02&lt;00:00, 49.7MB/s]",
            "_view_count": null,
            "_view_module_version": "1.5.0",
            "description_tooltip": null,
            "_model_module": "@jupyter-widgets/controls",
            "layout": "IPY_MODEL_82cb7f7bb432430cae76d1eb0b8103e7"
          }
        },
        "2ca659dbfe2c439e9fad991844c6d153": {
          "model_module": "@jupyter-widgets/controls",
          "model_name": "ProgressStyleModel",
          "state": {
            "_view_name": "StyleView",
            "_model_name": "ProgressStyleModel",
            "description_width": "initial",
            "_view_module": "@jupyter-widgets/base",
            "_model_module_version": "1.5.0",
            "_view_count": null,
            "_view_module_version": "1.2.0",
            "bar_color": null,
            "_model_module": "@jupyter-widgets/controls"
          }
        },
        "4a15e6c5b7df47e69ccb378be0e3d4a1": {
          "model_module": "@jupyter-widgets/base",
          "model_name": "LayoutModel",
          "state": {
            "_view_name": "LayoutView",
            "grid_template_rows": null,
            "right": null,
            "justify_content": null,
            "_view_module": "@jupyter-widgets/base",
            "overflow": null,
            "_model_module_version": "1.2.0",
            "_view_count": null,
            "flex_flow": null,
            "width": null,
            "min_width": null,
            "border": null,
            "align_items": null,
            "bottom": null,
            "_model_module": "@jupyter-widgets/base",
            "top": null,
            "grid_column": null,
            "overflow_y": null,
            "overflow_x": null,
            "grid_auto_flow": null,
            "grid_area": null,
            "grid_template_columns": null,
            "flex": null,
            "_model_name": "LayoutModel",
            "justify_items": null,
            "grid_row": null,
            "max_height": null,
            "align_content": null,
            "visibility": null,
            "align_self": null,
            "height": null,
            "min_height": null,
            "padding": null,
            "grid_auto_rows": null,
            "grid_gap": null,
            "max_width": null,
            "order": null,
            "_view_module_version": "1.2.0",
            "grid_template_areas": null,
            "object_position": null,
            "object_fit": null,
            "grid_auto_columns": null,
            "margin": null,
            "display": null,
            "left": null
          }
        },
        "9efd1f7771c446cb92a206337284bbd1": {
          "model_module": "@jupyter-widgets/controls",
          "model_name": "DescriptionStyleModel",
          "state": {
            "_view_name": "StyleView",
            "_model_name": "DescriptionStyleModel",
            "description_width": "",
            "_view_module": "@jupyter-widgets/base",
            "_model_module_version": "1.5.0",
            "_view_count": null,
            "_view_module_version": "1.2.0",
            "_model_module": "@jupyter-widgets/controls"
          }
        },
        "82cb7f7bb432430cae76d1eb0b8103e7": {
          "model_module": "@jupyter-widgets/base",
          "model_name": "LayoutModel",
          "state": {
            "_view_name": "LayoutView",
            "grid_template_rows": null,
            "right": null,
            "justify_content": null,
            "_view_module": "@jupyter-widgets/base",
            "overflow": null,
            "_model_module_version": "1.2.0",
            "_view_count": null,
            "flex_flow": null,
            "width": null,
            "min_width": null,
            "border": null,
            "align_items": null,
            "bottom": null,
            "_model_module": "@jupyter-widgets/base",
            "top": null,
            "grid_column": null,
            "overflow_y": null,
            "overflow_x": null,
            "grid_auto_flow": null,
            "grid_area": null,
            "grid_template_columns": null,
            "flex": null,
            "_model_name": "LayoutModel",
            "justify_items": null,
            "grid_row": null,
            "max_height": null,
            "align_content": null,
            "visibility": null,
            "align_self": null,
            "height": null,
            "min_height": null,
            "padding": null,
            "grid_auto_rows": null,
            "grid_gap": null,
            "max_width": null,
            "order": null,
            "_view_module_version": "1.2.0",
            "grid_template_areas": null,
            "object_position": null,
            "object_fit": null,
            "grid_auto_columns": null,
            "margin": null,
            "display": null,
            "left": null
          }
        },
        "260a15f319eb4e479c3c640bc7926696": {
          "model_module": "@jupyter-widgets/controls",
          "model_name": "HBoxModel",
          "state": {
            "_view_name": "HBoxView",
            "_dom_classes": [],
            "_model_name": "HBoxModel",
            "_view_module": "@jupyter-widgets/controls",
            "_model_module_version": "1.5.0",
            "_view_count": null,
            "_view_module_version": "1.5.0",
            "box_style": "",
            "layout": "IPY_MODEL_b824962c50174b538253817aa6aa0e2d",
            "_model_module": "@jupyter-widgets/controls",
            "children": [
              "IPY_MODEL_fc00547c068f45058b16ee1a6df5255c",
              "IPY_MODEL_b1e7416e903e4557bdc6f84ee0cf08fb"
            ]
          }
        },
        "b824962c50174b538253817aa6aa0e2d": {
          "model_module": "@jupyter-widgets/base",
          "model_name": "LayoutModel",
          "state": {
            "_view_name": "LayoutView",
            "grid_template_rows": null,
            "right": null,
            "justify_content": null,
            "_view_module": "@jupyter-widgets/base",
            "overflow": null,
            "_model_module_version": "1.2.0",
            "_view_count": null,
            "flex_flow": null,
            "width": null,
            "min_width": null,
            "border": null,
            "align_items": null,
            "bottom": null,
            "_model_module": "@jupyter-widgets/base",
            "top": null,
            "grid_column": null,
            "overflow_y": null,
            "overflow_x": null,
            "grid_auto_flow": null,
            "grid_area": null,
            "grid_template_columns": null,
            "flex": null,
            "_model_name": "LayoutModel",
            "justify_items": null,
            "grid_row": null,
            "max_height": null,
            "align_content": null,
            "visibility": null,
            "align_self": null,
            "height": null,
            "min_height": null,
            "padding": null,
            "grid_auto_rows": null,
            "grid_gap": null,
            "max_width": null,
            "order": null,
            "_view_module_version": "1.2.0",
            "grid_template_areas": null,
            "object_position": null,
            "object_fit": null,
            "grid_auto_columns": null,
            "margin": null,
            "display": null,
            "left": null
          }
        },
        "fc00547c068f45058b16ee1a6df5255c": {
          "model_module": "@jupyter-widgets/controls",
          "model_name": "FloatProgressModel",
          "state": {
            "_view_name": "ProgressView",
            "style": "IPY_MODEL_613bcd1c5a8e465b9f68beba9c7615d3",
            "_dom_classes": [],
            "description": "Downloading: 100%",
            "_model_name": "FloatProgressModel",
            "bar_style": "success",
            "max": 467,
            "_view_module": "@jupyter-widgets/controls",
            "_model_module_version": "1.5.0",
            "value": 467,
            "_view_count": null,
            "_view_module_version": "1.5.0",
            "orientation": "horizontal",
            "min": 0,
            "description_tooltip": null,
            "_model_module": "@jupyter-widgets/controls",
            "layout": "IPY_MODEL_d7300bfd3df542c28ef95a9cfe546698"
          }
        },
        "b1e7416e903e4557bdc6f84ee0cf08fb": {
          "model_module": "@jupyter-widgets/controls",
          "model_name": "HTMLModel",
          "state": {
            "_view_name": "HTMLView",
            "style": "IPY_MODEL_41d0612aa3914958b18b4888539857b1",
            "_dom_classes": [],
            "description": "",
            "_model_name": "HTMLModel",
            "placeholder": "​",
            "_view_module": "@jupyter-widgets/controls",
            "_model_module_version": "1.5.0",
            "value": " 467/467 [00:01&lt;00:00, 239B/s]",
            "_view_count": null,
            "_view_module_version": "1.5.0",
            "description_tooltip": null,
            "_model_module": "@jupyter-widgets/controls",
            "layout": "IPY_MODEL_da854b6dd17249188a938804d8d40ec5"
          }
        },
        "613bcd1c5a8e465b9f68beba9c7615d3": {
          "model_module": "@jupyter-widgets/controls",
          "model_name": "ProgressStyleModel",
          "state": {
            "_view_name": "StyleView",
            "_model_name": "ProgressStyleModel",
            "description_width": "initial",
            "_view_module": "@jupyter-widgets/base",
            "_model_module_version": "1.5.0",
            "_view_count": null,
            "_view_module_version": "1.2.0",
            "bar_color": null,
            "_model_module": "@jupyter-widgets/controls"
          }
        },
        "d7300bfd3df542c28ef95a9cfe546698": {
          "model_module": "@jupyter-widgets/base",
          "model_name": "LayoutModel",
          "state": {
            "_view_name": "LayoutView",
            "grid_template_rows": null,
            "right": null,
            "justify_content": null,
            "_view_module": "@jupyter-widgets/base",
            "overflow": null,
            "_model_module_version": "1.2.0",
            "_view_count": null,
            "flex_flow": null,
            "width": null,
            "min_width": null,
            "border": null,
            "align_items": null,
            "bottom": null,
            "_model_module": "@jupyter-widgets/base",
            "top": null,
            "grid_column": null,
            "overflow_y": null,
            "overflow_x": null,
            "grid_auto_flow": null,
            "grid_area": null,
            "grid_template_columns": null,
            "flex": null,
            "_model_name": "LayoutModel",
            "justify_items": null,
            "grid_row": null,
            "max_height": null,
            "align_content": null,
            "visibility": null,
            "align_self": null,
            "height": null,
            "min_height": null,
            "padding": null,
            "grid_auto_rows": null,
            "grid_gap": null,
            "max_width": null,
            "order": null,
            "_view_module_version": "1.2.0",
            "grid_template_areas": null,
            "object_position": null,
            "object_fit": null,
            "grid_auto_columns": null,
            "margin": null,
            "display": null,
            "left": null
          }
        },
        "41d0612aa3914958b18b4888539857b1": {
          "model_module": "@jupyter-widgets/controls",
          "model_name": "DescriptionStyleModel",
          "state": {
            "_view_name": "StyleView",
            "_model_name": "DescriptionStyleModel",
            "description_width": "",
            "_view_module": "@jupyter-widgets/base",
            "_model_module_version": "1.5.0",
            "_view_count": null,
            "_view_module_version": "1.2.0",
            "_model_module": "@jupyter-widgets/controls"
          }
        },
        "da854b6dd17249188a938804d8d40ec5": {
          "model_module": "@jupyter-widgets/base",
          "model_name": "LayoutModel",
          "state": {
            "_view_name": "LayoutView",
            "grid_template_rows": null,
            "right": null,
            "justify_content": null,
            "_view_module": "@jupyter-widgets/base",
            "overflow": null,
            "_model_module_version": "1.2.0",
            "_view_count": null,
            "flex_flow": null,
            "width": null,
            "min_width": null,
            "border": null,
            "align_items": null,
            "bottom": null,
            "_model_module": "@jupyter-widgets/base",
            "top": null,
            "grid_column": null,
            "overflow_y": null,
            "overflow_x": null,
            "grid_auto_flow": null,
            "grid_area": null,
            "grid_template_columns": null,
            "flex": null,
            "_model_name": "LayoutModel",
            "justify_items": null,
            "grid_row": null,
            "max_height": null,
            "align_content": null,
            "visibility": null,
            "align_self": null,
            "height": null,
            "min_height": null,
            "padding": null,
            "grid_auto_rows": null,
            "grid_gap": null,
            "max_width": null,
            "order": null,
            "_view_module_version": "1.2.0",
            "grid_template_areas": null,
            "object_position": null,
            "object_fit": null,
            "grid_auto_columns": null,
            "margin": null,
            "display": null,
            "left": null
          }
        },
        "a71a09091fed42db8a6e8f026a912cfb": {
          "model_module": "@jupyter-widgets/controls",
          "model_name": "HBoxModel",
          "state": {
            "_view_name": "HBoxView",
            "_dom_classes": [],
            "_model_name": "HBoxModel",
            "_view_module": "@jupyter-widgets/controls",
            "_model_module_version": "1.5.0",
            "_view_count": null,
            "_view_module_version": "1.5.0",
            "box_style": "",
            "layout": "IPY_MODEL_8af0d48cb94c4aed9ce1edc5c37b594f",
            "_model_module": "@jupyter-widgets/controls",
            "children": [
              "IPY_MODEL_3b4ad28a33374e569ab6f2270f99d19a",
              "IPY_MODEL_3702c5a9c1344e2a979c3b54cdf0b983"
            ]
          }
        },
        "8af0d48cb94c4aed9ce1edc5c37b594f": {
          "model_module": "@jupyter-widgets/base",
          "model_name": "LayoutModel",
          "state": {
            "_view_name": "LayoutView",
            "grid_template_rows": null,
            "right": null,
            "justify_content": null,
            "_view_module": "@jupyter-widgets/base",
            "overflow": null,
            "_model_module_version": "1.2.0",
            "_view_count": null,
            "flex_flow": null,
            "width": null,
            "min_width": null,
            "border": null,
            "align_items": null,
            "bottom": null,
            "_model_module": "@jupyter-widgets/base",
            "top": null,
            "grid_column": null,
            "overflow_y": null,
            "overflow_x": null,
            "grid_auto_flow": null,
            "grid_area": null,
            "grid_template_columns": null,
            "flex": null,
            "_model_name": "LayoutModel",
            "justify_items": null,
            "grid_row": null,
            "max_height": null,
            "align_content": null,
            "visibility": null,
            "align_self": null,
            "height": null,
            "min_height": null,
            "padding": null,
            "grid_auto_rows": null,
            "grid_gap": null,
            "max_width": null,
            "order": null,
            "_view_module_version": "1.2.0",
            "grid_template_areas": null,
            "object_position": null,
            "object_fit": null,
            "grid_auto_columns": null,
            "margin": null,
            "display": null,
            "left": null
          }
        },
        "3b4ad28a33374e569ab6f2270f99d19a": {
          "model_module": "@jupyter-widgets/controls",
          "model_name": "FloatProgressModel",
          "state": {
            "_view_name": "ProgressView",
            "style": "IPY_MODEL_239968b992e948848c3f4a161cb1123e",
            "_dom_classes": [],
            "description": "Downloading: 100%",
            "_model_name": "FloatProgressModel",
            "bar_style": "success",
            "max": 451776329,
            "_view_module": "@jupyter-widgets/controls",
            "_model_module_version": "1.5.0",
            "value": 451776329,
            "_view_count": null,
            "_view_module_version": "1.5.0",
            "orientation": "horizontal",
            "min": 0,
            "description_tooltip": null,
            "_model_module": "@jupyter-widgets/controls",
            "layout": "IPY_MODEL_39ca4e5afcc649809c6d8352e7d6fa11"
          }
        },
        "3702c5a9c1344e2a979c3b54cdf0b983": {
          "model_module": "@jupyter-widgets/controls",
          "model_name": "HTMLModel",
          "state": {
            "_view_name": "HTMLView",
            "style": "IPY_MODEL_7a454cb416fb4f8a9a905383a3409ac6",
            "_dom_classes": [],
            "description": "",
            "_model_name": "HTMLModel",
            "placeholder": "​",
            "_view_module": "@jupyter-widgets/controls",
            "_model_module_version": "1.5.0",
            "value": " 452M/452M [01:03&lt;00:00, 7.13MB/s]",
            "_view_count": null,
            "_view_module_version": "1.5.0",
            "description_tooltip": null,
            "_model_module": "@jupyter-widgets/controls",
            "layout": "IPY_MODEL_09b820769def45d2b2c42a1245bef424"
          }
        },
        "239968b992e948848c3f4a161cb1123e": {
          "model_module": "@jupyter-widgets/controls",
          "model_name": "ProgressStyleModel",
          "state": {
            "_view_name": "StyleView",
            "_model_name": "ProgressStyleModel",
            "description_width": "initial",
            "_view_module": "@jupyter-widgets/base",
            "_model_module_version": "1.5.0",
            "_view_count": null,
            "_view_module_version": "1.2.0",
            "bar_color": null,
            "_model_module": "@jupyter-widgets/controls"
          }
        },
        "39ca4e5afcc649809c6d8352e7d6fa11": {
          "model_module": "@jupyter-widgets/base",
          "model_name": "LayoutModel",
          "state": {
            "_view_name": "LayoutView",
            "grid_template_rows": null,
            "right": null,
            "justify_content": null,
            "_view_module": "@jupyter-widgets/base",
            "overflow": null,
            "_model_module_version": "1.2.0",
            "_view_count": null,
            "flex_flow": null,
            "width": null,
            "min_width": null,
            "border": null,
            "align_items": null,
            "bottom": null,
            "_model_module": "@jupyter-widgets/base",
            "top": null,
            "grid_column": null,
            "overflow_y": null,
            "overflow_x": null,
            "grid_auto_flow": null,
            "grid_area": null,
            "grid_template_columns": null,
            "flex": null,
            "_model_name": "LayoutModel",
            "justify_items": null,
            "grid_row": null,
            "max_height": null,
            "align_content": null,
            "visibility": null,
            "align_self": null,
            "height": null,
            "min_height": null,
            "padding": null,
            "grid_auto_rows": null,
            "grid_gap": null,
            "max_width": null,
            "order": null,
            "_view_module_version": "1.2.0",
            "grid_template_areas": null,
            "object_position": null,
            "object_fit": null,
            "grid_auto_columns": null,
            "margin": null,
            "display": null,
            "left": null
          }
        },
        "7a454cb416fb4f8a9a905383a3409ac6": {
          "model_module": "@jupyter-widgets/controls",
          "model_name": "DescriptionStyleModel",
          "state": {
            "_view_name": "StyleView",
            "_model_name": "DescriptionStyleModel",
            "description_width": "",
            "_view_module": "@jupyter-widgets/base",
            "_model_module_version": "1.5.0",
            "_view_count": null,
            "_view_module_version": "1.2.0",
            "_model_module": "@jupyter-widgets/controls"
          }
        },
        "09b820769def45d2b2c42a1245bef424": {
          "model_module": "@jupyter-widgets/base",
          "model_name": "LayoutModel",
          "state": {
            "_view_name": "LayoutView",
            "grid_template_rows": null,
            "right": null,
            "justify_content": null,
            "_view_module": "@jupyter-widgets/base",
            "overflow": null,
            "_model_module_version": "1.2.0",
            "_view_count": null,
            "flex_flow": null,
            "width": null,
            "min_width": null,
            "border": null,
            "align_items": null,
            "bottom": null,
            "_model_module": "@jupyter-widgets/base",
            "top": null,
            "grid_column": null,
            "overflow_y": null,
            "overflow_x": null,
            "grid_auto_flow": null,
            "grid_area": null,
            "grid_template_columns": null,
            "flex": null,
            "_model_name": "LayoutModel",
            "justify_items": null,
            "grid_row": null,
            "max_height": null,
            "align_content": null,
            "visibility": null,
            "align_self": null,
            "height": null,
            "min_height": null,
            "padding": null,
            "grid_auto_rows": null,
            "grid_gap": null,
            "max_width": null,
            "order": null,
            "_view_module_version": "1.2.0",
            "grid_template_areas": null,
            "object_position": null,
            "object_fit": null,
            "grid_auto_columns": null,
            "margin": null,
            "display": null,
            "left": null
          }
        }
      }
    }
  },
  "cells": [
    {
      "cell_type": "markdown",
      "metadata": {
        "id": "tANCXDOxY-X1"
      },
      "source": [
        "# Korean BERT models on huggingface\n",
        "@hyyoka\n",
        "\n",
        "- bert-base-uncased\n",
        "- kobert\n",
        "- distilkobert\n",
        "- kcbert\n",
        "- hanbert"
      ]
    },
    {
      "cell_type": "markdown",
      "metadata": {
        "id": "ddgxVJQYlNPT"
      },
      "source": [
        "![스크린샷 2021-03-02 오후 3.16.29.png](data:image/png;base64,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)"
      ]
    },
    {
      "cell_type": "code",
      "metadata": {
        "colab": {
          "base_uri": "https://localhost:8080/"
        },
        "id": "BagIeFCxmRab",
        "outputId": "160bca2a-8f97-46b3-ed9a-c71475f2a7d9"
      },
      "source": [
        "!pip install transformers"
      ],
      "execution_count": null,
      "outputs": [
        {
          "output_type": "stream",
          "text": [
            "Collecting transformers\n",
            "\u001b[?25l  Downloading https://files.pythonhosted.org/packages/f9/54/5ca07ec9569d2f232f3166de5457b63943882f7950ddfcc887732fc7fb23/transformers-4.3.3-py3-none-any.whl (1.9MB)\n",
            "\u001b[K     |████████████████████████████████| 1.9MB 8.5MB/s \n",
            "\u001b[?25hRequirement already satisfied: requests in /usr/local/lib/python3.7/dist-packages (from transformers) (2.23.0)\n",
            "Requirement already satisfied: numpy>=1.17 in /usr/local/lib/python3.7/dist-packages (from transformers) (1.19.5)\n",
            "Collecting sacremoses\n",
            "\u001b[?25l  Downloading https://files.pythonhosted.org/packages/7d/34/09d19aff26edcc8eb2a01bed8e98f13a1537005d31e95233fd48216eed10/sacremoses-0.0.43.tar.gz (883kB)\n",
            "\u001b[K     |████████████████████████████████| 890kB 44.8MB/s \n",
            "\u001b[?25hRequirement already satisfied: tqdm>=4.27 in /usr/local/lib/python3.7/dist-packages (from transformers) (4.41.1)\n",
            "Requirement already satisfied: importlib-metadata; python_version < \"3.8\" in /usr/local/lib/python3.7/dist-packages (from transformers) (3.7.0)\n",
            "Collecting tokenizers<0.11,>=0.10.1\n",
            "\u001b[?25l  Downloading https://files.pythonhosted.org/packages/71/23/2ddc317b2121117bf34dd00f5b0de194158f2a44ee2bf5e47c7166878a97/tokenizers-0.10.1-cp37-cp37m-manylinux2010_x86_64.whl (3.2MB)\n",
            "\u001b[K     |████████████████████████████████| 3.2MB 42.8MB/s \n",
            "\u001b[?25hRequirement already satisfied: filelock in /usr/local/lib/python3.7/dist-packages (from transformers) (3.0.12)\n",
            "Requirement already satisfied: regex!=2019.12.17 in /usr/local/lib/python3.7/dist-packages (from transformers) (2019.12.20)\n",
            "Requirement already satisfied: packaging in /usr/local/lib/python3.7/dist-packages (from transformers) (20.9)\n",
            "Requirement already satisfied: certifi>=2017.4.17 in /usr/local/lib/python3.7/dist-packages (from requests->transformers) (2020.12.5)\n",
            "Requirement already satisfied: chardet<4,>=3.0.2 in /usr/local/lib/python3.7/dist-packages (from requests->transformers) (3.0.4)\n",
            "Requirement already satisfied: urllib3!=1.25.0,!=1.25.1,<1.26,>=1.21.1 in /usr/local/lib/python3.7/dist-packages (from requests->transformers) (1.24.3)\n",
            "Requirement already satisfied: idna<3,>=2.5 in /usr/local/lib/python3.7/dist-packages (from requests->transformers) (2.10)\n",
            "Requirement already satisfied: six in /usr/local/lib/python3.7/dist-packages (from sacremoses->transformers) (1.15.0)\n",
            "Requirement already satisfied: click in /usr/local/lib/python3.7/dist-packages (from sacremoses->transformers) (7.1.2)\n",
            "Requirement already satisfied: joblib in /usr/local/lib/python3.7/dist-packages (from sacremoses->transformers) (1.0.1)\n",
            "Requirement already satisfied: zipp>=0.5 in /usr/local/lib/python3.7/dist-packages (from importlib-metadata; python_version < \"3.8\"->transformers) (3.4.0)\n",
            "Requirement already satisfied: typing-extensions>=3.6.4; python_version < \"3.8\" in /usr/local/lib/python3.7/dist-packages (from importlib-metadata; python_version < \"3.8\"->transformers) (3.7.4.3)\n",
            "Requirement already satisfied: pyparsing>=2.0.2 in /usr/local/lib/python3.7/dist-packages (from packaging->transformers) (2.4.7)\n",
            "Building wheels for collected packages: sacremoses\n",
            "  Building wheel for sacremoses (setup.py) ... \u001b[?25l\u001b[?25hdone\n",
            "  Created wheel for sacremoses: filename=sacremoses-0.0.43-cp37-none-any.whl size=893262 sha256=e26beb680ab236c2b35f15b1a81af48843257e6574852dba79b40a1e5bfc11dd\n",
            "  Stored in directory: /root/.cache/pip/wheels/29/3c/fd/7ce5c3f0666dab31a50123635e6fb5e19ceb42ce38d4e58f45\n",
            "Successfully built sacremoses\n",
            "Installing collected packages: sacremoses, tokenizers, transformers\n",
            "Successfully installed sacremoses-0.0.43 tokenizers-0.10.1 transformers-4.3.3\n"
          ],
          "name": "stdout"
        }
      ]
    },
    {
      "cell_type": "code",
      "metadata": {
        "id": "FEZAZhnyZMeN"
      },
      "source": [
        "import torch\n",
        "import torch.nn as nn"
      ],
      "execution_count": null,
      "outputs": []
    },
    {
      "cell_type": "code",
      "metadata": {
        "colab": {
          "base_uri": "https://localhost:8080/"
        },
        "id": "I9kq_tCbg5nH",
        "outputId": "7cf8e4df-dcac-445a-98f9-449625a6d086"
      },
      "source": [
        "softmax = nn.Softmax()\n",
        "data = torch.randn(2, 5)\n",
        "d = softmax(data)\n",
        "sum(sum(d))"
      ],
      "execution_count": null,
      "outputs": [
        {
          "output_type": "stream",
          "text": [
            "/usr/local/lib/python3.7/dist-packages/ipykernel_launcher.py:3: UserWarning: Implicit dimension choice for softmax has been deprecated. Change the call to include dim=X as an argument.\n",
            "  This is separate from the ipykernel package so we can avoid doing imports until\n"
          ],
          "name": "stderr"
        },
        {
          "output_type": "execute_result",
          "data": {
            "text/plain": [
              "tensor(2.0000)"
            ]
          },
          "metadata": {
            "tags": []
          },
          "execution_count": 8
        }
      ]
    },
    {
      "cell_type": "markdown",
      "metadata": {
        "id": "CWhqGlQnZMzg"
      },
      "source": [
        "## Tokenizers"
      ]
    },
    {
      "cell_type": "code",
      "metadata": {
        "id": "FJoq73dfYsuO"
      },
      "source": [
        "from transformers import BertTokenizer, ElectraTokenizer"
      ],
      "execution_count": null,
      "outputs": []
    },
    {
      "cell_type": "code",
      "metadata": {
        "colab": {
          "base_uri": "https://localhost:8080/",
          "height": 66,
          "referenced_widgets": [
            "cf3fc377410a41f28991e902be89649d",
            "537c0871c06245c8b43e48ae103ac047",
            "20e2b418c70c4ce4b871691bd7c7d5fe",
            "bd5d6cb1097b436580e68fe9c6e7224b",
            "fa50d29d23be43c4bb7511aaec8045bc",
            "5131313135de4e40949385ecb273d414",
            "0cb8c97ff3614bac9a2d95e5b7253711",
            "612c05e50d12477d8c2d6c00c5fd172d"
          ]
        },
        "id": "PV65sPJoYsqw",
        "outputId": "dc47284e-dc0c-4c8b-9a16-c33599d4a1f2"
      },
      "source": [
        "# 구글 구축한 사전학습된 벡터\n",
        "tokenizer = BertTokenizer.from_pretrained(\n",
        "    \"bert-base-multilingual-uncased\", \n",
        "    do_lower_case=False,\n",
        ")"
      ],
      "execution_count": null,
      "outputs": [
        {
          "output_type": "display_data",
          "data": {
            "application/vnd.jupyter.widget-view+json": {
              "model_id": "cf3fc377410a41f28991e902be89649d",
              "version_minor": 0,
              "version_major": 2
            },
            "text/plain": [
              "HBox(children=(FloatProgress(value=0.0, description='Downloading', max=871891.0, style=ProgressStyle(descripti…"
            ]
          },
          "metadata": {
            "tags": []
          }
        },
        {
          "output_type": "stream",
          "text": [
            "\n"
          ],
          "name": "stdout"
        }
      ]
    },
    {
      "cell_type": "code",
      "metadata": {
        "colab": {
          "base_uri": "https://localhost:8080/",
          "height": 115,
          "referenced_widgets": [
            "49ddc44b0751476b83738db849da417b",
            "89a8cfc5d73d4862a9d97c39f44e6b7a",
            "3f8fb8f101af43ebabfcbf96038d898f",
            "40d846d0f420435c9ee42596c327488f",
            "4647cd374aec4eceaf331fac4e805387",
            "52fa8083626b4e21ad08ce7114d06cf9",
            "a4c3d120d2834a5f996fc88490aa0f78",
            "35780ee03a414a25a065e3af0c3937a7",
            "f0f6d070ce484c68bcd6776b95b0ca4b",
            "5027aed25f084130a88408fb30c98568",
            "023689eb24f44d469bfd8b7cc5b4a9a8",
            "2c5e01923f584a31af81cd8a5b503a3f",
            "18d67da58a094da4aa10dc6e0e3386bd",
            "2d5f957957ed4919bb9d796c9c4f782e",
            "eb045737823547438c1e68ffc3b1f18c",
            "0336667b222543528216cf081f592439"
          ]
        },
        "id": "1T7k0-HwYsnR",
        "outputId": "99eba8b0-352a-48d4-d78c-a5e5e446ce5a"
      },
      "source": [
        "# 이준범님이 구축한 사전학습된 벡터\n",
        "kc_tokenizer = BertTokenizer.from_pretrained(\n",
        "    \"beomi/kcbert-base\", \n",
        "    do_lower_case=False,\n",
        ")"
      ],
      "execution_count": null,
      "outputs": [
        {
          "output_type": "display_data",
          "data": {
            "application/vnd.jupyter.widget-view+json": {
              "model_id": "49ddc44b0751476b83738db849da417b",
              "version_minor": 0,
              "version_major": 2
            },
            "text/plain": [
              "HBox(children=(FloatProgress(value=0.0, description='Downloading', max=249928.0, style=ProgressStyle(descripti…"
            ]
          },
          "metadata": {
            "tags": []
          }
        },
        {
          "output_type": "stream",
          "text": [
            "\n"
          ],
          "name": "stdout"
        },
        {
          "output_type": "display_data",
          "data": {
            "application/vnd.jupyter.widget-view+json": {
              "model_id": "f0f6d070ce484c68bcd6776b95b0ca4b",
              "version_minor": 0,
              "version_major": 2
            },
            "text/plain": [
              "HBox(children=(FloatProgress(value=0.0, description='Downloading', max=49.0, style=ProgressStyle(description_w…"
            ]
          },
          "metadata": {
            "tags": []
          }
        },
        {
          "output_type": "stream",
          "text": [
            "\n"
          ],
          "name": "stdout"
        }
      ]
    },
    {
      "cell_type": "code",
      "metadata": {
        "colab": {
          "base_uri": "https://localhost:8080/",
          "height": 115,
          "referenced_widgets": [
            "a4179292abcb4525875e96fdbef738ce",
            "56e3831cc5804779ba6126753ef01cee",
            "b1820373940a4e5292b1887eee9d6019",
            "257d6a93f1c94254bf9fb4ca34eabab3",
            "dd138326b39641409b2a5c4f85756ded",
            "17f3dc6ba9df4370bcc9fbbc6ef0abe3",
            "a9e71f0c578c4bd3af15437d72e9486a",
            "b79f772aa366497da72fc0e4311ade2d",
            "5c7316b1870d46b7a0ee6760b12721d4",
            "bc620b59c58c4361b5a876cf479586fe",
            "804ccfea2a984302bc989914d02888dc",
            "fa934beae0bf47a0a74e3c38864f87d1",
            "a7a9133e895e48789c1f614f6a89d54c",
            "9311e9d2e7e649039a25e2d4717f9ee2",
            "8c4b07a7caaf4932a451a5540c4a1984",
            "7c2a888de9644fa3a633d669524f205b"
          ]
        },
        "id": "XVrLMXK7YwJf",
        "outputId": "10b7ab88-896e-46ec-f1d9-cf13446ab2c6"
      },
      "source": [
        "ko_tokenizer = BertTokenizer.from_pretrained(\n",
        "    \"monologg/kobert\", \n",
        "    do_lower_case=False,\n",
        ")"
      ],
      "execution_count": null,
      "outputs": [
        {
          "output_type": "display_data",
          "data": {
            "application/vnd.jupyter.widget-view+json": {
              "model_id": "a4179292abcb4525875e96fdbef738ce",
              "version_minor": 0,
              "version_major": 2
            },
            "text/plain": [
              "HBox(children=(FloatProgress(value=0.0, description='Downloading', max=77779.0, style=ProgressStyle(descriptio…"
            ]
          },
          "metadata": {
            "tags": []
          }
        },
        {
          "output_type": "stream",
          "text": [
            "\n"
          ],
          "name": "stdout"
        },
        {
          "output_type": "display_data",
          "data": {
            "application/vnd.jupyter.widget-view+json": {
              "model_id": "5c7316b1870d46b7a0ee6760b12721d4",
              "version_minor": 0,
              "version_major": 2
            },
            "text/plain": [
              "HBox(children=(FloatProgress(value=0.0, description='Downloading', max=51.0, style=ProgressStyle(description_w…"
            ]
          },
          "metadata": {
            "tags": []
          }
        },
        {
          "output_type": "stream",
          "text": [
            "\n"
          ],
          "name": "stdout"
        }
      ]
    },
    {
      "cell_type": "code",
      "metadata": {
        "colab": {
          "base_uri": "https://localhost:8080/",
          "height": 115,
          "referenced_widgets": [
            "a5ca6cf720c64dbf83438fea90986da7",
            "c918452f546b4b5086cdb3f51ff45017",
            "b30c2500906c4ca6a23ccd8591515ac2",
            "6ebc3400175542d6a64ce5066e57d53f",
            "ef752077e1d341f899682f70bbc052b3",
            "b6e62f0434614820838553fd9a50610c",
            "62c3506cb84a4058be94ce275ddde619",
            "9f1a39483d684c95a16a1fb60f6cda90",
            "bcf7a925528445419dd20f2af9d90f1d",
            "7c4740ad0ee248e5b0f5c725fbb78fdf",
            "ec0aaccdc1074b8ab6c9aca8c8ce33d4",
            "7e90e22117f44ad2868293f706ca0cdc",
            "eb855278560841d291c703614212c92b",
            "5e2d0d8e52a8442f960faff24d834e76",
            "d85d698b8b094ea7a2e5b45a5479f0e4",
            "dd26de32ddde4280877010df5ca47384"
          ]
        },
        "id": "g5wXH_SpmSFi",
        "outputId": "a06d4179-42e7-4a9d-ec96-d52b7f8e9b5e"
      },
      "source": [
        "elec_tokenizer = ElectraTokenizer.from_pretrained(\"monologg/koelectra-base-v3-discriminator\")"
      ],
      "execution_count": null,
      "outputs": [
        {
          "output_type": "display_data",
          "data": {
            "application/vnd.jupyter.widget-view+json": {
              "model_id": "a5ca6cf720c64dbf83438fea90986da7",
              "version_minor": 0,
              "version_major": 2
            },
            "text/plain": [
              "HBox(children=(FloatProgress(value=0.0, description='Downloading', max=263326.0, style=ProgressStyle(descripti…"
            ]
          },
          "metadata": {
            "tags": []
          }
        },
        {
          "output_type": "stream",
          "text": [
            "\n"
          ],
          "name": "stdout"
        },
        {
          "output_type": "display_data",
          "data": {
            "application/vnd.jupyter.widget-view+json": {
              "model_id": "bcf7a925528445419dd20f2af9d90f1d",
              "version_minor": 0,
              "version_major": 2
            },
            "text/plain": [
              "HBox(children=(FloatProgress(value=0.0, description='Downloading', max=61.0, style=ProgressStyle(description_w…"
            ]
          },
          "metadata": {
            "tags": []
          }
        },
        {
          "output_type": "stream",
          "text": [
            "\n"
          ],
          "name": "stdout"
        }
      ]
    },
    {
      "cell_type": "code",
      "metadata": {
        "id": "xlxekRXKZrV1"
      },
      "source": [
        "text = \"여자가 그러면 안되지.\""
      ],
      "execution_count": null,
      "outputs": []
    },
    {
      "cell_type": "code",
      "metadata": {
        "colab": {
          "base_uri": "https://localhost:8080/"
        },
        "id": "rwYDTP0VZuwC",
        "outputId": "5b6b977a-ee74-46b1-bcba-fb995fd4e569"
      },
      "source": [
        "tokenizer.tokenize(text)"
      ],
      "execution_count": null,
      "outputs": [
        {
          "output_type": "execute_result",
          "data": {
            "text/plain": [
              "['[UNK]', '[UNK]', '[UNK]', '.']"
            ]
          },
          "metadata": {
            "tags": []
          },
          "execution_count": 17
        }
      ]
    },
    {
      "cell_type": "code",
      "metadata": {
        "colab": {
          "base_uri": "https://localhost:8080/"
        },
        "id": "5pZoHU1HZ8Jr",
        "outputId": "f14d8690-3ddd-4347-e878-f9374f1ea0a4"
      },
      "source": [
        "kc_tokenizer.tokenize(text)"
      ],
      "execution_count": null,
      "outputs": [
        {
          "output_type": "execute_result",
          "data": {
            "text/plain": [
              "['여자가', '그러면', '안되지', '.']"
            ]
          },
          "metadata": {
            "tags": []
          },
          "execution_count": 18
        }
      ]
    },
    {
      "cell_type": "code",
      "metadata": {
        "colab": {
          "base_uri": "https://localhost:8080/"
        },
        "id": "GLWEl8nyZ-c_",
        "outputId": "f1d19dfc-c721-4c9a-a6e9-c97d6a556dee"
      },
      "source": [
        "ko_tokenizer.tokenize(text)"
      ],
      "execution_count": null,
      "outputs": [
        {
          "output_type": "execute_result",
          "data": {
            "text/plain": [
              "['[UNK]', '[UNK]', '[UNK]', '.']"
            ]
          },
          "metadata": {
            "tags": []
          },
          "execution_count": 19
        }
      ]
    },
    {
      "cell_type": "code",
      "metadata": {
        "colab": {
          "base_uri": "https://localhost:8080/"
        },
        "id": "jtkhIufbmXXX",
        "outputId": "fb6da352-2c30-42a2-d482-ce447c22a0e7"
      },
      "source": [
        "elec_tokenizer.tokenize(text)"
      ],
      "execution_count": null,
      "outputs": [
        {
          "output_type": "execute_result",
          "data": {
            "text/plain": [
              "['여자', '##가', '그러', '##면', '안', '##되', '##지', '.']"
            ]
          },
          "metadata": {
            "tags": []
          },
          "execution_count": 20
        }
      ]
    },
    {
      "cell_type": "markdown",
      "metadata": {
        "id": "fiUUw4EHmCNn"
      },
      "source": [
        "## Multilingual BERT-base"
      ]
    },
    {
      "cell_type": "code",
      "metadata": {
        "colab": {
          "base_uri": "https://localhost:8080/",
          "height": 220,
          "referenced_widgets": [
            "1e1f6a0b06694d6aafda3a0044987671",
            "896d4cff718d43858eef66eb3459cc27",
            "1651529b24ed4eceb4e0a4d8cc959e9e",
            "90b84352c8f2449e830b16e33c08619a",
            "b9c78cfbb39b41309320358ee96f9ff7",
            "e73df62439b44d26a735784da4d0d06d",
            "ceea49bb81e3435588ee548a5b562074",
            "272ae003039e4b1db67497369b9b21a4",
            "69fcfe5228cc46559cce00809e4c85e6",
            "ff8cfd43c9c14f919782aa4eb331bdd4",
            "1160bf008f6e44619b4b6f33632e31dd",
            "40b671eb118a438396c58960f444cd56",
            "fb33047473b54348927cc273db5cdfe6",
            "ae2bdd8d8b894d17a7fa32400595bf53",
            "7980a00a98d640d480497baeb337d844",
            "74043b4c372d4a119d33bb91e13dc48c"
          ]
        },
        "id": "s5wWdJOsmBgM",
        "outputId": "a37d2825-39cf-4996-a1b8-610855423518"
      },
      "source": [
        "from transformers import BertForSequenceClassification\n",
        "\n",
        "\n",
        "model = BertForSequenceClassification.from_pretrained(\"bert-base-uncased\", num_labels=2)\n",
        "encoded_input = elec_tokenizer(text, return_tensors='pt')\n",
        "output = model(**encoded_input)"
      ],
      "execution_count": null,
      "outputs": [
        {
          "output_type": "display_data",
          "data": {
            "application/vnd.jupyter.widget-view+json": {
              "model_id": "1e1f6a0b06694d6aafda3a0044987671",
              "version_minor": 0,
              "version_major": 2
            },
            "text/plain": [
              "HBox(children=(FloatProgress(value=0.0, description='Downloading', max=433.0, style=ProgressStyle(description_…"
            ]
          },
          "metadata": {
            "tags": []
          }
        },
        {
          "output_type": "stream",
          "text": [
            "\n"
          ],
          "name": "stdout"
        },
        {
          "output_type": "display_data",
          "data": {
            "application/vnd.jupyter.widget-view+json": {
              "model_id": "69fcfe5228cc46559cce00809e4c85e6",
              "version_minor": 0,
              "version_major": 2
            },
            "text/plain": [
              "HBox(children=(FloatProgress(value=0.0, description='Downloading', max=440473133.0, style=ProgressStyle(descri…"
            ]
          },
          "metadata": {
            "tags": []
          }
        },
        {
          "output_type": "stream",
          "text": [
            "\n"
          ],
          "name": "stdout"
        },
        {
          "output_type": "stream",
          "text": [
            "Some weights of the model checkpoint at bert-base-uncased were not used when initializing BertForSequenceClassification: ['cls.predictions.bias', 'cls.predictions.transform.dense.weight', 'cls.predictions.transform.dense.bias', 'cls.predictions.decoder.weight', 'cls.seq_relationship.weight', 'cls.seq_relationship.bias', 'cls.predictions.transform.LayerNorm.weight', 'cls.predictions.transform.LayerNorm.bias']\n",
            "- This IS expected if you are initializing BertForSequenceClassification from the checkpoint of a model trained on another task or with another architecture (e.g. initializing a BertForSequenceClassification model from a BertForPreTraining model).\n",
            "- This IS NOT expected if you are initializing BertForSequenceClassification from the checkpoint of a model that you expect to be exactly identical (initializing a BertForSequenceClassification model from a BertForSequenceClassification model).\n",
            "Some weights of BertForSequenceClassification were not initialized from the model checkpoint at bert-base-uncased and are newly initialized: ['classifier.weight', 'classifier.bias']\n",
            "You should probably TRAIN this model on a down-stream task to be able to use it for predictions and inference.\n"
          ],
          "name": "stderr"
        }
      ]
    },
    {
      "cell_type": "code",
      "metadata": {
        "colab": {
          "base_uri": "https://localhost:8080/"
        },
        "id": "msLMC8P-herP",
        "outputId": "714dd3a6-4334-4ce8-cc73-7cf73a8b10c9"
      },
      "source": [
        "output"
      ],
      "execution_count": null,
      "outputs": [
        {
          "output_type": "execute_result",
          "data": {
            "text/plain": [
              "SequenceClassifierOutput([('logits',\n",
              "                           tensor([[-0.1731, -0.1478]], grad_fn=<AddmmBackward>))])"
            ]
          },
          "metadata": {
            "tags": []
          },
          "execution_count": 52
        }
      ]
    },
    {
      "cell_type": "markdown",
      "metadata": {
        "id": "B9JbjuEfYSdY"
      },
      "source": [
        "# kcbert\n"
      ]
    },
    {
      "cell_type": "code",
      "metadata": {
        "id": "nGa5wkfIYBBn"
      },
      "source": [
        "from transformers import BertConfig, BertModel"
      ],
      "execution_count": null,
      "outputs": []
    },
    {
      "cell_type": "code",
      "metadata": {
        "id": "FX8kIICeYTmV"
      },
      "source": [
        "pretrained_model_config = BertConfig.from_pretrained(\n",
        "    \"beomi/kcbert-base\", \n",
        "    num_labels=2,\n",
        ")"
      ],
      "execution_count": null,
      "outputs": []
    },
    {
      "cell_type": "code",
      "metadata": {
        "colab": {
          "base_uri": "https://localhost:8080/",
          "height": 66,
          "referenced_widgets": [
            "5b7b0c2c1d5d456e8f55cec959ba8b4f",
            "1dc177627a2e4e79bd72caf11a695a4d",
            "cde722d6bf4b48969afc27d1acdae34a",
            "2ea1863ed6af4ac7aae28f14227ccfeb",
            "94dd2e0fbb734d9188f71e8910f9c104",
            "3993d2d8d75c48f4901a8ab01d94ae67",
            "617d614bbbae4800bd2edc302eaf7922",
            "a22bd20e9d7e4876b2d9770ae9e6b51d"
          ]
        },
        "id": "Y_IWgkbhYV4k",
        "outputId": "64fbba34-4d6d-4242-ef4e-c20be1a61381"
      },
      "source": [
        "kc_model = BertModel.from_pretrained(\n",
        "    \"beomi/kcbert-base\", \n",
        "    config = pretrained_model_config,\n",
        ")"
      ],
      "execution_count": null,
      "outputs": [
        {
          "output_type": "display_data",
          "data": {
            "application/vnd.jupyter.widget-view+json": {
              "model_id": "5b7b0c2c1d5d456e8f55cec959ba8b4f",
              "version_minor": 0,
              "version_major": 2
            },
            "text/plain": [
              "HBox(children=(FloatProgress(value=0.0, description='Downloading', max=438218004.0, style=ProgressStyle(descri…"
            ]
          },
          "metadata": {
            "tags": []
          }
        },
        {
          "output_type": "stream",
          "text": [
            "\n"
          ],
          "name": "stdout"
        }
      ]
    },
    {
      "cell_type": "code",
      "metadata": {
        "id": "iiali4ptYiBw"
      },
      "source": [
        "encoded_input = elec_tokenizer(text, return_tensors='pt')\n",
        "output = kc_model(**encoded_input)"
      ],
      "execution_count": null,
      "outputs": []
    },
    {
      "cell_type": "code",
      "metadata": {
        "id": "jlb5DyS4cuMh"
      },
      "source": [
        "classifier = nn.Linear(7680, 2)"
      ],
      "execution_count": null,
      "outputs": []
    },
    {
      "cell_type": "code",
      "metadata": {
        "colab": {
          "base_uri": "https://localhost:8080/"
        },
        "id": "FV-JFDBIeyUG",
        "outputId": "40e138f1-bce3-4377-a581-fe8e6f6f80f1"
      },
      "source": [
        "output[0].size()"
      ],
      "execution_count": null,
      "outputs": [
        {
          "output_type": "execute_result",
          "data": {
            "text/plain": [
              "torch.Size([1, 10, 768])"
            ]
          },
          "metadata": {
            "tags": []
          },
          "execution_count": 31
        }
      ]
    },
    {
      "cell_type": "code",
      "metadata": {
        "colab": {
          "base_uri": "https://localhost:8080/"
        },
        "id": "HHhd8IkicbKa",
        "outputId": "dd938f75-ea58-4162-f439-175fee0a7fa9"
      },
      "source": [
        "# last hidden\n",
        "out = output[0].reshape(1,-1)\n",
        "o = classifier(out)\n",
        "o"
      ],
      "execution_count": null,
      "outputs": [
        {
          "output_type": "execute_result",
          "data": {
            "text/plain": [
              "tensor([[0.2651, 0.7112]], grad_fn=<AddmmBackward>)"
            ]
          },
          "metadata": {
            "tags": []
          },
          "execution_count": 32
        }
      ]
    },
    {
      "cell_type": "markdown",
      "metadata": {
        "id": "40n7MAa7mZ3_"
      },
      "source": [
        "## KoBERT"
      ]
    },
    {
      "cell_type": "code",
      "metadata": {
        "id": "RL2XlSjTVYeh"
      },
      "source": [
        "from transformers import DistilBertModel"
      ],
      "execution_count": null,
      "outputs": []
    },
    {
      "cell_type": "code",
      "metadata": {
        "colab": {
          "base_uri": "https://localhost:8080/",
          "height": 115,
          "referenced_widgets": [
            "a3dd7e399b45470e8cea8cd837bc86b1",
            "2a5068001a0a4db7aa8acdd8a4ac4ec0",
            "1ed30a601bf1498e932c058f2466ea71",
            "b2b0b6a69f6c4d81a0b871136e43bb0a",
            "dcc24f9d9e0544fabbad8b72bbaf675b",
            "8e9dba465527425c8b7b24efa939b0e8",
            "b485561307dc437e9fce16582890336a",
            "be072d753301451badab7a79c2831a7a",
            "f74aeb1152f942e4b00d0aecf904a12b",
            "1858a93c61fb4cefaea55c518bcb8e75",
            "818ac9a034fc4eb98af90388a321b028",
            "17703dab17e54bf5b9860ac8897463fc",
            "ef4698e824624cc3bc37666e9980e3a5",
            "4962dbbd9b1541639fffed9146bba9af",
            "702fe5f056d248f8adea206c94a58f3e",
            "de7fcfef34414ad7b25d613d62e472cf"
          ]
        },
        "id": "0wUDO2eVeq8P",
        "outputId": "f5b3688e-9a24-4758-f687-fe3bdeef9626"
      },
      "source": [
        "pretrained_model_config = BertConfig.from_pretrained(\n",
        "    \"monologg/kobert\", \n",
        "    num_labels=2,\n",
        ")\n",
        "ko_model = BertModel.from_pretrained(\n",
        "    \"monologg/kobert\", \n",
        "    config = pretrained_model_config,\n",
        ")"
      ],
      "execution_count": null,
      "outputs": [
        {
          "output_type": "display_data",
          "data": {
            "application/vnd.jupyter.widget-view+json": {
              "model_id": "a3dd7e399b45470e8cea8cd837bc86b1",
              "version_minor": 0,
              "version_major": 2
            },
            "text/plain": [
              "HBox(children=(FloatProgress(value=0.0, description='Downloading', max=426.0, style=ProgressStyle(description_…"
            ]
          },
          "metadata": {
            "tags": []
          }
        },
        {
          "output_type": "stream",
          "text": [
            "\n"
          ],
          "name": "stdout"
        },
        {
          "output_type": "display_data",
          "data": {
            "application/vnd.jupyter.widget-view+json": {
              "model_id": "f74aeb1152f942e4b00d0aecf904a12b",
              "version_minor": 0,
              "version_major": 2
            },
            "text/plain": [
              "HBox(children=(FloatProgress(value=0.0, description='Downloading', max=368792146.0, style=ProgressStyle(descri…"
            ]
          },
          "metadata": {
            "tags": []
          }
        },
        {
          "output_type": "stream",
          "text": [
            "\n"
          ],
          "name": "stdout"
        }
      ]
    },
    {
      "cell_type": "code",
      "metadata": {
        "id": "Ll1MZCg-ec1k"
      },
      "source": [
        "features = elec_tokenizer(\n",
        "    [text, \".\"], \n",
        "    padding = \"max_length\", \n",
        "    max_length = 12,\n",
        "    truncation=True,\n",
        ")\n",
        "# 위의 버트모델은 토치로 개발 -> 토치텐서로 각각 바꾸어줘야함\n",
        "features = {k:torch.tensor(v) for k,v in features.items()}"
      ],
      "execution_count": null,
      "outputs": []
    },
    {
      "cell_type": "code",
      "metadata": {
        "id": "LLnNYNyDeII7"
      },
      "source": [
        "output = ko_model(**features)"
      ],
      "execution_count": null,
      "outputs": []
    },
    {
      "cell_type": "code",
      "metadata": {
        "id": "q19Sb0ILgCER"
      },
      "source": [
        "output[0][0].shape\n",
        "classifier = nn.Linear(12*768, 2)"
      ],
      "execution_count": null,
      "outputs": []
    },
    {
      "cell_type": "code",
      "metadata": {
        "colab": {
          "base_uri": "https://localhost:8080/"
        },
        "id": "prOrA5nieYol",
        "outputId": "a5375e22-b745-4b0d-ba95-1cbcdac6bfd3"
      },
      "source": [
        "# last hidden\n",
        "out = output[0][0].reshape(1,-1)\n",
        "o = classifier(out)\n",
        "o"
      ],
      "execution_count": null,
      "outputs": [
        {
          "output_type": "execute_result",
          "data": {
            "text/plain": [
              "tensor([[0.1541, 0.1928]], grad_fn=<AddmmBackward>)"
            ]
          },
          "metadata": {
            "tags": []
          },
          "execution_count": 38
        }
      ]
    },
    {
      "cell_type": "markdown",
      "metadata": {
        "id": "WrzW737kgjs-"
      },
      "source": [
        "## Distilkobert"
      ]
    },
    {
      "cell_type": "code",
      "metadata": {
        "colab": {
          "base_uri": "https://localhost:8080/",
          "height": 220,
          "referenced_widgets": [
            "48fd3df4373f497999e1c4b6620c98b7",
            "2f706b98b04747a089339d83c3e9985f",
            "1927f2f7ed054748bcc4a25d40ecf6e1",
            "95952213ebec43a09e8e52657819b0ae",
            "0ad582b1a08046c9ae52a0ef8cffedc0",
            "2b1ca146d7dd455f967afce6432da0d8",
            "bb0f057aca1e4e54889d5726c7927f0c",
            "69dc648e93354646befd53e9af8c9c3c",
            "0ec32d1391934ab0bdaa65480f230ac8",
            "3c7e460471ca4af9a10475dae2206ff0",
            "a5217613ee674913a64e528d84cfc4bb",
            "cff230a1eb7f45b885658d8bb7008249",
            "2ca659dbfe2c439e9fad991844c6d153",
            "4a15e6c5b7df47e69ccb378be0e3d4a1",
            "9efd1f7771c446cb92a206337284bbd1",
            "82cb7f7bb432430cae76d1eb0b8103e7"
          ]
        },
        "id": "A-WxNys7eIGS",
        "outputId": "ca3c5056-938d-4973-af69-5577adab3955"
      },
      "source": [
        "pretrained_model_config = BertConfig.from_pretrained(\n",
        "    \"monologg/distilkobert\", \n",
        "    num_labels=2,\n",
        ")\n",
        "dko_model = BertModel.from_pretrained(\n",
        "    \"monologg/distilkobert\", \n",
        "    config = pretrained_model_config,\n",
        ")"
      ],
      "execution_count": null,
      "outputs": [
        {
          "output_type": "display_data",
          "data": {
            "application/vnd.jupyter.widget-view+json": {
              "model_id": "48fd3df4373f497999e1c4b6620c98b7",
              "version_minor": 0,
              "version_major": 2
            },
            "text/plain": [
              "HBox(children=(FloatProgress(value=0.0, description='Downloading', max=441.0, style=ProgressStyle(description_…"
            ]
          },
          "metadata": {
            "tags": []
          }
        },
        {
          "output_type": "stream",
          "text": [
            "\n"
          ],
          "name": "stdout"
        },
        {
          "output_type": "display_data",
          "data": {
            "application/vnd.jupyter.widget-view+json": {
              "model_id": "0ec32d1391934ab0bdaa65480f230ac8",
              "version_minor": 0,
              "version_major": 2
            },
            "text/plain": [
              "HBox(children=(FloatProgress(value=0.0, description='Downloading', max=113629967.0, style=ProgressStyle(descri…"
            ]
          },
          "metadata": {
            "tags": []
          }
        },
        {
          "output_type": "stream",
          "text": [
            "\n"
          ],
          "name": "stdout"
        },
        {
          "output_type": "stream",
          "text": [
            "Some weights of the model checkpoint at monologg/distilkobert were not used when initializing BertModel: ['distilbert.embeddings.word_embeddings.weight', 'distilbert.embeddings.position_embeddings.weight', 'distilbert.embeddings.LayerNorm.weight', 'distilbert.embeddings.LayerNorm.bias', 'distilbert.transformer.layer.0.attention.q_lin.weight', 'distilbert.transformer.layer.0.attention.q_lin.bias', 'distilbert.transformer.layer.0.attention.k_lin.weight', 'distilbert.transformer.layer.0.attention.k_lin.bias', 'distilbert.transformer.layer.0.attention.v_lin.weight', 'distilbert.transformer.layer.0.attention.v_lin.bias', 'distilbert.transformer.layer.0.attention.out_lin.weight', 'distilbert.transformer.layer.0.attention.out_lin.bias', 'distilbert.transformer.layer.0.sa_layer_norm.weight', 'distilbert.transformer.layer.0.sa_layer_norm.bias', 'distilbert.transformer.layer.0.ffn.lin1.weight', 'distilbert.transformer.layer.0.ffn.lin1.bias', 'distilbert.transformer.layer.0.ffn.lin2.weight', 'distilbert.transformer.layer.0.ffn.lin2.bias', 'distilbert.transformer.layer.0.output_layer_norm.weight', 'distilbert.transformer.layer.0.output_layer_norm.bias', 'distilbert.transformer.layer.1.attention.q_lin.weight', 'distilbert.transformer.layer.1.attention.q_lin.bias', 'distilbert.transformer.layer.1.attention.k_lin.weight', 'distilbert.transformer.layer.1.attention.k_lin.bias', 'distilbert.transformer.layer.1.attention.v_lin.weight', 'distilbert.transformer.layer.1.attention.v_lin.bias', 'distilbert.transformer.layer.1.attention.out_lin.weight', 'distilbert.transformer.layer.1.attention.out_lin.bias', 'distilbert.transformer.layer.1.sa_layer_norm.weight', 'distilbert.transformer.layer.1.sa_layer_norm.bias', 'distilbert.transformer.layer.1.ffn.lin1.weight', 'distilbert.transformer.layer.1.ffn.lin1.bias', 'distilbert.transformer.layer.1.ffn.lin2.weight', 'distilbert.transformer.layer.1.ffn.lin2.bias', 'distilbert.transformer.layer.1.output_layer_norm.weight', 'distilbert.transformer.layer.1.output_layer_norm.bias', 'distilbert.transformer.layer.2.attention.q_lin.weight', 'distilbert.transformer.layer.2.attention.q_lin.bias', 'distilbert.transformer.layer.2.attention.k_lin.weight', 'distilbert.transformer.layer.2.attention.k_lin.bias', 'distilbert.transformer.layer.2.attention.v_lin.weight', 'distilbert.transformer.layer.2.attention.v_lin.bias', 'distilbert.transformer.layer.2.attention.out_lin.weight', 'distilbert.transformer.layer.2.attention.out_lin.bias', 'distilbert.transformer.layer.2.sa_layer_norm.weight', 'distilbert.transformer.layer.2.sa_layer_norm.bias', 'distilbert.transformer.layer.2.ffn.lin1.weight', 'distilbert.transformer.layer.2.ffn.lin1.bias', 'distilbert.transformer.layer.2.ffn.lin2.weight', 'distilbert.transformer.layer.2.ffn.lin2.bias', 'distilbert.transformer.layer.2.output_layer_norm.weight', 'distilbert.transformer.layer.2.output_layer_norm.bias', 'vocab_transform.weight', 'vocab_transform.bias', 'vocab_layer_norm.weight', 'vocab_layer_norm.bias', 'vocab_projector.weight', 'vocab_projector.bias']\n",
            "- This IS expected if you are initializing BertModel from the checkpoint of a model trained on another task or with another architecture (e.g. initializing a BertForSequenceClassification model from a BertForPreTraining model).\n",
            "- This IS NOT expected if you are initializing BertModel from the checkpoint of a model that you expect to be exactly identical (initializing a BertForSequenceClassification model from a BertForSequenceClassification model).\n",
            "Some weights of BertModel were not initialized from the model checkpoint at monologg/distilkobert and are newly initialized: ['embeddings.word_embeddings.weight', 'embeddings.position_embeddings.weight', 'embeddings.token_type_embeddings.weight', 'embeddings.LayerNorm.weight', 'embeddings.LayerNorm.bias', 'encoder.layer.0.attention.self.query.weight', 'encoder.layer.0.attention.self.query.bias', 'encoder.layer.0.attention.self.key.weight', 'encoder.layer.0.attention.self.key.bias', 'encoder.layer.0.attention.self.value.weight', 'encoder.layer.0.attention.self.value.bias', 'encoder.layer.0.attention.output.dense.weight', 'encoder.layer.0.attention.output.dense.bias', 'encoder.layer.0.attention.output.LayerNorm.weight', 'encoder.layer.0.attention.output.LayerNorm.bias', 'encoder.layer.0.intermediate.dense.weight', 'encoder.layer.0.intermediate.dense.bias', 'encoder.layer.0.output.dense.weight', 'encoder.layer.0.output.dense.bias', 'encoder.layer.0.output.LayerNorm.weight', 'encoder.layer.0.output.LayerNorm.bias', 'encoder.layer.1.attention.self.query.weight', 'encoder.layer.1.attention.self.query.bias', 'encoder.layer.1.attention.self.key.weight', 'encoder.layer.1.attention.self.key.bias', 'encoder.layer.1.attention.self.value.weight', 'encoder.layer.1.attention.self.value.bias', 'encoder.layer.1.attention.output.dense.weight', 'encoder.layer.1.attention.output.dense.bias', 'encoder.layer.1.attention.output.LayerNorm.weight', 'encoder.layer.1.attention.output.LayerNorm.bias', 'encoder.layer.1.intermediate.dense.weight', 'encoder.layer.1.intermediate.dense.bias', 'encoder.layer.1.output.dense.weight', 'encoder.layer.1.output.dense.bias', 'encoder.layer.1.output.LayerNorm.weight', 'encoder.layer.1.output.LayerNorm.bias', 'encoder.layer.2.attention.self.query.weight', 'encoder.layer.2.attention.self.query.bias', 'encoder.layer.2.attention.self.key.weight', 'encoder.layer.2.attention.self.key.bias', 'encoder.layer.2.attention.self.value.weight', 'encoder.layer.2.attention.self.value.bias', 'encoder.layer.2.attention.output.dense.weight', 'encoder.layer.2.attention.output.dense.bias', 'encoder.layer.2.attention.output.LayerNorm.weight', 'encoder.layer.2.attention.output.LayerNorm.bias', 'encoder.layer.2.intermediate.dense.weight', 'encoder.layer.2.intermediate.dense.bias', 'encoder.layer.2.output.dense.weight', 'encoder.layer.2.output.dense.bias', 'encoder.layer.2.output.LayerNorm.weight', 'encoder.layer.2.output.LayerNorm.bias', 'encoder.layer.3.attention.self.query.weight', 'encoder.layer.3.attention.self.query.bias', 'encoder.layer.3.attention.self.key.weight', 'encoder.layer.3.attention.self.key.bias', 'encoder.layer.3.attention.self.value.weight', 'encoder.layer.3.attention.self.value.bias', 'encoder.layer.3.attention.output.dense.weight', 'encoder.layer.3.attention.output.dense.bias', 'encoder.layer.3.attention.output.LayerNorm.weight', 'encoder.layer.3.attention.output.LayerNorm.bias', 'encoder.layer.3.intermediate.dense.weight', 'encoder.layer.3.intermediate.dense.bias', 'encoder.layer.3.output.dense.weight', 'encoder.layer.3.output.dense.bias', 'encoder.layer.3.output.LayerNorm.weight', 'encoder.layer.3.output.LayerNorm.bias', 'encoder.layer.4.attention.self.query.weight', 'encoder.layer.4.attention.self.query.bias', 'encoder.layer.4.attention.self.key.weight', 'encoder.layer.4.attention.self.key.bias', 'encoder.layer.4.attention.self.value.weight', 'encoder.layer.4.attention.self.value.bias', 'encoder.layer.4.attention.output.dense.weight', 'encoder.layer.4.attention.output.dense.bias', 'encoder.layer.4.attention.output.LayerNorm.weight', 'encoder.layer.4.attention.output.LayerNorm.bias', 'encoder.layer.4.intermediate.dense.weight', 'encoder.layer.4.intermediate.dense.bias', 'encoder.layer.4.output.dense.weight', 'encoder.layer.4.output.dense.bias', 'encoder.layer.4.output.LayerNorm.weight', 'encoder.layer.4.output.LayerNorm.bias', 'encoder.layer.5.attention.self.query.weight', 'encoder.layer.5.attention.self.query.bias', 'encoder.layer.5.attention.self.key.weight', 'encoder.layer.5.attention.self.key.bias', 'encoder.layer.5.attention.self.value.weight', 'encoder.layer.5.attention.self.value.bias', 'encoder.layer.5.attention.output.dense.weight', 'encoder.layer.5.attention.output.dense.bias', 'encoder.layer.5.attention.output.LayerNorm.weight', 'encoder.layer.5.attention.output.LayerNorm.bias', 'encoder.layer.5.intermediate.dense.weight', 'encoder.layer.5.intermediate.dense.bias', 'encoder.layer.5.output.dense.weight', 'encoder.layer.5.output.dense.bias', 'encoder.layer.5.output.LayerNorm.weight', 'encoder.layer.5.output.LayerNorm.bias', 'encoder.layer.6.attention.self.query.weight', 'encoder.layer.6.attention.self.query.bias', 'encoder.layer.6.attention.self.key.weight', 'encoder.layer.6.attention.self.key.bias', 'encoder.layer.6.attention.self.value.weight', 'encoder.layer.6.attention.self.value.bias', 'encoder.layer.6.attention.output.dense.weight', 'encoder.layer.6.attention.output.dense.bias', 'encoder.layer.6.attention.output.LayerNorm.weight', 'encoder.layer.6.attention.output.LayerNorm.bias', 'encoder.layer.6.intermediate.dense.weight', 'encoder.layer.6.intermediate.dense.bias', 'encoder.layer.6.output.dense.weight', 'encoder.layer.6.output.dense.bias', 'encoder.layer.6.output.LayerNorm.weight', 'encoder.layer.6.output.LayerNorm.bias', 'encoder.layer.7.attention.self.query.weight', 'encoder.layer.7.attention.self.query.bias', 'encoder.layer.7.attention.self.key.weight', 'encoder.layer.7.attention.self.key.bias', 'encoder.layer.7.attention.self.value.weight', 'encoder.layer.7.attention.self.value.bias', 'encoder.layer.7.attention.output.dense.weight', 'encoder.layer.7.attention.output.dense.bias', 'encoder.layer.7.attention.output.LayerNorm.weight', 'encoder.layer.7.attention.output.LayerNorm.bias', 'encoder.layer.7.intermediate.dense.weight', 'encoder.layer.7.intermediate.dense.bias', 'encoder.layer.7.output.dense.weight', 'encoder.layer.7.output.dense.bias', 'encoder.layer.7.output.LayerNorm.weight', 'encoder.layer.7.output.LayerNorm.bias', 'encoder.layer.8.attention.self.query.weight', 'encoder.layer.8.attention.self.query.bias', 'encoder.layer.8.attention.self.key.weight', 'encoder.layer.8.attention.self.key.bias', 'encoder.layer.8.attention.self.value.weight', 'encoder.layer.8.attention.self.value.bias', 'encoder.layer.8.attention.output.dense.weight', 'encoder.layer.8.attention.output.dense.bias', 'encoder.layer.8.attention.output.LayerNorm.weight', 'encoder.layer.8.attention.output.LayerNorm.bias', 'encoder.layer.8.intermediate.dense.weight', 'encoder.layer.8.intermediate.dense.bias', 'encoder.layer.8.output.dense.weight', 'encoder.layer.8.output.dense.bias', 'encoder.layer.8.output.LayerNorm.weight', 'encoder.layer.8.output.LayerNorm.bias', 'encoder.layer.9.attention.self.query.weight', 'encoder.layer.9.attention.self.query.bias', 'encoder.layer.9.attention.self.key.weight', 'encoder.layer.9.attention.self.key.bias', 'encoder.layer.9.attention.self.value.weight', 'encoder.layer.9.attention.self.value.bias', 'encoder.layer.9.attention.output.dense.weight', 'encoder.layer.9.attention.output.dense.bias', 'encoder.layer.9.attention.output.LayerNorm.weight', 'encoder.layer.9.attention.output.LayerNorm.bias', 'encoder.layer.9.intermediate.dense.weight', 'encoder.layer.9.intermediate.dense.bias', 'encoder.layer.9.output.dense.weight', 'encoder.layer.9.output.dense.bias', 'encoder.layer.9.output.LayerNorm.weight', 'encoder.layer.9.output.LayerNorm.bias', 'encoder.layer.10.attention.self.query.weight', 'encoder.layer.10.attention.self.query.bias', 'encoder.layer.10.attention.self.key.weight', 'encoder.layer.10.attention.self.key.bias', 'encoder.layer.10.attention.self.value.weight', 'encoder.layer.10.attention.self.value.bias', 'encoder.layer.10.attention.output.dense.weight', 'encoder.layer.10.attention.output.dense.bias', 'encoder.layer.10.attention.output.LayerNorm.weight', 'encoder.layer.10.attention.output.LayerNorm.bias', 'encoder.layer.10.intermediate.dense.weight', 'encoder.layer.10.intermediate.dense.bias', 'encoder.layer.10.output.dense.weight', 'encoder.layer.10.output.dense.bias', 'encoder.layer.10.output.LayerNorm.weight', 'encoder.layer.10.output.LayerNorm.bias', 'encoder.layer.11.attention.self.query.weight', 'encoder.layer.11.attention.self.query.bias', 'encoder.layer.11.attention.self.key.weight', 'encoder.layer.11.attention.self.key.bias', 'encoder.layer.11.attention.self.value.weight', 'encoder.layer.11.attention.self.value.bias', 'encoder.layer.11.attention.output.dense.weight', 'encoder.layer.11.attention.output.dense.bias', 'encoder.layer.11.attention.output.LayerNorm.weight', 'encoder.layer.11.attention.output.LayerNorm.bias', 'encoder.layer.11.intermediate.dense.weight', 'encoder.layer.11.intermediate.dense.bias', 'encoder.layer.11.output.dense.weight', 'encoder.layer.11.output.dense.bias', 'encoder.layer.11.output.LayerNorm.weight', 'encoder.layer.11.output.LayerNorm.bias', 'pooler.dense.weight', 'pooler.dense.bias']\n",
            "You should probably TRAIN this model on a down-stream task to be able to use it for predictions and inference.\n"
          ],
          "name": "stderr"
        }
      ]
    },
    {
      "cell_type": "code",
      "metadata": {
        "id": "XoCLzGT8eRGN"
      },
      "source": [
        "output = dko_model(**features)"
      ],
      "execution_count": null,
      "outputs": []
    },
    {
      "cell_type": "code",
      "metadata": {
        "colab": {
          "base_uri": "https://localhost:8080/"
        },
        "id": "uJNlATTIgvR8",
        "outputId": "d92fd109-6dc5-4746-92e3-96df04cacad9"
      },
      "source": [
        "print(output[0][0].shape)\n",
        "classifier = nn.Linear(12*768, 2)"
      ],
      "execution_count": null,
      "outputs": [
        {
          "output_type": "stream",
          "text": [
            "torch.Size([12, 768])\n"
          ],
          "name": "stdout"
        }
      ]
    },
    {
      "cell_type": "code",
      "metadata": {
        "colab": {
          "base_uri": "https://localhost:8080/"
        },
        "id": "Yzvy2uYXgw0d",
        "outputId": "b72915ab-8aef-4eb6-d49e-6ff79be3a7d5"
      },
      "source": [
        "# last hidden\n",
        "out = output[0][0].reshape(1,-1)\n",
        "o = classifier(out)\n",
        "o"
      ],
      "execution_count": null,
      "outputs": [
        {
          "output_type": "execute_result",
          "data": {
            "text/plain": [
              "tensor([[-0.0976, -1.0998]], grad_fn=<AddmmBackward>)"
            ]
          },
          "metadata": {
            "tags": []
          },
          "execution_count": 42
        }
      ]
    },
    {
      "cell_type": "code",
      "metadata": {
        "id": "DMjmxXJMg2Uv"
      },
      "source": [
        ""
      ],
      "execution_count": null,
      "outputs": []
    },
    {
      "cell_type": "markdown",
      "metadata": {
        "id": "yfmEVwBxk9Wk"
      },
      "source": [
        "# Ko-electra"
      ]
    },
    {
      "cell_type": "code",
      "metadata": {
        "id": "I90azK47k_SF"
      },
      "source": [
        "from transformers import ElectraModel, ElectraTokenizer, ElectraForSequenceClassification"
      ],
      "execution_count": null,
      "outputs": []
    },
    {
      "cell_type": "code",
      "metadata": {
        "colab": {
          "base_uri": "https://localhost:8080/",
          "height": 220,
          "referenced_widgets": [
            "260a15f319eb4e479c3c640bc7926696",
            "b824962c50174b538253817aa6aa0e2d",
            "fc00547c068f45058b16ee1a6df5255c",
            "b1e7416e903e4557bdc6f84ee0cf08fb",
            "613bcd1c5a8e465b9f68beba9c7615d3",
            "d7300bfd3df542c28ef95a9cfe546698",
            "41d0612aa3914958b18b4888539857b1",
            "da854b6dd17249188a938804d8d40ec5",
            "a71a09091fed42db8a6e8f026a912cfb",
            "8af0d48cb94c4aed9ce1edc5c37b594f",
            "3b4ad28a33374e569ab6f2270f99d19a",
            "3702c5a9c1344e2a979c3b54cdf0b983",
            "239968b992e948848c3f4a161cb1123e",
            "39ca4e5afcc649809c6d8352e7d6fa11",
            "7a454cb416fb4f8a9a905383a3409ac6",
            "09b820769def45d2b2c42a1245bef424"
          ]
        },
        "id": "qQYLRxjUmMi4",
        "outputId": "fcba9da4-059d-4aff-e864-d0b34a8c9fbb"
      },
      "source": [
        "model = ElectraForSequenceClassification.from_pretrained(\"monologg/koelectra-base-v3-discriminator\")"
      ],
      "execution_count": null,
      "outputs": [
        {
          "output_type": "display_data",
          "data": {
            "application/vnd.jupyter.widget-view+json": {
              "model_id": "260a15f319eb4e479c3c640bc7926696",
              "version_minor": 0,
              "version_major": 2
            },
            "text/plain": [
              "HBox(children=(FloatProgress(value=0.0, description='Downloading', max=467.0, style=ProgressStyle(description_…"
            ]
          },
          "metadata": {
            "tags": []
          }
        },
        {
          "output_type": "stream",
          "text": [
            "\n"
          ],
          "name": "stdout"
        },
        {
          "output_type": "display_data",
          "data": {
            "application/vnd.jupyter.widget-view+json": {
              "model_id": "a71a09091fed42db8a6e8f026a912cfb",
              "version_minor": 0,
              "version_major": 2
            },
            "text/plain": [
              "HBox(children=(FloatProgress(value=0.0, description='Downloading', max=451776329.0, style=ProgressStyle(descri…"
            ]
          },
          "metadata": {
            "tags": []
          }
        },
        {
          "output_type": "stream",
          "text": [
            "\n"
          ],
          "name": "stdout"
        },
        {
          "output_type": "stream",
          "text": [
            "Some weights of the model checkpoint at monologg/koelectra-base-v3-discriminator were not used when initializing ElectraForSequenceClassification: ['discriminator_predictions.dense.weight', 'discriminator_predictions.dense.bias', 'discriminator_predictions.dense_prediction.weight', 'discriminator_predictions.dense_prediction.bias']\n",
            "- This IS expected if you are initializing ElectraForSequenceClassification from the checkpoint of a model trained on another task or with another architecture (e.g. initializing a BertForSequenceClassification model from a BertForPreTraining model).\n",
            "- This IS NOT expected if you are initializing ElectraForSequenceClassification from the checkpoint of a model that you expect to be exactly identical (initializing a BertForSequenceClassification model from a BertForSequenceClassification model).\n",
            "Some weights of ElectraForSequenceClassification were not initialized from the model checkpoint at monologg/koelectra-base-v3-discriminator and are newly initialized: ['classifier.dense.weight', 'classifier.dense.bias', 'classifier.out_proj.weight', 'classifier.out_proj.bias']\n",
            "You should probably TRAIN this model on a down-stream task to be able to use it for predictions and inference.\n"
          ],
          "name": "stderr"
        }
      ]
    },
    {
      "cell_type": "code",
      "metadata": {
        "id": "WUmo7OSYmMgN"
      },
      "source": [
        "encoded_input = elec_tokenizer(text, return_tensors='pt')\n",
        "output = model(**encoded_input)"
      ],
      "execution_count": null,
      "outputs": []
    },
    {
      "cell_type": "code",
      "metadata": {
        "colab": {
          "base_uri": "https://localhost:8080/"
        },
        "id": "VerxpgWhmMeG",
        "outputId": "9799e1ff-7e5d-4e54-828a-21138bd40e1d"
      },
      "source": [
        "output"
      ],
      "execution_count": null,
      "outputs": [
        {
          "output_type": "execute_result",
          "data": {
            "text/plain": [
              "SequenceClassifierOutput([('logits',\n",
              "                           tensor([[ 0.0404, -0.0620]], grad_fn=<AddmmBackward>))])"
            ]
          },
          "metadata": {
            "tags": []
          },
          "execution_count": 46
        }
      ]
    },
    {
      "cell_type": "markdown",
      "metadata": {
        "id": "TlwseKm9l8lS"
      },
      "source": [
        "# HanBERT"
      ]
    },
    {
      "cell_type": "code",
      "metadata": {
        "colab": {
          "base_uri": "https://localhost:8080/"
        },
        "id": "Hp4z970Ol91i",
        "outputId": "61e2308d-2a24-4b18-9687-6de6dd7df88e"
      },
      "source": [
        "model = BertForSequenceClassification.from_pretrained('/content/drive/MyDrive/HanBert-54kN-torch')"
      ],
      "execution_count": null,
      "outputs": [
        {
          "output_type": "stream",
          "text": [
            "Some weights of the model checkpoint at /content/drive/MyDrive/HanBert-54kN-torch were not used when initializing BertForSequenceClassification: ['cls.predictions.bias', 'cls.predictions.transform.dense.weight', 'cls.predictions.transform.dense.bias', 'cls.predictions.transform.LayerNorm.weight', 'cls.predictions.transform.LayerNorm.bias', 'cls.predictions.decoder.weight', 'cls.seq_relationship.weight', 'cls.seq_relationship.bias']\n",
            "- This IS expected if you are initializing BertForSequenceClassification from the checkpoint of a model trained on another task or with another architecture (e.g. initializing a BertForSequenceClassification model from a BertForPreTraining model).\n",
            "- This IS NOT expected if you are initializing BertForSequenceClassification from the checkpoint of a model that you expect to be exactly identical (initializing a BertForSequenceClassification model from a BertForSequenceClassification model).\n",
            "Some weights of BertForSequenceClassification were not initialized from the model checkpoint at /content/drive/MyDrive/HanBert-54kN-torch and are newly initialized: ['classifier.weight', 'classifier.bias']\n",
            "You should probably TRAIN this model on a down-stream task to be able to use it for predictions and inference.\n"
          ],
          "name": "stderr"
        }
      ]
    },
    {
      "cell_type": "code",
      "metadata": {
        "id": "1wdFW-oenIyr"
      },
      "source": [
        "encoded_input = elec_tokenizer(text, return_tensors='pt')\n",
        "output = model(**encoded_input)"
      ],
      "execution_count": null,
      "outputs": []
    },
    {
      "cell_type": "code",
      "metadata": {
        "colab": {
          "base_uri": "https://localhost:8080/"
        },
        "id": "arx_j8iYnIwR",
        "outputId": "fd14e3f9-4c0a-413a-efc2-aeda16e4ff69"
      },
      "source": [
        "output"
      ],
      "execution_count": null,
      "outputs": [
        {
          "output_type": "execute_result",
          "data": {
            "text/plain": [
              "SequenceClassifierOutput([('logits',\n",
              "                           tensor([[-0.4108,  0.0113]], grad_fn=<AddmmBackward>))])"
            ]
          },
          "metadata": {
            "tags": []
          },
          "execution_count": 50
        }
      ]
    }
  ]
}