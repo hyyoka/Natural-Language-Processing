{
  "nbformat": 4,
  "nbformat_minor": 0,
  "metadata": {
    "colab": {
      "name": "Comparing taggers of Korean.ipynb",
      "provenance": [],
      "collapsed_sections": []
    },
    "kernelspec": {
      "name": "python3",
      "display_name": "Python 3"
    }
  },
  "cells": [
    {
      "cell_type": "markdown",
      "metadata": {
        "id": "kBz6eaNkXIi0"
      },
      "source": [
        "# Comparing taggers of Korean\n",
        "\n",
        "@hyyoka"
      ]
    },
    {
      "cell_type": "markdown",
      "metadata": {
        "id": "S0SRLF67YIk4"
      },
      "source": [
        "방대한 텍스트 데이터를 모두 수기로 형태소 태깅을 하는 것은 거의 불가능하다. 따라서, 자연어 처리에서는 자동으로 토큰들에 형태소를 태깅해주는 툴이 존재한다. 이렇게, 원시 말뭉치를 형태소 단위로 쪼개고 각각에 품사 정보를 부착하는 작업을 **형태소 분석(POS-tagging)**이라고 한다. \n",
        "\n",
        "이번 포스트에서는 nltk와 KoNLPy의 형태소 분석기를 이용해 영어 텍스트와 한국어 텍스트를 분석해보는 실습을 진행한다. 특히, KoNLPy에는 다양한 형태소 분석기가 존재하므로, 추가적인 2개의 형태소 분석기에 대한 간단한 비교도 진행한다. \n",
        "\n",
        "1. Okt(Open Korea Text) :: 전 Twitter\n",
        "2. Hannanum\n",
        "3. kkma(꼬고마)"
      ]
    },
    {
      "cell_type": "code",
      "metadata": {
        "id": "O65UpjLmRxJR",
        "colab": {
          "base_uri": "https://localhost:8080/"
        },
        "outputId": "05fdcc04-3ca2-4ee4-daa8-93d3d386a642"
      },
      "source": [
        "!pip install konlpy"
      ],
      "execution_count": null,
      "outputs": [
        {
          "output_type": "stream",
          "text": [
            "Collecting konlpy\n",
            "\u001b[?25l  Downloading https://files.pythonhosted.org/packages/85/0e/f385566fec837c0b83f216b2da65db9997b35dd675e107752005b7d392b1/konlpy-0.5.2-py2.py3-none-any.whl (19.4MB)\n",
            "\u001b[K     |████████████████████████████████| 19.4MB 45.8MB/s \n",
            "\u001b[?25hCollecting beautifulsoup4==4.6.0\n",
            "\u001b[?25l  Downloading https://files.pythonhosted.org/packages/9e/d4/10f46e5cfac773e22707237bfcd51bbffeaf0a576b0a847ec7ab15bd7ace/beautifulsoup4-4.6.0-py3-none-any.whl (86kB)\n",
            "\u001b[K     |████████████████████████████████| 92kB 10.7MB/s \n",
            "\u001b[?25hRequirement already satisfied: lxml>=4.1.0 in /usr/local/lib/python3.7/dist-packages (from konlpy) (4.2.6)\n",
            "Collecting colorama\n",
            "  Downloading https://files.pythonhosted.org/packages/44/98/5b86278fbbf250d239ae0ecb724f8572af1c91f4a11edf4d36a206189440/colorama-0.4.4-py2.py3-none-any.whl\n",
            "Requirement already satisfied: numpy>=1.6 in /usr/local/lib/python3.7/dist-packages (from konlpy) (1.19.5)\n",
            "Requirement already satisfied: tweepy>=3.7.0 in /usr/local/lib/python3.7/dist-packages (from konlpy) (3.10.0)\n",
            "Collecting JPype1>=0.7.0\n",
            "\u001b[?25l  Downloading https://files.pythonhosted.org/packages/cd/a5/9781e2ef4ca92d09912c4794642c1653aea7607f473e156cf4d423a881a1/JPype1-1.2.1-cp37-cp37m-manylinux2010_x86_64.whl (457kB)\n",
            "\u001b[K     |████████████████████████████████| 460kB 57.8MB/s \n",
            "\u001b[?25hRequirement already satisfied: requests-oauthlib>=0.7.0 in /usr/local/lib/python3.7/dist-packages (from tweepy>=3.7.0->konlpy) (1.3.0)\n",
            "Requirement already satisfied: requests[socks]>=2.11.1 in /usr/local/lib/python3.7/dist-packages (from tweepy>=3.7.0->konlpy) (2.23.0)\n",
            "Requirement already satisfied: six>=1.10.0 in /usr/local/lib/python3.7/dist-packages (from tweepy>=3.7.0->konlpy) (1.15.0)\n",
            "Requirement already satisfied: typing-extensions; python_version < \"3.8\" in /usr/local/lib/python3.7/dist-packages (from JPype1>=0.7.0->konlpy) (3.7.4.3)\n",
            "Requirement already satisfied: oauthlib>=3.0.0 in /usr/local/lib/python3.7/dist-packages (from requests-oauthlib>=0.7.0->tweepy>=3.7.0->konlpy) (3.1.0)\n",
            "Requirement already satisfied: certifi>=2017.4.17 in /usr/local/lib/python3.7/dist-packages (from requests[socks]>=2.11.1->tweepy>=3.7.0->konlpy) (2020.12.5)\n",
            "Requirement already satisfied: urllib3!=1.25.0,!=1.25.1,<1.26,>=1.21.1 in /usr/local/lib/python3.7/dist-packages (from requests[socks]>=2.11.1->tweepy>=3.7.0->konlpy) (1.24.3)\n",
            "Requirement already satisfied: chardet<4,>=3.0.2 in /usr/local/lib/python3.7/dist-packages (from requests[socks]>=2.11.1->tweepy>=3.7.0->konlpy) (3.0.4)\n",
            "Requirement already satisfied: idna<3,>=2.5 in /usr/local/lib/python3.7/dist-packages (from requests[socks]>=2.11.1->tweepy>=3.7.0->konlpy) (2.10)\n",
            "Requirement already satisfied: PySocks!=1.5.7,>=1.5.6; extra == \"socks\" in /usr/local/lib/python3.7/dist-packages (from requests[socks]>=2.11.1->tweepy>=3.7.0->konlpy) (1.7.1)\n",
            "Installing collected packages: beautifulsoup4, colorama, JPype1, konlpy\n",
            "  Found existing installation: beautifulsoup4 4.6.3\n",
            "    Uninstalling beautifulsoup4-4.6.3:\n",
            "      Successfully uninstalled beautifulsoup4-4.6.3\n",
            "Successfully installed JPype1-1.2.1 beautifulsoup4-4.6.0 colorama-0.4.4 konlpy-0.5.2\n"
          ],
          "name": "stdout"
        }
      ]
    },
    {
      "cell_type": "code",
      "metadata": {
        "id": "p9tPcf7ByV3h",
        "colab": {
          "base_uri": "https://localhost:8080/"
        },
        "outputId": "5c40b062-24d2-450f-b572-8161e2f6bcd3"
      },
      "source": [
        "import pandas as pd\n",
        "import nltk\n",
        "import konlpy\n",
        "from konlpy.tag import Hannanum, Okt, Kkma\n",
        "\n",
        "nltk.download('punkt')\n",
        "nltk.download('averaged_perceptron_tagger')"
      ],
      "execution_count": null,
      "outputs": [
        {
          "output_type": "stream",
          "text": [
            "[nltk_data] Downloading package punkt to /root/nltk_data...\n",
            "[nltk_data]   Unzipping tokenizers/punkt.zip.\n",
            "[nltk_data] Downloading package averaged_perceptron_tagger to\n",
            "[nltk_data]     /root/nltk_data...\n",
            "[nltk_data]   Unzipping taggers/averaged_perceptron_tagger.zip.\n"
          ],
          "name": "stdout"
        },
        {
          "output_type": "execute_result",
          "data": {
            "text/plain": [
              "True"
            ]
          },
          "metadata": {
            "tags": []
          },
          "execution_count": 2
        }
      ]
    },
    {
      "cell_type": "markdown",
      "metadata": {
        "id": "q00k1Dv3Z5cf"
      },
      "source": [
        "## 1. Dataload\n",
        "\n",
        "한국어와 영어 각각에 대한 형태소 분석기의 성능을 비교하기 위해서는 bilingual parallel corpus가 필요하다고 판단했다. 검색해본 결과, 잘 구축된 Eng-Kor Parallel Corpus를 찾을 수 있었다. 사용한 코퍼스의 이름은 세종 영-한 코퍼스이다. 다음은 해당 코퍼스를 다운받은 [링크](http://corpus.mireene.com/download.html#)이다. 이 중, 랜덤한 4개의 샘플을 가져와 kor-eng.txt 라는 파일에 저장했다. \n",
        "\n"
      ]
    },
    {
      "cell_type": "code",
      "metadata": {
        "id": "AUP1m3llUD5k"
      },
      "source": [
        "def read_data(filename):\n",
        "    with open(filename, 'r') as f:\n",
        "        data = f.read()\n",
        "        data = data.split(\"\\n\")\n",
        "        data = [d for d in data if len(d)!=0]\n",
        "    return data\n",
        "\n",
        "data = read_data(\"/content/kor-eng.txt\")\n",
        "\n",
        "kor, eng = [], []\n",
        "for i in range(len(data)):\n",
        "    if i%2==0: kor.append(data[i])\n",
        "    else: eng.append(data[i])"
      ],
      "execution_count": null,
      "outputs": []
    },
    {
      "cell_type": "code",
      "metadata": {
        "id": "gObLsQUtv89U"
      },
      "source": [
        "kor = ['이승기의 앨범']"
      ],
      "execution_count": null,
      "outputs": []
    },
    {
      "cell_type": "code",
      "metadata": {
        "id": "0kvt41jIv-Fz"
      },
      "source": [
        "eng"
      ],
      "execution_count": null,
      "outputs": []
    },
    {
      "cell_type": "markdown",
      "metadata": {
        "id": "Ps1qCmn51RAa"
      },
      "source": [
        "## 2. 형태소 분석"
      ]
    },
    {
      "cell_type": "markdown",
      "metadata": {
        "id": "Mq_oeMxDZx_V"
      },
      "source": [
        "#### 2.1 ENG.TXT 형태소 분석\n"
      ]
    },
    {
      "cell_type": "code",
      "metadata": {
        "id": "jxLf5_iLUinS"
      },
      "source": [
        "eng_data = []\n",
        "for s in eng: \n",
        "    tokens = nltk.word_tokenize(s.strip())\n",
        "    eng_data.append(nltk.pos_tag(tokens))\n"
      ],
      "execution_count": null,
      "outputs": []
    },
    {
      "cell_type": "markdown",
      "metadata": {
        "id": "YXYWJ1e6Z1jy"
      },
      "source": [
        "### 2.2 KOR.TXT 형태소 분석"
      ]
    },
    {
      "cell_type": "code",
      "metadata": {
        "id": "in4uKc4_V3Y1"
      },
      "source": [
        "okt = []\n",
        "kkma = []\n",
        "hannanum = []\n",
        "\n",
        "for s in kor: \n",
        "    okt.append(Okt().pos(s))\n",
        "    kkma.append(Kkma().pos(s))\n",
        "    hannanum.append(Hannanum().pos(s))"
      ],
      "execution_count": null,
      "outputs": []
    },
    {
      "cell_type": "markdown",
      "metadata": {
        "id": "RMBQFT4R1KGN"
      },
      "source": [
        "## 3. 형태소 분석 결과\n",
        "\n",
        "okt 형태소 분석기는 정말 단순한 결과만을 반환하므로 분석의 대상에 포함시키지 않았다. "
      ]
    },
    {
      "cell_type": "code",
      "metadata": {
        "id": "qFk37fvLyvOt",
        "colab": {
          "base_uri": "https://localhost:8080/",
          "height": 142
        },
        "outputId": "7fabb7c7-a93b-4b5e-f27b-f536f144c059"
      },
      "source": [
        "df1 = pd.DataFrame([okt[0], kkma[0], hannanum[0]], index=[\"okt\",\"kkma\", \"hannanum\"])\n",
        "df1"
      ],
      "execution_count": null,
      "outputs": [
        {
          "output_type": "execute_result",
          "data": {
            "text/html": [
              "<div>\n",
              "<style scoped>\n",
              "    .dataframe tbody tr th:only-of-type {\n",
              "        vertical-align: middle;\n",
              "    }\n",
              "\n",
              "    .dataframe tbody tr th {\n",
              "        vertical-align: top;\n",
              "    }\n",
              "\n",
              "    .dataframe thead th {\n",
              "        text-align: right;\n",
              "    }\n",
              "</style>\n",
              "<table border=\"1\" class=\"dataframe\">\n",
              "  <thead>\n",
              "    <tr style=\"text-align: right;\">\n",
              "      <th></th>\n",
              "      <th>0</th>\n",
              "      <th>1</th>\n",
              "      <th>2</th>\n",
              "    </tr>\n",
              "  </thead>\n",
              "  <tbody>\n",
              "    <tr>\n",
              "      <th>okt</th>\n",
              "      <td>(이승기, Noun)</td>\n",
              "      <td>(의, Josa)</td>\n",
              "      <td>(앨범, Noun)</td>\n",
              "    </tr>\n",
              "    <tr>\n",
              "      <th>kkma</th>\n",
              "      <td>(이승, NNG)</td>\n",
              "      <td>(기의, NNG)</td>\n",
              "      <td>(앨범, NNG)</td>\n",
              "    </tr>\n",
              "    <tr>\n",
              "      <th>hannanum</th>\n",
              "      <td>(이승기, N)</td>\n",
              "      <td>(의, J)</td>\n",
              "      <td>(앨범, N)</td>\n",
              "    </tr>\n",
              "  </tbody>\n",
              "</table>\n",
              "</div>"
            ],
            "text/plain": [
              "                    0          1           2\n",
              "okt       (이승기, Noun)  (의, Josa)  (앨범, Noun)\n",
              "kkma        (이승, NNG)  (기의, NNG)   (앨범, NNG)\n",
              "hannanum     (이승기, N)     (의, J)     (앨범, N)"
            ]
          },
          "metadata": {
            "tags": []
          },
          "execution_count": 6
        }
      ]
    },
    {
      "cell_type": "markdown",
      "metadata": {
        "id": "kVxAkBme1cJ5"
      },
      "source": [
        "첫 번째 문장을 확인해본 결과, 대체적으로 좋은 성능을 보였다. \n",
        "\n",
        "- 영어 텍스트의 경우 </br>\n",
        "    Miracle을 NNP로 태깅한 것, Han River를 나눈 것, 또한 나누어 River를 NNP로 태깅한 것 외에는 큰 문제가 보이지 않았다. 해당 문제들은 모두 대문자로 시작한 것 때문에 NNP로 태깅한 것으로 보인다. 또한 Han River와 같은 여러 개의 단어로 이루어진 표현들도 문제가 되는 것으로 파악되었다. \n",
        "\n",
        "- 한국어 텍스트의 경우 </br>\n",
        "     - kkma </br>\n",
        "        라인강을 나눈 것, 이룩하다에서 이룩은 어근이지 명사+하다가 아니다. \n",
        "     - hannanum </br>\n",
        "     마찬가지로 이룩을 명사로 본다. \n",
        "\n",
        "\n"
      ]
    },
    {
      "cell_type": "code",
      "metadata": {
        "id": "xf5vdDmm1chM",
        "colab": {
          "base_uri": "https://localhost:8080/",
          "height": 312
        },
        "outputId": "e0a434b8-9e5f-4f6a-ae7c-b6450ab9b309"
      },
      "source": [
        "df2 = pd.DataFrame([eng_data[1], okt[1], kkma[1], hannanum[1]], index=[\"Eng\", \"okt\",\"kkma\", \"hannanum\"])\n",
        "df2"
      ],
      "execution_count": null,
      "outputs": [
        {
          "output_type": "execute_result",
          "data": {
            "text/html": [
              "<div>\n",
              "<style scoped>\n",
              "    .dataframe tbody tr th:only-of-type {\n",
              "        vertical-align: middle;\n",
              "    }\n",
              "\n",
              "    .dataframe tbody tr th {\n",
              "        vertical-align: top;\n",
              "    }\n",
              "\n",
              "    .dataframe thead th {\n",
              "        text-align: right;\n",
              "    }\n",
              "</style>\n",
              "<table border=\"1\" class=\"dataframe\">\n",
              "  <thead>\n",
              "    <tr style=\"text-align: right;\">\n",
              "      <th></th>\n",
              "      <th>0</th>\n",
              "      <th>1</th>\n",
              "      <th>2</th>\n",
              "      <th>3</th>\n",
              "      <th>4</th>\n",
              "      <th>5</th>\n",
              "      <th>6</th>\n",
              "      <th>7</th>\n",
              "      <th>8</th>\n",
              "      <th>9</th>\n",
              "      <th>10</th>\n",
              "      <th>11</th>\n",
              "      <th>12</th>\n",
              "      <th>13</th>\n",
              "      <th>14</th>\n",
              "      <th>15</th>\n",
              "      <th>16</th>\n",
              "      <th>17</th>\n",
              "      <th>18</th>\n",
              "      <th>19</th>\n",
              "      <th>20</th>\n",
              "      <th>21</th>\n",
              "      <th>22</th>\n",
              "      <th>23</th>\n",
              "      <th>24</th>\n",
              "      <th>25</th>\n",
              "      <th>26</th>\n",
              "      <th>27</th>\n",
              "      <th>28</th>\n",
              "      <th>29</th>\n",
              "      <th>30</th>\n",
              "      <th>31</th>\n",
              "      <th>32</th>\n",
              "      <th>33</th>\n",
              "      <th>34</th>\n",
              "      <th>35</th>\n",
              "      <th>36</th>\n",
              "      <th>37</th>\n",
              "      <th>38</th>\n",
              "      <th>39</th>\n",
              "      <th>40</th>\n",
              "      <th>41</th>\n",
              "      <th>42</th>\n",
              "    </tr>\n",
              "  </thead>\n",
              "  <tbody>\n",
              "    <tr>\n",
              "      <th>Eng</th>\n",
              "      <td>(During, IN)</td>\n",
              "      <td>(the, DT)</td>\n",
              "      <td>(past, JJ)</td>\n",
              "      <td>(two, CD)</td>\n",
              "      <td>(years, NNS)</td>\n",
              "      <td>(,, ,)</td>\n",
              "      <td>(Korea, NNP)</td>\n",
              "      <td>(was, VBD)</td>\n",
              "      <td>(hit, VBN)</td>\n",
              "      <td>(with, IN)</td>\n",
              "      <td>(a, DT)</td>\n",
              "      <td>(serious, JJ)</td>\n",
              "      <td>(economic, JJ)</td>\n",
              "      <td>(crisis, NN)</td>\n",
              "      <td>(that, WDT)</td>\n",
              "      <td>(swept, VBD)</td>\n",
              "      <td>(the, DT)</td>\n",
              "      <td>(Asian, JJ)</td>\n",
              "      <td>(region, NN)</td>\n",
              "      <td>(., .)</td>\n",
              "      <td>(Again, NNP)</td>\n",
              "      <td>(,, ,)</td>\n",
              "      <td>(Korea, NNP)</td>\n",
              "      <td>(has, VBZ)</td>\n",
              "      <td>(overcome, VBN)</td>\n",
              "      <td>(the, DT)</td>\n",
              "      <td>(difficulties, NNS)</td>\n",
              "      <td>(in, IN)</td>\n",
              "      <td>(cooperation, NN)</td>\n",
              "      <td>(with, IN)</td>\n",
              "      <td>(Germany, NNP)</td>\n",
              "      <td>(and, CC)</td>\n",
              "      <td>(many, JJ)</td>\n",
              "      <td>(other, JJ)</td>\n",
              "      <td>(friendly, JJ)</td>\n",
              "      <td>(countries, NNS)</td>\n",
              "      <td>(., .)</td>\n",
              "      <td>None</td>\n",
              "      <td>None</td>\n",
              "      <td>None</td>\n",
              "      <td>None</td>\n",
              "      <td>None</td>\n",
              "      <td>None</td>\n",
              "    </tr>\n",
              "    <tr>\n",
              "      <th>okt</th>\n",
              "      <td>(한국, Noun)</td>\n",
              "      <td>(은, Josa)</td>\n",
              "      <td>(지난, Noun)</td>\n",
              "      <td>(2년, Number)</td>\n",
              "      <td>(동안, Noun)</td>\n",
              "      <td>(아시아, Noun)</td>\n",
              "      <td>(지역, Noun)</td>\n",
              "      <td>(을, Josa)</td>\n",
              "      <td>(휩쓴, Adjective)</td>\n",
              "      <td>(경제, Noun)</td>\n",
              "      <td>(적, Suffix)</td>\n",
              "      <td>(위기, Noun)</td>\n",
              "      <td>(를, Josa)</td>\n",
              "      <td>(국민, Noun)</td>\n",
              "      <td>(과, Josa)</td>\n",
              "      <td>(정부, Noun)</td>\n",
              "      <td>(의, Josa)</td>\n",
              "      <td>(헌신, Noun)</td>\n",
              "      <td>(,, Punctuation)</td>\n",
              "      <td>(그리고, Conjunction)</td>\n",
              "      <td>(독일, Noun)</td>\n",
              "      <td>(을, Josa)</td>\n",
              "      <td>(포함, Noun)</td>\n",
              "      <td>(한, Josa)</td>\n",
              "      <td>(국제사회, Noun)</td>\n",
              "      <td>(의, Josa)</td>\n",
              "      <td>(협력, Noun)</td>\n",
              "      <td>(에, Josa)</td>\n",
              "      <td>(힘, Noun)</td>\n",
              "      <td>(입어, Verb)</td>\n",
              "      <td>(성공, Noun)</td>\n",
              "      <td>(적, Suffix)</td>\n",
              "      <td>(으로, Josa)</td>\n",
              "      <td>(극복, Noun)</td>\n",
              "      <td>(하였습니다, Verb)</td>\n",
              "      <td>(., Punctuation)</td>\n",
              "      <td>None</td>\n",
              "      <td>None</td>\n",
              "      <td>None</td>\n",
              "      <td>None</td>\n",
              "      <td>None</td>\n",
              "      <td>None</td>\n",
              "      <td>None</td>\n",
              "    </tr>\n",
              "    <tr>\n",
              "      <th>kkma</th>\n",
              "      <td>(한국, NNG)</td>\n",
              "      <td>(은, JX)</td>\n",
              "      <td>(지나, VV)</td>\n",
              "      <td>(ㄴ, ETD)</td>\n",
              "      <td>(2, NR)</td>\n",
              "      <td>(년, NNM)</td>\n",
              "      <td>(동안, NNG)</td>\n",
              "      <td>(아시아, NNG)</td>\n",
              "      <td>(지역, NNG)</td>\n",
              "      <td>(을, JKO)</td>\n",
              "      <td>(휩쓸, VV)</td>\n",
              "      <td>(ㄴ, ETD)</td>\n",
              "      <td>(경제적, NNG)</td>\n",
              "      <td>(위기, NNG)</td>\n",
              "      <td>(를, JKO)</td>\n",
              "      <td>(국민, NNG)</td>\n",
              "      <td>(과, JC)</td>\n",
              "      <td>(정부, NNG)</td>\n",
              "      <td>(의, JKG)</td>\n",
              "      <td>(헌신, NNG)</td>\n",
              "      <td>(,, SP)</td>\n",
              "      <td>(그리고, MAC)</td>\n",
              "      <td>(독일, NNG)</td>\n",
              "      <td>(을, JKO)</td>\n",
              "      <td>(포함, NNG)</td>\n",
              "      <td>(하, XSV)</td>\n",
              "      <td>(ㄴ, ETD)</td>\n",
              "      <td>(국제, NNG)</td>\n",
              "      <td>(사회, NNG)</td>\n",
              "      <td>(의, JKG)</td>\n",
              "      <td>(협력, NNG)</td>\n",
              "      <td>(에, JKM)</td>\n",
              "      <td>(힘입, VV)</td>\n",
              "      <td>(어, ECD)</td>\n",
              "      <td>(성공적, NNG)</td>\n",
              "      <td>(으로, JKM)</td>\n",
              "      <td>(극복, NNG)</td>\n",
              "      <td>(하, XSV)</td>\n",
              "      <td>(였, EPT)</td>\n",
              "      <td>(습니다, EFN)</td>\n",
              "      <td>(., SF)</td>\n",
              "      <td>None</td>\n",
              "      <td>None</td>\n",
              "    </tr>\n",
              "    <tr>\n",
              "      <th>hannanum</th>\n",
              "      <td>(한국, N)</td>\n",
              "      <td>(은, J)</td>\n",
              "      <td>(지나, P)</td>\n",
              "      <td>(ㄴ, E)</td>\n",
              "      <td>(2년, N)</td>\n",
              "      <td>(동안, N)</td>\n",
              "      <td>(아시아, N)</td>\n",
              "      <td>(지역, N)</td>\n",
              "      <td>(을, J)</td>\n",
              "      <td>(휩쓸, P)</td>\n",
              "      <td>(ㄴ, E)</td>\n",
              "      <td>(경제적, N)</td>\n",
              "      <td>(위, N)</td>\n",
              "      <td>(이, J)</td>\n",
              "      <td>(기, E)</td>\n",
              "      <td>(를, J)</td>\n",
              "      <td>(국민, N)</td>\n",
              "      <td>(과, J)</td>\n",
              "      <td>(정부, N)</td>\n",
              "      <td>(의, J)</td>\n",
              "      <td>(헌신, N)</td>\n",
              "      <td>(,, S)</td>\n",
              "      <td>(그, N)</td>\n",
              "      <td>(이, J)</td>\n",
              "      <td>(리, E)</td>\n",
              "      <td>(고, J)</td>\n",
              "      <td>(독일, N)</td>\n",
              "      <td>(을, J)</td>\n",
              "      <td>(포함, N)</td>\n",
              "      <td>(하, X)</td>\n",
              "      <td>(ㄴ, E)</td>\n",
              "      <td>(국제사회, N)</td>\n",
              "      <td>(의, J)</td>\n",
              "      <td>(협력, N)</td>\n",
              "      <td>(에, J)</td>\n",
              "      <td>(힘입, P)</td>\n",
              "      <td>(어, E)</td>\n",
              "      <td>(성공적, N)</td>\n",
              "      <td>(으로, J)</td>\n",
              "      <td>(극복, N)</td>\n",
              "      <td>(하, X)</td>\n",
              "      <td>(었습니다, E)</td>\n",
              "      <td>(., S)</td>\n",
              "    </tr>\n",
              "  </tbody>\n",
              "</table>\n",
              "</div>"
            ],
            "text/plain": [
              "                    0          1           2   ...       40         41      42\n",
              "Eng       (During, IN)  (the, DT)  (past, JJ)  ...     None       None    None\n",
              "okt         (한국, Noun)  (은, Josa)  (지난, Noun)  ...     None       None    None\n",
              "kkma         (한국, NNG)    (은, JX)    (지나, VV)  ...  (., SF)       None    None\n",
              "hannanum       (한국, N)     (은, J)     (지나, P)  ...   (하, X)  (었습니다, E)  (., S)\n",
              "\n",
              "[4 rows x 43 columns]"
            ]
          },
          "metadata": {
            "tags": []
          },
          "execution_count": 33
        }
      ]
    },
    {
      "cell_type": "markdown",
      "metadata": {
        "id": "QsFfkhUl1jaM"
      },
      "source": [
        "\n",
        "두 번째 문장을 확인해본 결과, 영어는 여전히 좋은 성능을 보이지만, 한국어 형태소 분석기 중 hannanum에서 치명적인 오류가 발견되었다. \n",
        "\n",
        "- 영어 텍스트의 경우 </br>\n",
        "Again은 adverb이다. 그런데 명사로 태깅되었다. \n",
        "\n",
        "- 한국어 텍스트의 경우\n",
        "    - kkma </br>\n",
        "    동안과 아시아가 동일하게 태깅되었다. -적의 경우, 명사와 -적을 나눌 필요가 있으나 형태소 분석 단위에서 이를 수행하지 않았다. \n",
        "    - hannanum </br>\n",
        "    위기라는 명사를 위(N), 이(J), 기(E)로 태깅하였다. \n",
        "    그리고(M)을 그, 이, 리, 고로 나누어 태깅하였다. \n"
      ]
    },
    {
      "cell_type": "code",
      "metadata": {
        "id": "eGWXQ1y-1jsp",
        "colab": {
          "base_uri": "https://localhost:8080/",
          "height": 329
        },
        "outputId": "af1b229b-8a87-446b-8c41-320c08078423"
      },
      "source": [
        "df3 = pd.DataFrame([eng_data[2], okt[2], kkma[2], hannanum[2]], index=[\"Eng\", \"okt\",\"kkma\", \"hannanum\"])\n",
        "df3"
      ],
      "execution_count": null,
      "outputs": [
        {
          "output_type": "execute_result",
          "data": {
            "text/html": [
              "<div>\n",
              "<style scoped>\n",
              "    .dataframe tbody tr th:only-of-type {\n",
              "        vertical-align: middle;\n",
              "    }\n",
              "\n",
              "    .dataframe tbody tr th {\n",
              "        vertical-align: top;\n",
              "    }\n",
              "\n",
              "    .dataframe thead th {\n",
              "        text-align: right;\n",
              "    }\n",
              "</style>\n",
              "<table border=\"1\" class=\"dataframe\">\n",
              "  <thead>\n",
              "    <tr style=\"text-align: right;\">\n",
              "      <th></th>\n",
              "      <th>0</th>\n",
              "      <th>1</th>\n",
              "      <th>2</th>\n",
              "      <th>3</th>\n",
              "      <th>4</th>\n",
              "      <th>5</th>\n",
              "      <th>6</th>\n",
              "      <th>7</th>\n",
              "      <th>8</th>\n",
              "      <th>9</th>\n",
              "      <th>10</th>\n",
              "      <th>11</th>\n",
              "      <th>12</th>\n",
              "      <th>13</th>\n",
              "      <th>14</th>\n",
              "      <th>15</th>\n",
              "      <th>16</th>\n",
              "      <th>17</th>\n",
              "      <th>18</th>\n",
              "      <th>19</th>\n",
              "      <th>20</th>\n",
              "      <th>21</th>\n",
              "      <th>22</th>\n",
              "      <th>23</th>\n",
              "      <th>24</th>\n",
              "      <th>25</th>\n",
              "      <th>26</th>\n",
              "      <th>27</th>\n",
              "      <th>28</th>\n",
              "      <th>29</th>\n",
              "      <th>30</th>\n",
              "      <th>31</th>\n",
              "      <th>32</th>\n",
              "      <th>33</th>\n",
              "      <th>34</th>\n",
              "      <th>35</th>\n",
              "      <th>36</th>\n",
              "      <th>37</th>\n",
              "      <th>38</th>\n",
              "      <th>39</th>\n",
              "      <th>40</th>\n",
              "      <th>41</th>\n",
              "      <th>42</th>\n",
              "      <th>43</th>\n",
              "      <th>44</th>\n",
              "      <th>45</th>\n",
              "    </tr>\n",
              "  </thead>\n",
              "  <tbody>\n",
              "    <tr>\n",
              "      <th>Eng</th>\n",
              "      <td>(When, WRB)</td>\n",
              "      <td>(the, DT)</td>\n",
              "      <td>(foreign, JJ)</td>\n",
              "      <td>(exchange, NN)</td>\n",
              "      <td>(crisis, NN)</td>\n",
              "      <td>(hit, VBD)</td>\n",
              "      <td>(Korea, NNP)</td>\n",
              "      <td>(at, IN)</td>\n",
              "      <td>(the, DT)</td>\n",
              "      <td>(end, NN)</td>\n",
              "      <td>(of, IN)</td>\n",
              "      <td>(1997, CD)</td>\n",
              "      <td>(,, ,)</td>\n",
              "      <td>(the, DT)</td>\n",
              "      <td>(foreign, JJ)</td>\n",
              "      <td>(exchange, NN)</td>\n",
              "      <td>(reserves, NNS)</td>\n",
              "      <td>(had, VBD)</td>\n",
              "      <td>(hit, VBN)</td>\n",
              "      <td>(rock, NN)</td>\n",
              "      <td>(bottom, NN)</td>\n",
              "      <td>(at, IN)</td>\n",
              "      <td>(US, NNP)</td>\n",
              "      <td>($, $)</td>\n",
              "      <td>(3.9, CD)</td>\n",
              "      <td>(billion, CD)</td>\n",
              "      <td>(;, :)</td>\n",
              "      <td>(in, IN)</td>\n",
              "      <td>(a, DT)</td>\n",
              "      <td>(matter, NN)</td>\n",
              "      <td>(of, IN)</td>\n",
              "      <td>(two, CD)</td>\n",
              "      <td>(years, NNS)</td>\n",
              "      <td>(,, ,)</td>\n",
              "      <td>(the, DT)</td>\n",
              "      <td>(figure, NN)</td>\n",
              "      <td>(now, RB)</td>\n",
              "      <td>(stands, VBZ)</td>\n",
              "      <td>(at, IN)</td>\n",
              "      <td>(a, DT)</td>\n",
              "      <td>(respectable, JJ)</td>\n",
              "      <td>(US, NNP)</td>\n",
              "      <td>($, $)</td>\n",
              "      <td>(80, CD)</td>\n",
              "      <td>(billion, CD)</td>\n",
              "      <td>(., .)</td>\n",
              "    </tr>\n",
              "    <tr>\n",
              "      <th>okt</th>\n",
              "      <td>(97년, Number)</td>\n",
              "      <td>(말, Noun)</td>\n",
              "      <td>(39억, Number)</td>\n",
              "      <td>(달러, Noun)</td>\n",
              "      <td>(에, Josa)</td>\n",
              "      <td>(불과했던, Adjective)</td>\n",
              "      <td>(외환보유고, Noun)</td>\n",
              "      <td>(는, Josa)</td>\n",
              "      <td>(이제, Noun)</td>\n",
              "      <td>(800억, Number)</td>\n",
              "      <td>(달러, Noun)</td>\n",
              "      <td>(에, Josa)</td>\n",
              "      <td>(도달, Noun)</td>\n",
              "      <td>(하였습니다, Verb)</td>\n",
              "      <td>(., Punctuation)</td>\n",
              "      <td>None</td>\n",
              "      <td>None</td>\n",
              "      <td>None</td>\n",
              "      <td>None</td>\n",
              "      <td>None</td>\n",
              "      <td>None</td>\n",
              "      <td>None</td>\n",
              "      <td>None</td>\n",
              "      <td>None</td>\n",
              "      <td>None</td>\n",
              "      <td>None</td>\n",
              "      <td>None</td>\n",
              "      <td>None</td>\n",
              "      <td>None</td>\n",
              "      <td>None</td>\n",
              "      <td>None</td>\n",
              "      <td>None</td>\n",
              "      <td>None</td>\n",
              "      <td>None</td>\n",
              "      <td>None</td>\n",
              "      <td>None</td>\n",
              "      <td>None</td>\n",
              "      <td>None</td>\n",
              "      <td>None</td>\n",
              "      <td>None</td>\n",
              "      <td>None</td>\n",
              "      <td>None</td>\n",
              "      <td>None</td>\n",
              "      <td>None</td>\n",
              "      <td>None</td>\n",
              "      <td>None</td>\n",
              "    </tr>\n",
              "    <tr>\n",
              "      <th>kkma</th>\n",
              "      <td>(97, NR)</td>\n",
              "      <td>(년, NNM)</td>\n",
              "      <td>(말, NNG)</td>\n",
              "      <td>(39, NR)</td>\n",
              "      <td>(억, NR)</td>\n",
              "      <td>(달러, NNG)</td>\n",
              "      <td>(에, JKM)</td>\n",
              "      <td>(불과, NNG)</td>\n",
              "      <td>(하, XSV)</td>\n",
              "      <td>(었, EPT)</td>\n",
              "      <td>(더, EPT)</td>\n",
              "      <td>(ㄴ, ETD)</td>\n",
              "      <td>(외환, NNG)</td>\n",
              "      <td>(보유고, NNG)</td>\n",
              "      <td>(는, JX)</td>\n",
              "      <td>(이제, MAG)</td>\n",
              "      <td>(800, NR)</td>\n",
              "      <td>(억, NR)</td>\n",
              "      <td>(달러, NNG)</td>\n",
              "      <td>(에, JKM)</td>\n",
              "      <td>(도달, NNG)</td>\n",
              "      <td>(하, XSV)</td>\n",
              "      <td>(였, EPT)</td>\n",
              "      <td>(습니다, EFN)</td>\n",
              "      <td>(., SF)</td>\n",
              "      <td>None</td>\n",
              "      <td>None</td>\n",
              "      <td>None</td>\n",
              "      <td>None</td>\n",
              "      <td>None</td>\n",
              "      <td>None</td>\n",
              "      <td>None</td>\n",
              "      <td>None</td>\n",
              "      <td>None</td>\n",
              "      <td>None</td>\n",
              "      <td>None</td>\n",
              "      <td>None</td>\n",
              "      <td>None</td>\n",
              "      <td>None</td>\n",
              "      <td>None</td>\n",
              "      <td>None</td>\n",
              "      <td>None</td>\n",
              "      <td>None</td>\n",
              "      <td>None</td>\n",
              "      <td>None</td>\n",
              "      <td>None</td>\n",
              "    </tr>\n",
              "    <tr>\n",
              "      <th>hannanum</th>\n",
              "      <td>(97년, N)</td>\n",
              "      <td>(말, P)</td>\n",
              "      <td>(ㄹ, E)</td>\n",
              "      <td>(39억, N)</td>\n",
              "      <td>(달러, N)</td>\n",
              "      <td>(에, J)</td>\n",
              "      <td>(불과, N)</td>\n",
              "      <td>(하, X)</td>\n",
              "      <td>(었던, E)</td>\n",
              "      <td>(외환보유고, N)</td>\n",
              "      <td>(는, J)</td>\n",
              "      <td>(이제, M)</td>\n",
              "      <td>(800억, N)</td>\n",
              "      <td>(달러, N)</td>\n",
              "      <td>(에, J)</td>\n",
              "      <td>(도달, N)</td>\n",
              "      <td>(하, X)</td>\n",
              "      <td>(었습니다, E)</td>\n",
              "      <td>(., S)</td>\n",
              "      <td>None</td>\n",
              "      <td>None</td>\n",
              "      <td>None</td>\n",
              "      <td>None</td>\n",
              "      <td>None</td>\n",
              "      <td>None</td>\n",
              "      <td>None</td>\n",
              "      <td>None</td>\n",
              "      <td>None</td>\n",
              "      <td>None</td>\n",
              "      <td>None</td>\n",
              "      <td>None</td>\n",
              "      <td>None</td>\n",
              "      <td>None</td>\n",
              "      <td>None</td>\n",
              "      <td>None</td>\n",
              "      <td>None</td>\n",
              "      <td>None</td>\n",
              "      <td>None</td>\n",
              "      <td>None</td>\n",
              "      <td>None</td>\n",
              "      <td>None</td>\n",
              "      <td>None</td>\n",
              "      <td>None</td>\n",
              "      <td>None</td>\n",
              "      <td>None</td>\n",
              "      <td>None</td>\n",
              "    </tr>\n",
              "  </tbody>\n",
              "</table>\n",
              "</div>"
            ],
            "text/plain": [
              "                     0          1   ...             44      45\n",
              "Eng         (When, WRB)  (the, DT)  ...  (billion, CD)  (., .)\n",
              "okt       (97년, Number)  (말, Noun)  ...           None    None\n",
              "kkma           (97, NR)   (년, NNM)  ...           None    None\n",
              "hannanum       (97년, N)     (말, P)  ...           None    None\n",
              "\n",
              "[4 rows x 46 columns]"
            ]
          },
          "metadata": {
            "tags": []
          },
          "execution_count": 25
        }
      ]
    },
    {
      "cell_type": "markdown",
      "metadata": {
        "id": "ueFjXNyD1kom"
      },
      "source": [
        "\n",
        "- 영어 텍스트의 경우\n",
        "     큰 오류를 찾지 못하였다. \n",
        "\n",
        "- 한국어 텍스트의 경우\n",
        "    - kkma\n",
        "        과거를 나타내는 어미 '-던'을 더와 ㄴ으로 나누었다. \n",
        "    - hannanum\n",
        "    end를 뜻하는 명사 '말'을 용언으로 태깅하였다. 또한 이를 용언으로 태깅해, ㄹ을 추가하였다. "
      ]
    },
    {
      "cell_type": "markdown",
      "metadata": {
        "id": "lm0LXLTcAhVN"
      },
      "source": [
        "## 4. 평가\n",
        "\n",
        "전반적으로 영어와 한국어 형태소 분석기 모두 성능이 괜찮다는 것을 확인할 수 있었다. 그러나, 가끔씩 오류가 발생하였다. \n",
        "\n",
        "특히 주목해야 할 점은 '-기'와 '-하다' 그리고 여러 개의 단어가 합쳐져 고유한 의미를 가지는 단어들이다. 위의 예시들을 보면 알 수 있듯, '위기'와 같은 오류는 위기를 위 + '-기'로 파악한 결과로 보이며, 예측하건데 명사형 전성어미로 파악한 것같다. 또한, 이룩하다를 어근 이룩과 하다가 아닌 도달하다와 같이 도달+하다로 해석하였다. 이는 모두 규칙 기반에 의한 것으로 보인다. 영어와 한국어의 공통적인 오류는 '한강'과 같은 명사를 나누는데서 발생했다. \n",
        "\n",
        "이에 대한 해결책으로는 사전 정보를 더욱 적극적으로 활용하는 것이다. '이룩'이라는 명사가 없으면 수정하는 식으로 개선할 수 있을 것 같다."
      ]
    }
  ]
}